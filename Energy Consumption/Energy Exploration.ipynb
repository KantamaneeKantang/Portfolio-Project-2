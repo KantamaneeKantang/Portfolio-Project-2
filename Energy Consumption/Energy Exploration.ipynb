{
    "metadata": {
        "kernelspec": {
            "name": "SQL",
            "display_name": "SQL",
            "language": "sql"
        },
        "language_info": {
            "name": "sql",
            "version": ""
        }
    },
    "nbformat_minor": 2,
    "nbformat": 4,
    "cells": [
        {
            "cell_type": "markdown",
            "source": [
                "_Energy_"
            ],
            "metadata": {
                "language": "sql",
                "azdata_cell_guid": "de731a52-2485-43f9-9afb-b402de31bc37"
            },
            "attachments": {}
        },
        {
            "cell_type": "markdown",
            "source": [
                "# **Data Exploration in Energy**"
            ],
            "metadata": {
                "language": "sql",
                "azdata_cell_guid": "97b70234-cfaa-45b5-8f32-9904b86a4594"
            },
            "attachments": {}
        },
        {
            "cell_type": "markdown",
            "source": [
                "## **Selected Energy Dataset**\n",
                "\n",
                "To make sure that everyone in the world has access to clean and safe energy, we need to understand energy consumption and its impacts around the world today and how this has changed over time. In this project, we will explore the world energy consumption with highlighting on Thailand and compare some data with the electricity accessing dataset.\n",
                "\n",
                "A detailed description of the dataset of energy can be found on [Our World in data's website](https:\\ourworldindata.org\\energy), and the electricity accessing [here](https:\\ourworldindata.org\\number-without-electricity), but to summarize, the dataset has the variables following file named _code book.xlsx._"
            ],
            "metadata": {
                "language": "sql",
                "azdata_cell_guid": "355cff10-46af-4bdc-a603-89b990fa9ef3"
            },
            "attachments": {}
        },
        {
            "cell_type": "markdown",
            "source": [
                "## **Objective:**\n",
                "\n",
                "We are going to access data and find the answers to questions as following:\n",
                "\n",
                "1\\. Exploring Data\n",
                "\n",
                "2\\. Cleaning Data\n",
                "\n",
                "3\\. Data Exploration\n",
                "\n",
                "- Which country is the most comsuming energy in year 2021?\n",
                "- Which country is the most generating electricity in year 2021?\n",
                "- What is the proportion of Electricity Demand compared to Electric Generation in Thailand?\n",
                "- How is the trend of highest Energy Comsumption compared with Population in Thailand?\n",
                "- Which counties own decreases annual percentage changed in energy consumption in year 2021?\n",
                "- How is the comparing between green house emission and GDP per capital?\n",
                "- What is carbon intensity trend in China, Thailand and USA over the period?\n",
                "- How is the pattern comparing between GDP and Accessing Electricity? (joining with electicity accessing table)\n",
                "- How is the percentage of People Accessing Electricity compared to Poppulation? (joining with electicity accessing table)\n",
                "\n",
                "4\\. Visualization in Power BI"
            ],
            "metadata": {
                "language": "sql",
                "azdata_cell_guid": "0b70e406-55d9-4dae-b2fa-387f01ecbb54"
            },
            "attachments": {}
        },
        {
            "cell_type": "markdown",
            "source": [
                "## **1\\. Exploring Data**"
            ],
            "metadata": {
                "language": "sql",
                "azdata_cell_guid": "fce578e1-3ba8-4f26-be1b-dad7fbbd941c"
            },
            "attachments": {}
        },
        {
            "cell_type": "markdown",
            "source": [
                "### **Exploring all columns**"
            ],
            "metadata": {
                "language": "sql",
                "azdata_cell_guid": "7c1dbccd-9ff6-46a8-8a1d-579fbfff7343"
            },
            "attachments": {}
        },
        {
            "cell_type": "code",
            "source": [
                "--- See first 10 rows\r\n",
                "\r\n",
                "SELECT TOP 10 *\r\n",
                "FROM Energy"
            ],
            "metadata": {
                "language": "sql",
                "azdata_cell_guid": "0e50f644-d13e-41a2-a819-19df9929e9fa"
            },
            "outputs": [
                {
                    "output_type": "display_data",
                    "data": {
                        "text/html": "(10 rows affected)"
                    },
                    "metadata": {}
                },
                {
                    "output_type": "display_data",
                    "data": {
                        "text/html": "Total execution time: 00:00:00.170"
                    },
                    "metadata": {}
                },
                {
                    "output_type": "execute_result",
                    "execution_count": 23,
                    "data": {
                        "application/vnd.dataresource+json": {
                            "schema": {
                                "fields": [
                                    {
                                        "name": "country"
                                    },
                                    {
                                        "name": "year"
                                    },
                                    {
                                        "name": "iso_code"
                                    },
                                    {
                                        "name": "population"
                                    },
                                    {
                                        "name": "gdp"
                                    },
                                    {
                                        "name": "biofuel_cons_change_pct"
                                    },
                                    {
                                        "name": "biofuel_cons_change_twh"
                                    },
                                    {
                                        "name": "biofuel_cons_per_capita"
                                    },
                                    {
                                        "name": "biofuel_consumption"
                                    },
                                    {
                                        "name": "biofuel_elec_per_capita"
                                    },
                                    {
                                        "name": "biofuel_electricity"
                                    },
                                    {
                                        "name": "biofuel_share_elec"
                                    },
                                    {
                                        "name": "biofuel_share_energy"
                                    },
                                    {
                                        "name": "carbon_intensity_elec"
                                    },
                                    {
                                        "name": "coal_cons_change_pct"
                                    },
                                    {
                                        "name": "coal_cons_change_twh"
                                    },
                                    {
                                        "name": "coal_cons_per_capita"
                                    },
                                    {
                                        "name": "coal_consumption"
                                    },
                                    {
                                        "name": "coal_elec_per_capita"
                                    },
                                    {
                                        "name": "coal_electricity"
                                    },
                                    {
                                        "name": "coal_prod_change_pct"
                                    },
                                    {
                                        "name": "coal_prod_change_twh"
                                    },
                                    {
                                        "name": "coal_prod_per_capita"
                                    },
                                    {
                                        "name": "coal_production"
                                    },
                                    {
                                        "name": "coal_share_elec"
                                    },
                                    {
                                        "name": "coal_share_energy"
                                    },
                                    {
                                        "name": "electricity_demand"
                                    },
                                    {
                                        "name": "electricity_generation"
                                    },
                                    {
                                        "name": "electricity_share_energy"
                                    },
                                    {
                                        "name": "energy_cons_change_pct"
                                    },
                                    {
                                        "name": "energy_cons_change_twh"
                                    },
                                    {
                                        "name": "energy_per_capita"
                                    },
                                    {
                                        "name": "energy_per_gdp"
                                    },
                                    {
                                        "name": "fossil_cons_change_pct"
                                    },
                                    {
                                        "name": "fossil_cons_change_twh"
                                    },
                                    {
                                        "name": "fossil_elec_per_capita"
                                    },
                                    {
                                        "name": "fossil_electricity"
                                    },
                                    {
                                        "name": "fossil_energy_per_capita"
                                    },
                                    {
                                        "name": "fossil_fuel_consumption"
                                    },
                                    {
                                        "name": "fossil_share_elec"
                                    },
                                    {
                                        "name": "fossil_share_energy"
                                    },
                                    {
                                        "name": "gas_cons_change_pct"
                                    },
                                    {
                                        "name": "gas_cons_change_twh"
                                    },
                                    {
                                        "name": "gas_consumption"
                                    },
                                    {
                                        "name": "gas_elec_per_capita"
                                    },
                                    {
                                        "name": "gas_electricity"
                                    },
                                    {
                                        "name": "gas_energy_per_capita"
                                    },
                                    {
                                        "name": "gas_prod_change_pct"
                                    },
                                    {
                                        "name": "gas_prod_change_twh"
                                    },
                                    {
                                        "name": "gas_prod_per_capita"
                                    },
                                    {
                                        "name": "gas_production"
                                    },
                                    {
                                        "name": "gas_share_elec"
                                    },
                                    {
                                        "name": "gas_share_energy"
                                    },
                                    {
                                        "name": "greenhouse_gas_emissions"
                                    },
                                    {
                                        "name": "hydro_cons_change_pct"
                                    },
                                    {
                                        "name": "hydro_cons_change_twh"
                                    },
                                    {
                                        "name": "hydro_consumption"
                                    },
                                    {
                                        "name": "hydro_elec_per_capita"
                                    },
                                    {
                                        "name": "hydro_electricity"
                                    },
                                    {
                                        "name": "hydro_energy_per_capita"
                                    },
                                    {
                                        "name": "hydro_share_elec"
                                    },
                                    {
                                        "name": "hydro_share_energy"
                                    },
                                    {
                                        "name": "low_carbon_cons_change_pct"
                                    },
                                    {
                                        "name": "low_carbon_cons_change_twh"
                                    },
                                    {
                                        "name": "low_carbon_consumption"
                                    },
                                    {
                                        "name": "low_carbon_elec_per_capita"
                                    },
                                    {
                                        "name": "low_carbon_electricity"
                                    },
                                    {
                                        "name": "low_carbon_energy_per_capita"
                                    },
                                    {
                                        "name": "low_carbon_share_elec"
                                    },
                                    {
                                        "name": "low_carbon_share_energy"
                                    },
                                    {
                                        "name": "net_elec_imports"
                                    },
                                    {
                                        "name": "net_elec_imports_share_demand"
                                    },
                                    {
                                        "name": "nuclear_cons_change_pct"
                                    },
                                    {
                                        "name": "nuclear_cons_change_twh"
                                    },
                                    {
                                        "name": "nuclear_consumption"
                                    },
                                    {
                                        "name": "nuclear_elec_per_capita"
                                    },
                                    {
                                        "name": "nuclear_electricity"
                                    },
                                    {
                                        "name": "nuclear_energy_per_capita"
                                    },
                                    {
                                        "name": "nuclear_share_elec"
                                    },
                                    {
                                        "name": "nuclear_share_energy"
                                    },
                                    {
                                        "name": "oil_cons_change_pct"
                                    },
                                    {
                                        "name": "oil_cons_change_twh"
                                    },
                                    {
                                        "name": "oil_consumption"
                                    },
                                    {
                                        "name": "oil_elec_per_capita"
                                    },
                                    {
                                        "name": "oil_electricity"
                                    },
                                    {
                                        "name": "oil_energy_per_capita"
                                    },
                                    {
                                        "name": "oil_prod_change_pct"
                                    },
                                    {
                                        "name": "oil_prod_change_twh"
                                    },
                                    {
                                        "name": "oil_prod_per_capita"
                                    },
                                    {
                                        "name": "oil_production"
                                    },
                                    {
                                        "name": "oil_share_elec"
                                    },
                                    {
                                        "name": "oil_share_energy"
                                    },
                                    {
                                        "name": "other_renewable_consumption"
                                    },
                                    {
                                        "name": "other_renewable_electricity"
                                    },
                                    {
                                        "name": "other_renewable_exc_biofuel_electricity"
                                    },
                                    {
                                        "name": "other_renewables_cons_change_pct"
                                    },
                                    {
                                        "name": "other_renewables_cons_change_twh"
                                    },
                                    {
                                        "name": "other_renewables_elec_per_capita"
                                    },
                                    {
                                        "name": "other_renewables_elec_per_capita_exc_biofuel"
                                    },
                                    {
                                        "name": "other_renewables_energy_per_capita"
                                    },
                                    {
                                        "name": "other_renewables_share_elec"
                                    },
                                    {
                                        "name": "other_renewables_share_elec_exc_biofuel"
                                    },
                                    {
                                        "name": "other_renewables_share_energy"
                                    },
                                    {
                                        "name": "per_capita_electricity"
                                    },
                                    {
                                        "name": "primary_energy_consumption"
                                    },
                                    {
                                        "name": "renewables_cons_change_pct"
                                    },
                                    {
                                        "name": "renewables_cons_change_twh"
                                    },
                                    {
                                        "name": "renewables_consumption"
                                    },
                                    {
                                        "name": "renewables_elec_per_capita"
                                    },
                                    {
                                        "name": "renewables_electricity"
                                    },
                                    {
                                        "name": "renewables_energy_per_capita"
                                    },
                                    {
                                        "name": "renewables_share_elec"
                                    },
                                    {
                                        "name": "renewables_share_energy"
                                    },
                                    {
                                        "name": "solar_cons_change_pct"
                                    },
                                    {
                                        "name": "solar_cons_change_twh"
                                    },
                                    {
                                        "name": "solar_consumption"
                                    },
                                    {
                                        "name": "solar_elec_per_capita"
                                    },
                                    {
                                        "name": "solar_electricity"
                                    },
                                    {
                                        "name": "solar_energy_per_capita"
                                    },
                                    {
                                        "name": "solar_share_elec"
                                    },
                                    {
                                        "name": "solar_share_energy"
                                    },
                                    {
                                        "name": "wind_cons_change_pct"
                                    },
                                    {
                                        "name": "wind_cons_change_twh"
                                    },
                                    {
                                        "name": "wind_consumption"
                                    },
                                    {
                                        "name": "wind_elec_per_capita"
                                    },
                                    {
                                        "name": "wind_electricity"
                                    },
                                    {
                                        "name": "wind_energy_per_capita"
                                    },
                                    {
                                        "name": "wind_share_elec"
                                    },
                                    {
                                        "name": "wind_share_energy"
                                    }
                                ]
                            },
                            "data": [
                                {
                                    "0": "Non-OECD (BP)",
                                    "1": "1972",
                                    "2": "NULL",
                                    "3": "NULL",
                                    "4": "NULL",
                                    "5": "11.14",
                                    "6": "1.30",
                                    "7": "NULL",
                                    "8": "12.95",
                                    "9": "NULL",
                                    "10": "NULL",
                                    "11": "NULL",
                                    "12": "0.07",
                                    "13": "NULL",
                                    "14": "3.58",
                                    "15": "263.08",
                                    "16": "NULL",
                                    "17": "7618.44",
                                    "18": "NULL",
                                    "19": "NULL",
                                    "20": "NULL",
                                    "21": "NULL",
                                    "22": "NULL",
                                    "23": "NULL",
                                    "24": "NULL",
                                    "25": "39.47",
                                    "26": "NULL",
                                    "27": "NULL",
                                    "28": "NULL",
                                    "29": "6.02",
                                    "30": "1095.98",
                                    "31": "NULL",
                                    "32": "NULL",
                                    "33": "5.98",
                                    "34": "1027.40",
                                    "35": "NULL",
                                    "36": "NULL",
                                    "37": "NULL",
                                    "38": "18221.74",
                                    "39": "NULL",
                                    "40": "94.41",
                                    "41": "5.72",
                                    "42": "155.14",
                                    "43": "2868.95",
                                    "44": "NULL",
                                    "45": "NULL",
                                    "46": "NULL",
                                    "47": "6.65",
                                    "48": "183.228",
                                    "49": "NULL",
                                    "50": "2940.357",
                                    "51": "NULL",
                                    "52": "14.87",
                                    "53": "NULL",
                                    "54": "5.58",
                                    "55": "54.28",
                                    "56": "1026.91",
                                    "57": "NULL",
                                    "58": "347.28",
                                    "59": "NULL",
                                    "60": "NULL",
                                    "61": "5.32",
                                    "62": "6.94",
                                    "63": "68.58",
                                    "64": "1078.35",
                                    "65": "NULL",
                                    "66": "360.57",
                                    "67": "NULL",
                                    "68": "NULL",
                                    "69": "5.59",
                                    "70": "NULL",
                                    "71": "NULL",
                                    "72": "71.05",
                                    "73": "13.00",
                                    "74": "31.31",
                                    "75": "NULL",
                                    "76": "11.03",
                                    "77": "NULL",
                                    "78": "NULL",
                                    "79": "0.16",
                                    "80": "8.55",
                                    "81": "609.18",
                                    "82": "7734.35",
                                    "83": "NULL",
                                    "84": "NULL",
                                    "85": "NULL",
                                    "86": "6.98",
                                    "87": "1474.16",
                                    "88": "NULL",
                                    "89": "22599.12",
                                    "90": "NULL",
                                    "91": "40.07",
                                    "92": "7.18",
                                    "93": "2.25",
                                    "94": "NULL",
                                    "95": "-0.04",
                                    "96": "-0.00",
                                    "97": "NULL",
                                    "98": "NULL",
                                    "99": "NULL",
                                    "100": "NULL",
                                    "101": "NULL",
                                    "102": "0.04",
                                    "103": "NULL",
                                    "104": "19300.09",
                                    "105": "5.73",
                                    "106": "55.57",
                                    "107": "1047.04",
                                    "108": "NULL",
                                    "109": "349.53",
                                    "110": "NULL",
                                    "111": "NULL",
                                    "112": "5.43",
                                    "113": "NULL",
                                    "114": "0.00",
                                    "115": "0.00",
                                    "116": "NULL",
                                    "117": "0.00",
                                    "118": "NULL",
                                    "119": "NULL",
                                    "120": "0.00",
                                    "121": "NULL",
                                    "122": "0.00",
                                    "123": "0.00",
                                    "124": "NULL",
                                    "125": "0.00",
                                    "126": "NULL",
                                    "127": "NULL",
                                    "128": "0.00"
                                },
                                {
                                    "0": "Non-OECD (BP)",
                                    "1": "1973",
                                    "2": "NULL",
                                    "3": "NULL",
                                    "4": "NULL",
                                    "5": "-2.78",
                                    "6": "-0.36",
                                    "7": "NULL",
                                    "8": "12.59",
                                    "9": "NULL",
                                    "10": "NULL",
                                    "11": "NULL",
                                    "12": "0.06",
                                    "13": "NULL",
                                    "14": "1.58",
                                    "15": "120.01",
                                    "16": "NULL",
                                    "17": "7738.45",
                                    "18": "NULL",
                                    "19": "NULL",
                                    "20": "NULL",
                                    "21": "NULL",
                                    "22": "NULL",
                                    "23": "NULL",
                                    "24": "NULL",
                                    "25": "37.75",
                                    "26": "NULL",
                                    "27": "NULL",
                                    "28": "NULL",
                                    "29": "6.21",
                                    "30": "1197.90",
                                    "31": "NULL",
                                    "32": "NULL",
                                    "33": "6.22",
                                    "34": "1133.79",
                                    "35": "NULL",
                                    "36": "NULL",
                                    "37": "NULL",
                                    "38": "19355.53",
                                    "39": "NULL",
                                    "40": "94.43",
                                    "41": "10.29",
                                    "42": "295.18",
                                    "43": "3164.13",
                                    "44": "NULL",
                                    "45": "NULL",
                                    "46": "NULL",
                                    "47": "9.77",
                                    "48": "287.162",
                                    "49": "NULL",
                                    "50": "3227.518",
                                    "51": "NULL",
                                    "52": "15.44",
                                    "53": "NULL",
                                    "54": "4.67",
                                    "55": "47.96",
                                    "56": "1074.87",
                                    "57": "NULL",
                                    "58": "363.50",
                                    "59": "NULL",
                                    "60": "NULL",
                                    "61": "5.24",
                                    "62": "5.80",
                                    "63": "64.11",
                                    "64": "1142.46",
                                    "65": "NULL",
                                    "66": "382.59",
                                    "67": "NULL",
                                    "68": "NULL",
                                    "69": "5.57",
                                    "70": "NULL",
                                    "71": "NULL",
                                    "72": "51.27",
                                    "73": "16.05",
                                    "74": "47.36",
                                    "75": "NULL",
                                    "76": "16.69",
                                    "77": "NULL",
                                    "78": "NULL",
                                    "79": "0.23",
                                    "80": "9.29",
                                    "81": "718.60",
                                    "82": "8452.95",
                                    "83": "NULL",
                                    "84": "NULL",
                                    "85": "NULL",
                                    "86": "12.14",
                                    "87": "2742.38",
                                    "88": "NULL",
                                    "89": "25341.50",
                                    "90": "NULL",
                                    "91": "41.24",
                                    "92": "7.65",
                                    "93": "2.40",
                                    "94": "NULL",
                                    "95": "6.45",
                                    "96": "0.46",
                                    "97": "NULL",
                                    "98": "NULL",
                                    "99": "NULL",
                                    "100": "NULL",
                                    "101": "NULL",
                                    "102": "0.04",
                                    "103": "NULL",
                                    "104": "20497.99",
                                    "105": "4.42",
                                    "106": "48.06",
                                    "107": "1095.10",
                                    "108": "NULL",
                                    "109": "365.90",
                                    "110": "NULL",
                                    "111": "NULL",
                                    "112": "5.34",
                                    "113": "NULL",
                                    "114": "0.00",
                                    "115": "0.00",
                                    "116": "NULL",
                                    "117": "0.00",
                                    "118": "NULL",
                                    "119": "NULL",
                                    "120": "0.00",
                                    "121": "NULL",
                                    "122": "0.00",
                                    "123": "0.00",
                                    "124": "NULL",
                                    "125": "0.00",
                                    "126": "NULL",
                                    "127": "NULL",
                                    "128": "0.00"
                                },
                                {
                                    "0": "Non-OECD (BP)",
                                    "1": "1974",
                                    "2": "NULL",
                                    "3": "NULL",
                                    "4": "NULL",
                                    "5": "-3.33",
                                    "6": "-0.42",
                                    "7": "NULL",
                                    "8": "12.17",
                                    "9": "NULL",
                                    "10": "NULL",
                                    "11": "NULL",
                                    "12": "0.06",
                                    "13": "NULL",
                                    "14": "1.21",
                                    "15": "93.32",
                                    "16": "NULL",
                                    "17": "7831.77",
                                    "18": "NULL",
                                    "19": "NULL",
                                    "20": "NULL",
                                    "21": "NULL",
                                    "22": "NULL",
                                    "23": "NULL",
                                    "24": "NULL",
                                    "25": "36.47",
                                    "26": "NULL",
                                    "27": "NULL",
                                    "28": "NULL",
                                    "29": "4.78",
                                    "30": "979.69",
                                    "31": "NULL",
                                    "32": "NULL",
                                    "33": "4.35",
                                    "34": "842.53",
                                    "35": "NULL",
                                    "36": "NULL",
                                    "37": "NULL",
                                    "38": "20198.06",
                                    "39": "NULL",
                                    "40": "94.04",
                                    "41": "6.78",
                                    "42": "214.47",
                                    "43": "3378.60",
                                    "44": "NULL",
                                    "45": "NULL",
                                    "46": "NULL",
                                    "47": "9.82",
                                    "48": "317.106",
                                    "49": "NULL",
                                    "50": "3544.625",
                                    "51": "NULL",
                                    "52": "15.73",
                                    "53": "NULL",
                                    "54": "10.36",
                                    "55": "111.40",
                                    "56": "1186.27",
                                    "57": "NULL",
                                    "58": "401.17",
                                    "59": "NULL",
                                    "60": "NULL",
                                    "61": "5.52",
                                    "62": "11.76",
                                    "63": "137.16",
                                    "64": "1279.62",
                                    "65": "NULL",
                                    "66": "429.47",
                                    "67": "NULL",
                                    "68": "NULL",
                                    "69": "5.96",
                                    "70": "NULL",
                                    "71": "NULL",
                                    "72": "54.47",
                                    "73": "25.79",
                                    "74": "73.15",
                                    "75": "NULL",
                                    "76": "25.78",
                                    "77": "NULL",
                                    "78": "NULL",
                                    "79": "0.34",
                                    "80": "6.33",
                                    "81": "534.73",
                                    "82": "8987.68",
                                    "83": "NULL",
                                    "84": "NULL",
                                    "85": "NULL",
                                    "86": "1.37",
                                    "87": "347.67",
                                    "88": "NULL",
                                    "89": "25689.17",
                                    "90": "NULL",
                                    "91": "41.85",
                                    "92": "8.04",
                                    "93": "2.52",
                                    "94": "NULL",
                                    "95": "5.11",
                                    "96": "0.39",
                                    "97": "NULL",
                                    "98": "NULL",
                                    "99": "NULL",
                                    "100": "NULL",
                                    "101": "NULL",
                                    "102": "0.04",
                                    "103": "NULL",
                                    "104": "21477.68",
                                    "105": "9.88",
                                    "106": "111.37",
                                    "107": "1206.47",
                                    "108": "NULL",
                                    "109": "403.69",
                                    "110": "NULL",
                                    "111": "NULL",
                                    "112": "5.62",
                                    "113": "NULL",
                                    "114": "0.00",
                                    "115": "0.00",
                                    "116": "NULL",
                                    "117": "0.00",
                                    "118": "NULL",
                                    "119": "NULL",
                                    "120": "0.00",
                                    "121": "NULL",
                                    "122": "0.00",
                                    "123": "0.00",
                                    "124": "NULL",
                                    "125": "0.00",
                                    "126": "NULL",
                                    "127": "NULL",
                                    "128": "0.00"
                                },
                                {
                                    "0": "Non-OECD (BP)",
                                    "1": "1975",
                                    "2": "NULL",
                                    "3": "NULL",
                                    "4": "NULL",
                                    "5": "-5.65",
                                    "6": "-0.69",
                                    "7": "NULL",
                                    "8": "11.48",
                                    "9": "NULL",
                                    "10": "NULL",
                                    "11": "NULL",
                                    "12": "0.05",
                                    "13": "NULL",
                                    "14": "6.65",
                                    "15": "520.43",
                                    "16": "NULL",
                                    "17": "8352.21",
                                    "18": "NULL",
                                    "19": "NULL",
                                    "20": "NULL",
                                    "21": "NULL",
                                    "22": "NULL",
                                    "23": "NULL",
                                    "24": "NULL",
                                    "25": "36.76",
                                    "26": "NULL",
                                    "27": "NULL",
                                    "28": "NULL",
                                    "29": "5.80",
                                    "30": "1245.46",
                                    "31": "NULL",
                                    "32": "NULL",
                                    "33": "5.77",
                                    "34": "1166.25",
                                    "35": "NULL",
                                    "36": "NULL",
                                    "37": "NULL",
                                    "38": "21364.30",
                                    "39": "NULL",
                                    "40": "94.02",
                                    "41": "9.21",
                                    "42": "311.24",
                                    "43": "3689.84",
                                    "44": "NULL",
                                    "45": "NULL",
                                    "46": "NULL",
                                    "47": "10.30",
                                    "48": "365.179",
                                    "49": "NULL",
                                    "50": "3909.804",
                                    "51": "NULL",
                                    "52": "16.24",
                                    "53": "NULL",
                                    "54": "4.11",
                                    "55": "48.73",
                                    "56": "1234.99",
                                    "57": "NULL",
                                    "58": "417.65",
                                    "59": "NULL",
                                    "60": "NULL",
                                    "61": "5.44",
                                    "62": "6.06",
                                    "63": "79.22",
                                    "64": "1358.84",
                                    "65": "NULL",
                                    "66": "456.92",
                                    "67": "NULL",
                                    "68": "NULL",
                                    "69": "5.98",
                                    "70": "NULL",
                                    "71": "NULL",
                                    "72": "41.45",
                                    "73": "30.32",
                                    "74": "103.47",
                                    "75": "NULL",
                                    "76": "36.47",
                                    "77": "NULL",
                                    "78": "NULL",
                                    "79": "0.46",
                                    "80": "3.72",
                                    "81": "334.57",
                                    "82": "9322.25",
                                    "83": "NULL",
                                    "84": "NULL",
                                    "85": "NULL",
                                    "86": "-5.74",
                                    "87": "-1475.32",
                                    "88": "NULL",
                                    "89": "24213.85",
                                    "90": "NULL",
                                    "91": "41.03",
                                    "92": "8.90",
                                    "93": "2.81",
                                    "94": "NULL",
                                    "95": "11.40",
                                    "96": "0.86",
                                    "97": "NULL",
                                    "98": "NULL",
                                    "99": "NULL",
                                    "100": "NULL",
                                    "101": "NULL",
                                    "102": "0.04",
                                    "103": "NULL",
                                    "104": "22723.14",
                                    "105": "3.87",
                                    "106": "48.90",
                                    "107": "1255.37",
                                    "108": "NULL",
                                    "109": "420.46",
                                    "110": "NULL",
                                    "111": "NULL",
                                    "112": "5.53",
                                    "113": "NULL",
                                    "114": "0.00",
                                    "115": "0.00",
                                    "116": "NULL",
                                    "117": "0.00",
                                    "118": "NULL",
                                    "119": "NULL",
                                    "120": "0.00",
                                    "121": "NULL",
                                    "122": "0.00",
                                    "123": "0.00",
                                    "124": "NULL",
                                    "125": "0.00",
                                    "126": "NULL",
                                    "127": "NULL",
                                    "128": "0.00"
                                },
                                {
                                    "0": "Non-OECD (BP)",
                                    "1": "1976",
                                    "2": "NULL",
                                    "3": "NULL",
                                    "4": "NULL",
                                    "5": "3.39",
                                    "6": "0.39",
                                    "7": "NULL",
                                    "8": "11.87",
                                    "9": "NULL",
                                    "10": "NULL",
                                    "11": "NULL",
                                    "12": "0.05",
                                    "13": "NULL",
                                    "14": "1.57",
                                    "15": "131.32",
                                    "16": "NULL",
                                    "17": "8483.52",
                                    "18": "NULL",
                                    "19": "NULL",
                                    "20": "NULL",
                                    "21": "NULL",
                                    "22": "NULL",
                                    "23": "NULL",
                                    "24": "NULL",
                                    "25": "35.42",
                                    "26": "NULL",
                                    "27": "NULL",
                                    "28": "NULL",
                                    "29": "5.41",
                                    "30": "1228.25",
                                    "31": "NULL",
                                    "32": "NULL",
                                    "33": "5.15",
                                    "34": "1100.36",
                                    "35": "NULL",
                                    "36": "NULL",
                                    "37": "NULL",
                                    "38": "22464.66",
                                    "39": "NULL",
                                    "40": "93.79",
                                    "41": "10.69",
                                    "42": "394.50",
                                    "43": "4084.34",
                                    "44": "NULL",
                                    "45": "NULL",
                                    "46": "NULL",
                                    "47": "10.83",
                                    "48": "423.426",
                                    "49": "NULL",
                                    "50": "4333.229",
                                    "51": "NULL",
                                    "52": "17.05",
                                    "53": "NULL",
                                    "54": "7.36",
                                    "55": "90.83",
                                    "56": "1325.82",
                                    "57": "NULL",
                                    "58": "448.37",
                                    "59": "NULL",
                                    "60": "NULL",
                                    "61": "5.54",
                                    "62": "9.40",
                                    "63": "127.88",
                                    "64": "1486.72",
                                    "65": "NULL",
                                    "66": "500.55",
                                    "67": "NULL",
                                    "68": "NULL",
                                    "69": "6.21",
                                    "70": "NULL",
                                    "71": "NULL",
                                    "72": "34.12",
                                    "73": "35.30",
                                    "74": "138.77",
                                    "75": "NULL",
                                    "76": "48.91",
                                    "77": "NULL",
                                    "78": "NULL",
                                    "79": "0.58",
                                    "80": "6.16",
                                    "81": "574.55",
                                    "82": "9896.80",
                                    "83": "NULL",
                                    "84": "NULL",
                                    "85": "NULL",
                                    "86": "11.33",
                                    "87": "2742.22",
                                    "88": "NULL",
                                    "89": "26956.07",
                                    "90": "NULL",
                                    "91": "41.32",
                                    "92": "10.26",
                                    "93": "3.27",
                                    "94": "NULL",
                                    "95": "16.69",
                                    "96": "1.37",
                                    "97": "NULL",
                                    "98": "NULL",
                                    "99": "NULL",
                                    "100": "NULL",
                                    "101": "NULL",
                                    "102": "0.04",
                                    "103": "NULL",
                                    "104": "23951.39",
                                    "105": "7.31",
                                    "106": "92.58",
                                    "107": "1347.95",
                                    "108": "NULL",
                                    "109": "451.64",
                                    "110": "NULL",
                                    "111": "NULL",
                                    "112": "5.63",
                                    "113": "NULL",
                                    "114": "0.00",
                                    "115": "0.00",
                                    "116": "NULL",
                                    "117": "0.00",
                                    "118": "NULL",
                                    "119": "NULL",
                                    "120": "0.00",
                                    "121": "NULL",
                                    "122": "0.00",
                                    "123": "0.00",
                                    "124": "NULL",
                                    "125": "0.00",
                                    "126": "NULL",
                                    "127": "NULL",
                                    "128": "0.00"
                                },
                                {
                                    "0": "Non-OECD (BP)",
                                    "1": "1977",
                                    "2": "NULL",
                                    "3": "NULL",
                                    "4": "NULL",
                                    "5": "33.59",
                                    "6": "3.99",
                                    "7": "NULL",
                                    "8": "15.86",
                                    "9": "NULL",
                                    "10": "NULL",
                                    "11": "NULL",
                                    "12": "0.06",
                                    "13": "NULL",
                                    "14": "4.95",
                                    "15": "419.59",
                                    "16": "NULL",
                                    "17": "8903.11",
                                    "18": "NULL",
                                    "19": "NULL",
                                    "20": "NULL",
                                    "21": "NULL",
                                    "22": "NULL",
                                    "23": "NULL",
                                    "24": "NULL",
                                    "25": "34.94",
                                    "26": "NULL",
                                    "27": "NULL",
                                    "28": "NULL",
                                    "29": "6.38",
                                    "30": "1528.10",
                                    "31": "NULL",
                                    "32": "NULL",
                                    "33": "6.08",
                                    "34": "1366.83",
                                    "35": "NULL",
                                    "36": "NULL",
                                    "37": "NULL",
                                    "38": "23831.49",
                                    "39": "NULL",
                                    "40": "93.53",
                                    "41": "8.64",
                                    "42": "353.07",
                                    "43": "4437.41",
                                    "44": "NULL",
                                    "45": "NULL",
                                    "46": "NULL",
                                    "47": "8.90",
                                    "48": "385.658",
                                    "49": "NULL",
                                    "50": "4718.888",
                                    "51": "NULL",
                                    "52": "17.42",
                                    "53": "NULL",
                                    "54": "9.23",
                                    "55": "122.39",
                                    "56": "1448.22",
                                    "57": "NULL",
                                    "58": "489.76",
                                    "59": "NULL",
                                    "60": "NULL",
                                    "61": "5.68",
                                    "62": "11.25",
                                    "63": "161.27",
                                    "64": "1647.99",
                                    "65": "NULL",
                                    "66": "554.19",
                                    "67": "NULL",
                                    "68": "NULL",
                                    "69": "6.47",
                                    "70": "NULL",
                                    "71": "NULL",
                                    "72": "24.38",
                                    "73": "33.84",
                                    "74": "172.61",
                                    "75": "NULL",
                                    "76": "60.83",
                                    "77": "NULL",
                                    "78": "NULL",
                                    "79": "0.68",
                                    "80": "6.00",
                                    "81": "594.18",
                                    "82": "10490.98",
                                    "83": "NULL",
                                    "84": "NULL",
                                    "85": "NULL",
                                    "86": "2.70",
                                    "87": "726.76",
                                    "88": "NULL",
                                    "89": "27682.82",
                                    "90": "NULL",
                                    "91": "41.17",
                                    "92": "11.31",
                                    "93": "3.60",
                                    "94": "NULL",
                                    "95": "10.04",
                                    "96": "1.05",
                                    "97": "NULL",
                                    "98": "NULL",
                                    "99": "NULL",
                                    "100": "NULL",
                                    "101": "NULL",
                                    "102": "0.04",
                                    "103": "NULL",
                                    "104": "25479.48",
                                    "105": "9.86",
                                    "106": "127.43",
                                    "107": "1475.38",
                                    "108": "NULL",
                                    "109": "493.36",
                                    "110": "NULL",
                                    "111": "NULL",
                                    "112": "5.79",
                                    "113": "NULL",
                                    "114": "0.00",
                                    "115": "0.00",
                                    "116": "NULL",
                                    "117": "0.00",
                                    "118": "NULL",
                                    "119": "NULL",
                                    "120": "0.00",
                                    "121": "NULL",
                                    "122": "0.00",
                                    "123": "0.00",
                                    "124": "NULL",
                                    "125": "0.00",
                                    "126": "NULL",
                                    "127": "NULL",
                                    "128": "0.00"
                                },
                                {
                                    "0": "Non-OECD (BP)",
                                    "1": "1978",
                                    "2": "NULL",
                                    "3": "NULL",
                                    "4": "NULL",
                                    "5": "32.26",
                                    "6": "5.12",
                                    "7": "NULL",
                                    "8": "20.97",
                                    "9": "NULL",
                                    "10": "NULL",
                                    "11": "NULL",
                                    "12": "0.08",
                                    "13": "NULL",
                                    "14": "3.25",
                                    "15": "289.54",
                                    "16": "NULL",
                                    "17": "9192.65",
                                    "18": "NULL",
                                    "19": "NULL",
                                    "20": "NULL",
                                    "21": "NULL",
                                    "22": "NULL",
                                    "23": "NULL",
                                    "24": "NULL",
                                    "25": "34.11",
                                    "26": "NULL",
                                    "27": "NULL",
                                    "28": "NULL",
                                    "29": "5.76",
                                    "30": "1467.72",
                                    "31": "NULL",
                                    "32": "NULL",
                                    "33": "5.43",
                                    "34": "1294.65",
                                    "35": "NULL",
                                    "36": "NULL",
                                    "37": "NULL",
                                    "38": "25126.15",
                                    "39": "NULL",
                                    "40": "93.24",
                                    "41": "7.38",
                                    "42": "327.27",
                                    "43": "4764.67",
                                    "44": "NULL",
                                    "45": "NULL",
                                    "46": "NULL",
                                    "47": "8.21",
                                    "48": "387.584",
                                    "49": "NULL",
                                    "50": "5106.472",
                                    "51": "NULL",
                                    "52": "17.68",
                                    "53": "NULL",
                                    "54": "10.43",
                                    "55": "151.04",
                                    "56": "1599.25",
                                    "57": "NULL",
                                    "58": "540.84",
                                    "59": "NULL",
                                    "60": "NULL",
                                    "61": "5.94",
                                    "62": "10.90",
                                    "63": "173.06",
                                    "64": "1821.05",
                                    "65": "NULL",
                                    "66": "611.19",
                                    "67": "NULL",
                                    "68": "NULL",
                                    "69": "6.76",
                                    "70": "NULL",
                                    "71": "NULL",
                                    "72": "9.11",
                                    "73": "15.72",
                                    "74": "188.32",
                                    "75": "NULL",
                                    "76": "66.37",
                                    "77": "NULL",
                                    "78": "NULL",
                                    "79": "0.70",
                                    "80": "6.46",
                                    "81": "677.85",
                                    "82": "11168.82",
                                    "83": "NULL",
                                    "84": "NULL",
                                    "85": "NULL",
                                    "86": "-1.00",
                                    "87": "-276.54",
                                    "88": "NULL",
                                    "89": "27406.28",
                                    "90": "NULL",
                                    "91": "41.45",
                                    "92": "12.51",
                                    "93": "3.99",
                                    "94": "NULL",
                                    "95": "10.64",
                                    "96": "1.19",
                                    "97": "NULL",
                                    "98": "NULL",
                                    "99": "NULL",
                                    "100": "NULL",
                                    "101": "NULL",
                                    "102": "0.05",
                                    "103": "NULL",
                                    "104": "26947.20",
                                    "105": "11.11",
                                    "106": "157.34",
                                    "107": "1632.73",
                                    "108": "NULL",
                                    "109": "544.82",
                                    "110": "NULL",
                                    "111": "NULL",
                                    "112": "6.06",
                                    "113": "NULL",
                                    "114": "0.00",
                                    "115": "0.00",
                                    "116": "NULL",
                                    "117": "0.00",
                                    "118": "NULL",
                                    "119": "NULL",
                                    "120": "0.00",
                                    "121": "NULL",
                                    "122": "0.00",
                                    "123": "0.00",
                                    "124": "NULL",
                                    "125": "0.00",
                                    "126": "NULL",
                                    "127": "NULL",
                                    "128": "0.00"
                                },
                                {
                                    "0": "Non-OECD (BP)",
                                    "1": "1979",
                                    "2": "NULL",
                                    "3": "NULL",
                                    "4": "NULL",
                                    "5": "23.98",
                                    "6": "5.03",
                                    "7": "NULL",
                                    "8": "26.00",
                                    "9": "NULL",
                                    "10": "NULL",
                                    "11": "NULL",
                                    "12": "0.09",
                                    "13": "NULL",
                                    "14": "3.00",
                                    "15": "276.04",
                                    "16": "NULL",
                                    "17": "9468.69",
                                    "18": "NULL",
                                    "19": "NULL",
                                    "20": "NULL",
                                    "21": "NULL",
                                    "22": "NULL",
                                    "23": "NULL",
                                    "24": "NULL",
                                    "25": "33.55",
                                    "26": "NULL",
                                    "27": "NULL",
                                    "28": "NULL",
                                    "29": "4.73",
                                    "30": "1273.90",
                                    "31": "NULL",
                                    "32": "NULL",
                                    "33": "4.51",
                                    "34": "1132.46",
                                    "35": "NULL",
                                    "36": "NULL",
                                    "37": "NULL",
                                    "38": "26258.61",
                                    "39": "NULL",
                                    "40": "93.05",
                                    "41": "8.52",
                                    "42": "405.74",
                                    "43": "5170.41",
                                    "44": "NULL",
                                    "45": "NULL",
                                    "46": "NULL",
                                    "47": "11.07",
                                    "48": "565.433",
                                    "49": "NULL",
                                    "50": "5671.904",
                                    "51": "NULL",
                                    "52": "18.32",
                                    "53": "NULL",
                                    "54": "6.43",
                                    "55": "102.85",
                                    "56": "1702.10",
                                    "57": "NULL",
                                    "58": "575.62",
                                    "59": "NULL",
                                    "60": "NULL",
                                    "61": "6.03",
                                    "62": "8.16",
                                    "63": "141.44",
                                    "64": "1962.49",
                                    "65": "NULL",
                                    "66": "657.75",
                                    "67": "NULL",
                                    "68": "NULL",
                                    "69": "6.95",
                                    "70": "NULL",
                                    "71": "NULL",
                                    "72": "16.35",
                                    "73": "30.78",
                                    "74": "219.11",
                                    "75": "NULL",
                                    "76": "77.22",
                                    "77": "NULL",
                                    "78": "NULL",
                                    "79": "0.78",
                                    "80": "4.04",
                                    "81": "450.69",
                                    "82": "11619.51",
                                    "83": "NULL",
                                    "84": "NULL",
                                    "85": "NULL",
                                    "86": "3.72",
                                    "87": "1020.44",
                                    "88": "NULL",
                                    "89": "28426.72",
                                    "90": "NULL",
                                    "91": "41.17",
                                    "92": "15.28",
                                    "93": "4.91",
                                    "94": "NULL",
                                    "95": "23.24",
                                    "96": "2.77",
                                    "97": "NULL",
                                    "98": "NULL",
                                    "99": "NULL",
                                    "100": "NULL",
                                    "101": "NULL",
                                    "102": "0.05",
                                    "103": "NULL",
                                    "104": "28221.10",
                                    "105": "7.20",
                                    "106": "110.65",
                                    "107": "1743.38",
                                    "108": "NULL",
                                    "109": "580.53",
                                    "110": "NULL",
                                    "111": "NULL",
                                    "112": "6.18",
                                    "113": "NULL",
                                    "114": "0.00",
                                    "115": "0.00",
                                    "116": "NULL",
                                    "117": "0.00",
                                    "118": "NULL",
                                    "119": "NULL",
                                    "120": "0.00",
                                    "121": "NULL",
                                    "122": "0.00",
                                    "123": "0.00",
                                    "124": "NULL",
                                    "125": "0.00",
                                    "126": "NULL",
                                    "127": "NULL",
                                    "128": "0.00"
                                },
                                {
                                    "0": "Non-OECD (BP)",
                                    "1": "1980",
                                    "2": "NULL",
                                    "3": "NULL",
                                    "4": "NULL",
                                    "5": "14.84",
                                    "6": "3.86",
                                    "7": "NULL",
                                    "8": "29.86",
                                    "9": "NULL",
                                    "10": "NULL",
                                    "11": "NULL",
                                    "12": "0.10",
                                    "13": "NULL",
                                    "14": "1.19",
                                    "15": "112.56",
                                    "16": "NULL",
                                    "17": "9581.25",
                                    "18": "NULL",
                                    "19": "NULL",
                                    "20": "NULL",
                                    "21": "NULL",
                                    "22": "NULL",
                                    "23": "NULL",
                                    "24": "NULL",
                                    "25": "33.14",
                                    "26": "NULL",
                                    "27": "NULL",
                                    "28": "NULL",
                                    "29": "2.46",
                                    "30": "692.91",
                                    "31": "NULL",
                                    "32": "NULL",
                                    "33": "1.94",
                                    "34": "510.21",
                                    "35": "NULL",
                                    "36": "NULL",
                                    "37": "NULL",
                                    "38": "26768.81",
                                    "39": "NULL",
                                    "40": "92.58",
                                    "41": "3.75",
                                    "42": "194.03",
                                    "43": "5364.44",
                                    "44": "NULL",
                                    "45": "NULL",
                                    "46": "NULL",
                                    "47": "4.96",
                                    "48": "281.52",
                                    "49": "NULL",
                                    "50": "5953.424",
                                    "51": "NULL",
                                    "52": "18.55",
                                    "53": "NULL",
                                    "54": "7.62",
                                    "55": "129.62",
                                    "56": "1831.72",
                                    "57": "NULL",
                                    "58": "619.45",
                                    "59": "NULL",
                                    "60": "NULL",
                                    "61": "6.34",
                                    "62": "9.51",
                                    "63": "182.71",
                                    "64": "2145.20",
                                    "65": "NULL",
                                    "66": "718.93",
                                    "67": "NULL",
                                    "68": "NULL",
                                    "69": "7.42",
                                    "70": "NULL",
                                    "71": "NULL",
                                    "72": "20.64",
                                    "73": "45.22",
                                    "74": "264.33",
                                    "75": "NULL",
                                    "76": "93.16",
                                    "77": "NULL",
                                    "78": "NULL",
                                    "79": "0.91",
                                    "80": "1.75",
                                    "81": "203.62",
                                    "82": "11823.13",
                                    "83": "NULL",
                                    "84": "NULL",
                                    "85": "NULL",
                                    "86": "-7.37",
                                    "87": "-2095.28",
                                    "88": "NULL",
                                    "89": "26331.45",
                                    "90": "NULL",
                                    "91": "40.89",
                                    "92": "19.29",
                                    "93": "6.33",
                                    "94": "NULL",
                                    "95": "28.80",
                                    "96": "4.01",
                                    "97": "NULL",
                                    "98": "NULL",
                                    "99": "NULL",
                                    "100": "NULL",
                                    "101": "NULL",
                                    "102": "0.07",
                                    "103": "NULL",
                                    "104": "28914.01",
                                    "105": "8.10",
                                    "106": "137.49",
                                    "107": "1880.87",
                                    "108": "NULL",
                                    "109": "625.78",
                                    "110": "NULL",
                                    "111": "NULL",
                                    "112": "6.51",
                                    "113": "NULL",
                                    "114": "0.00",
                                    "115": "0.00",
                                    "116": "NULL",
                                    "117": "0.00",
                                    "118": "NULL",
                                    "119": "NULL",
                                    "120": "0.00",
                                    "121": "NULL",
                                    "122": "0.00",
                                    "123": "0.00",
                                    "124": "NULL",
                                    "125": "0.00",
                                    "126": "NULL",
                                    "127": "NULL",
                                    "128": "0.00"
                                },
                                {
                                    "0": "Non-OECD (BP)",
                                    "1": "1981",
                                    "2": "NULL",
                                    "3": "NULL",
                                    "4": "NULL",
                                    "5": "-8.58",
                                    "6": "-2.56",
                                    "7": "NULL",
                                    "8": "27.30",
                                    "9": "NULL",
                                    "10": "NULL",
                                    "11": "NULL",
                                    "12": "0.09",
                                    "13": "NULL",
                                    "14": "1.78",
                                    "15": "170.45",
                                    "16": "NULL",
                                    "17": "9751.70",
                                    "18": "NULL",
                                    "19": "NULL",
                                    "20": "NULL",
                                    "21": "NULL",
                                    "22": "NULL",
                                    "23": "10042.584",
                                    "24": "NULL",
                                    "25": "32.90",
                                    "26": "NULL",
                                    "27": "NULL",
                                    "28": "NULL",
                                    "29": "2.52",
                                    "30": "727.61",
                                    "31": "NULL",
                                    "32": "NULL",
                                    "33": "2.27",
                                    "34": "607.11",
                                    "35": "NULL",
                                    "36": "NULL",
                                    "37": "NULL",
                                    "38": "27375.93",
                                    "39": "NULL",
                                    "40": "92.36",
                                    "41": "5.91",
                                    "42": "317.21",
                                    "43": "5681.65",
                                    "44": "NULL",
                                    "45": "NULL",
                                    "46": "NULL",
                                    "47": "5.84",
                                    "48": "347.923",
                                    "49": "NULL",
                                    "50": "6301.348",
                                    "51": "NULL",
                                    "52": "19.17",
                                    "53": "NULL",
                                    "54": "3.33",
                                    "55": "60.93",
                                    "56": "1892.65",
                                    "57": "NULL",
                                    "58": "640.06",
                                    "59": "NULL",
                                    "60": "NULL",
                                    "61": "6.39",
                                    "62": "5.33",
                                    "63": "120.50",
                                    "64": "2265.69",
                                    "65": "NULL",
                                    "66": "761.37",
                                    "67": "NULL",
                                    "68": "NULL",
                                    "69": "7.64",
                                    "70": "NULL",
                                    "71": "NULL",
                                    "72": "20.89",
                                    "73": "55.22",
                                    "74": "319.55",
                                    "75": "NULL",
                                    "76": "112.62",
                                    "77": "NULL",
                                    "78": "NULL",
                                    "79": "1.08",
                                    "80": "1.01",
                                    "81": "119.45",
                                    "82": "11942.57",
                                    "83": "NULL",
                                    "84": "NULL",
                                    "85": "NULL",
                                    "86": "-8.76",
                                    "87": "-2306.98",
                                    "88": "NULL",
                                    "89": "24024.47",
                                    "90": "NULL",
                                    "91": "40.29",
                                    "92": "26.20",
                                    "93": "8.69",
                                    "94": "NULL",
                                    "95": "37.41",
                                    "96": "6.91",
                                    "97": "NULL",
                                    "98": "NULL",
                                    "99": "NULL",
                                    "100": "NULL",
                                    "101": "NULL",
                                    "102": "0.09",
                                    "103": "NULL",
                                    "104": "29641.62",
                                    "105": "3.11",
                                    "106": "65.27",
                                    "107": "1946.14",
                                    "108": "NULL",
                                    "109": "648.75",
                                    "110": "NULL",
                                    "111": "NULL",
                                    "112": "6.57",
                                    "113": "NULL",
                                    "114": "0.00",
                                    "115": "0.00",
                                    "116": "NULL",
                                    "117": "0.00",
                                    "118": "NULL",
                                    "119": "NULL",
                                    "120": "0.00",
                                    "121": "NULL",
                                    "122": "0.00",
                                    "123": "0.00",
                                    "124": "NULL",
                                    "125": "0.00",
                                    "126": "NULL",
                                    "127": "NULL",
                                    "128": "0.00"
                                }
                            ]
                        },
                        "text/html": "<table><tr><th>country</th><th>year</th><th>iso_code</th><th>population</th><th>gdp</th><th>biofuel_cons_change_pct</th><th>biofuel_cons_change_twh</th><th>biofuel_cons_per_capita</th><th>biofuel_consumption</th><th>biofuel_elec_per_capita</th><th>biofuel_electricity</th><th>biofuel_share_elec</th><th>biofuel_share_energy</th><th>carbon_intensity_elec</th><th>coal_cons_change_pct</th><th>coal_cons_change_twh</th><th>coal_cons_per_capita</th><th>coal_consumption</th><th>coal_elec_per_capita</th><th>coal_electricity</th><th>coal_prod_change_pct</th><th>coal_prod_change_twh</th><th>coal_prod_per_capita</th><th>coal_production</th><th>coal_share_elec</th><th>coal_share_energy</th><th>electricity_demand</th><th>electricity_generation</th><th>electricity_share_energy</th><th>energy_cons_change_pct</th><th>energy_cons_change_twh</th><th>energy_per_capita</th><th>energy_per_gdp</th><th>fossil_cons_change_pct</th><th>fossil_cons_change_twh</th><th>fossil_elec_per_capita</th><th>fossil_electricity</th><th>fossil_energy_per_capita</th><th>fossil_fuel_consumption</th><th>fossil_share_elec</th><th>fossil_share_energy</th><th>gas_cons_change_pct</th><th>gas_cons_change_twh</th><th>gas_consumption</th><th>gas_elec_per_capita</th><th>gas_electricity</th><th>gas_energy_per_capita</th><th>gas_prod_change_pct</th><th>gas_prod_change_twh</th><th>gas_prod_per_capita</th><th>gas_production</th><th>gas_share_elec</th><th>gas_share_energy</th><th>greenhouse_gas_emissions</th><th>hydro_cons_change_pct</th><th>hydro_cons_change_twh</th><th>hydro_consumption</th><th>hydro_elec_per_capita</th><th>hydro_electricity</th><th>hydro_energy_per_capita</th><th>hydro_share_elec</th><th>hydro_share_energy</th><th>low_carbon_cons_change_pct</th><th>low_carbon_cons_change_twh</th><th>low_carbon_consumption</th><th>low_carbon_elec_per_capita</th><th>low_carbon_electricity</th><th>low_carbon_energy_per_capita</th><th>low_carbon_share_elec</th><th>low_carbon_share_energy</th><th>net_elec_imports</th><th>net_elec_imports_share_demand</th><th>nuclear_cons_change_pct</th><th>nuclear_cons_change_twh</th><th>nuclear_consumption</th><th>nuclear_elec_per_capita</th><th>nuclear_electricity</th><th>nuclear_energy_per_capita</th><th>nuclear_share_elec</th><th>nuclear_share_energy</th><th>oil_cons_change_pct</th><th>oil_cons_change_twh</th><th>oil_consumption</th><th>oil_elec_per_capita</th><th>oil_electricity</th><th>oil_energy_per_capita</th><th>oil_prod_change_pct</th><th>oil_prod_change_twh</th><th>oil_prod_per_capita</th><th>oil_production</th><th>oil_share_elec</th><th>oil_share_energy</th><th>other_renewable_consumption</th><th>other_renewable_electricity</th><th>other_renewable_exc_biofuel_electricity</th><th>other_renewables_cons_change_pct</th><th>other_renewables_cons_change_twh</th><th>other_renewables_elec_per_capita</th><th>other_renewables_elec_per_capita_exc_biofuel</th><th>other_renewables_energy_per_capita</th><th>other_renewables_share_elec</th><th>other_renewables_share_elec_exc_biofuel</th><th>other_renewables_share_energy</th><th>per_capita_electricity</th><th>primary_energy_consumption</th><th>renewables_cons_change_pct</th><th>renewables_cons_change_twh</th><th>renewables_consumption</th><th>renewables_elec_per_capita</th><th>renewables_electricity</th><th>renewables_energy_per_capita</th><th>renewables_share_elec</th><th>renewables_share_energy</th><th>solar_cons_change_pct</th><th>solar_cons_change_twh</th><th>solar_consumption</th><th>solar_elec_per_capita</th><th>solar_electricity</th><th>solar_energy_per_capita</th><th>solar_share_elec</th><th>solar_share_energy</th><th>wind_cons_change_pct</th><th>wind_cons_change_twh</th><th>wind_consumption</th><th>wind_elec_per_capita</th><th>wind_electricity</th><th>wind_energy_per_capita</th><th>wind_share_elec</th><th>wind_share_energy</th></tr><tr><td>Non-OECD (BP)</td><td>1972</td><td>NULL</td><td>NULL</td><td>NULL</td><td>11.14</td><td>1.30</td><td>NULL</td><td>12.95</td><td>NULL</td><td>NULL</td><td>NULL</td><td>0.07</td><td>NULL</td><td>3.58</td><td>263.08</td><td>NULL</td><td>7618.44</td><td>NULL</td><td>NULL</td><td>NULL</td><td>NULL</td><td>NULL</td><td>NULL</td><td>NULL</td><td>39.47</td><td>NULL</td><td>NULL</td><td>NULL</td><td>6.02</td><td>1095.98</td><td>NULL</td><td>NULL</td><td>5.98</td><td>1027.40</td><td>NULL</td><td>NULL</td><td>NULL</td><td>18221.74</td><td>NULL</td><td>94.41</td><td>5.72</td><td>155.14</td><td>2868.95</td><td>NULL</td><td>NULL</td><td>NULL</td><td>6.65</td><td>183.228</td><td>NULL</td><td>2940.357</td><td>NULL</td><td>14.87</td><td>NULL</td><td>5.58</td><td>54.28</td><td>1026.91</td><td>NULL</td><td>347.28</td><td>NULL</td><td>NULL</td><td>5.32</td><td>6.94</td><td>68.58</td><td>1078.35</td><td>NULL</td><td>360.57</td><td>NULL</td><td>NULL</td><td>5.59</td><td>NULL</td><td>NULL</td><td>71.05</td><td>13.00</td><td>31.31</td><td>NULL</td><td>11.03</td><td>NULL</td><td>NULL</td><td>0.16</td><td>8.55</td><td>609.18</td><td>7734.35</td><td>NULL</td><td>NULL</td><td>NULL</td><td>6.98</td><td>1474.16</td><td>NULL</td><td>22599.12</td><td>NULL</td><td>40.07</td><td>7.18</td><td>2.25</td><td>NULL</td><td>-0.04</td><td>-0.00</td><td>NULL</td><td>NULL</td><td>NULL</td><td>NULL</td><td>NULL</td><td>0.04</td><td>NULL</td><td>19300.09</td><td>5.73</td><td>55.57</td><td>1047.04</td><td>NULL</td><td>349.53</td><td>NULL</td><td>NULL</td><td>5.43</td><td>NULL</td><td>0.00</td><td>0.00</td><td>NULL</td><td>0.00</td><td>NULL</td><td>NULL</td><td>0.00</td><td>NULL</td><td>0.00</td><td>0.00</td><td>NULL</td><td>0.00</td><td>NULL</td><td>NULL</td><td>0.00</td></tr><tr><td>Non-OECD (BP)</td><td>1973</td><td>NULL</td><td>NULL</td><td>NULL</td><td>-2.78</td><td>-0.36</td><td>NULL</td><td>12.59</td><td>NULL</td><td>NULL</td><td>NULL</td><td>0.06</td><td>NULL</td><td>1.58</td><td>120.01</td><td>NULL</td><td>7738.45</td><td>NULL</td><td>NULL</td><td>NULL</td><td>NULL</td><td>NULL</td><td>NULL</td><td>NULL</td><td>37.75</td><td>NULL</td><td>NULL</td><td>NULL</td><td>6.21</td><td>1197.90</td><td>NULL</td><td>NULL</td><td>6.22</td><td>1133.79</td><td>NULL</td><td>NULL</td><td>NULL</td><td>19355.53</td><td>NULL</td><td>94.43</td><td>10.29</td><td>295.18</td><td>3164.13</td><td>NULL</td><td>NULL</td><td>NULL</td><td>9.77</td><td>287.162</td><td>NULL</td><td>3227.518</td><td>NULL</td><td>15.44</td><td>NULL</td><td>4.67</td><td>47.96</td><td>1074.87</td><td>NULL</td><td>363.50</td><td>NULL</td><td>NULL</td><td>5.24</td><td>5.80</td><td>64.11</td><td>1142.46</td><td>NULL</td><td>382.59</td><td>NULL</td><td>NULL</td><td>5.57</td><td>NULL</td><td>NULL</td><td>51.27</td><td>16.05</td><td>47.36</td><td>NULL</td><td>16.69</td><td>NULL</td><td>NULL</td><td>0.23</td><td>9.29</td><td>718.60</td><td>8452.95</td><td>NULL</td><td>NULL</td><td>NULL</td><td>12.14</td><td>2742.38</td><td>NULL</td><td>25341.50</td><td>NULL</td><td>41.24</td><td>7.65</td><td>2.40</td><td>NULL</td><td>6.45</td><td>0.46</td><td>NULL</td><td>NULL</td><td>NULL</td><td>NULL</td><td>NULL</td><td>0.04</td><td>NULL</td><td>20497.99</td><td>4.42</td><td>48.06</td><td>1095.10</td><td>NULL</td><td>365.90</td><td>NULL</td><td>NULL</td><td>5.34</td><td>NULL</td><td>0.00</td><td>0.00</td><td>NULL</td><td>0.00</td><td>NULL</td><td>NULL</td><td>0.00</td><td>NULL</td><td>0.00</td><td>0.00</td><td>NULL</td><td>0.00</td><td>NULL</td><td>NULL</td><td>0.00</td></tr><tr><td>Non-OECD (BP)</td><td>1974</td><td>NULL</td><td>NULL</td><td>NULL</td><td>-3.33</td><td>-0.42</td><td>NULL</td><td>12.17</td><td>NULL</td><td>NULL</td><td>NULL</td><td>0.06</td><td>NULL</td><td>1.21</td><td>93.32</td><td>NULL</td><td>7831.77</td><td>NULL</td><td>NULL</td><td>NULL</td><td>NULL</td><td>NULL</td><td>NULL</td><td>NULL</td><td>36.47</td><td>NULL</td><td>NULL</td><td>NULL</td><td>4.78</td><td>979.69</td><td>NULL</td><td>NULL</td><td>4.35</td><td>842.53</td><td>NULL</td><td>NULL</td><td>NULL</td><td>20198.06</td><td>NULL</td><td>94.04</td><td>6.78</td><td>214.47</td><td>3378.60</td><td>NULL</td><td>NULL</td><td>NULL</td><td>9.82</td><td>317.106</td><td>NULL</td><td>3544.625</td><td>NULL</td><td>15.73</td><td>NULL</td><td>10.36</td><td>111.40</td><td>1186.27</td><td>NULL</td><td>401.17</td><td>NULL</td><td>NULL</td><td>5.52</td><td>11.76</td><td>137.16</td><td>1279.62</td><td>NULL</td><td>429.47</td><td>NULL</td><td>NULL</td><td>5.96</td><td>NULL</td><td>NULL</td><td>54.47</td><td>25.79</td><td>73.15</td><td>NULL</td><td>25.78</td><td>NULL</td><td>NULL</td><td>0.34</td><td>6.33</td><td>534.73</td><td>8987.68</td><td>NULL</td><td>NULL</td><td>NULL</td><td>1.37</td><td>347.67</td><td>NULL</td><td>25689.17</td><td>NULL</td><td>41.85</td><td>8.04</td><td>2.52</td><td>NULL</td><td>5.11</td><td>0.39</td><td>NULL</td><td>NULL</td><td>NULL</td><td>NULL</td><td>NULL</td><td>0.04</td><td>NULL</td><td>21477.68</td><td>9.88</td><td>111.37</td><td>1206.47</td><td>NULL</td><td>403.69</td><td>NULL</td><td>NULL</td><td>5.62</td><td>NULL</td><td>0.00</td><td>0.00</td><td>NULL</td><td>0.00</td><td>NULL</td><td>NULL</td><td>0.00</td><td>NULL</td><td>0.00</td><td>0.00</td><td>NULL</td><td>0.00</td><td>NULL</td><td>NULL</td><td>0.00</td></tr><tr><td>Non-OECD (BP)</td><td>1975</td><td>NULL</td><td>NULL</td><td>NULL</td><td>-5.65</td><td>-0.69</td><td>NULL</td><td>11.48</td><td>NULL</td><td>NULL</td><td>NULL</td><td>0.05</td><td>NULL</td><td>6.65</td><td>520.43</td><td>NULL</td><td>8352.21</td><td>NULL</td><td>NULL</td><td>NULL</td><td>NULL</td><td>NULL</td><td>NULL</td><td>NULL</td><td>36.76</td><td>NULL</td><td>NULL</td><td>NULL</td><td>5.80</td><td>1245.46</td><td>NULL</td><td>NULL</td><td>5.77</td><td>1166.25</td><td>NULL</td><td>NULL</td><td>NULL</td><td>21364.30</td><td>NULL</td><td>94.02</td><td>9.21</td><td>311.24</td><td>3689.84</td><td>NULL</td><td>NULL</td><td>NULL</td><td>10.30</td><td>365.179</td><td>NULL</td><td>3909.804</td><td>NULL</td><td>16.24</td><td>NULL</td><td>4.11</td><td>48.73</td><td>1234.99</td><td>NULL</td><td>417.65</td><td>NULL</td><td>NULL</td><td>5.44</td><td>6.06</td><td>79.22</td><td>1358.84</td><td>NULL</td><td>456.92</td><td>NULL</td><td>NULL</td><td>5.98</td><td>NULL</td><td>NULL</td><td>41.45</td><td>30.32</td><td>103.47</td><td>NULL</td><td>36.47</td><td>NULL</td><td>NULL</td><td>0.46</td><td>3.72</td><td>334.57</td><td>9322.25</td><td>NULL</td><td>NULL</td><td>NULL</td><td>-5.74</td><td>-1475.32</td><td>NULL</td><td>24213.85</td><td>NULL</td><td>41.03</td><td>8.90</td><td>2.81</td><td>NULL</td><td>11.40</td><td>0.86</td><td>NULL</td><td>NULL</td><td>NULL</td><td>NULL</td><td>NULL</td><td>0.04</td><td>NULL</td><td>22723.14</td><td>3.87</td><td>48.90</td><td>1255.37</td><td>NULL</td><td>420.46</td><td>NULL</td><td>NULL</td><td>5.53</td><td>NULL</td><td>0.00</td><td>0.00</td><td>NULL</td><td>0.00</td><td>NULL</td><td>NULL</td><td>0.00</td><td>NULL</td><td>0.00</td><td>0.00</td><td>NULL</td><td>0.00</td><td>NULL</td><td>NULL</td><td>0.00</td></tr><tr><td>Non-OECD (BP)</td><td>1976</td><td>NULL</td><td>NULL</td><td>NULL</td><td>3.39</td><td>0.39</td><td>NULL</td><td>11.87</td><td>NULL</td><td>NULL</td><td>NULL</td><td>0.05</td><td>NULL</td><td>1.57</td><td>131.32</td><td>NULL</td><td>8483.52</td><td>NULL</td><td>NULL</td><td>NULL</td><td>NULL</td><td>NULL</td><td>NULL</td><td>NULL</td><td>35.42</td><td>NULL</td><td>NULL</td><td>NULL</td><td>5.41</td><td>1228.25</td><td>NULL</td><td>NULL</td><td>5.15</td><td>1100.36</td><td>NULL</td><td>NULL</td><td>NULL</td><td>22464.66</td><td>NULL</td><td>93.79</td><td>10.69</td><td>394.50</td><td>4084.34</td><td>NULL</td><td>NULL</td><td>NULL</td><td>10.83</td><td>423.426</td><td>NULL</td><td>4333.229</td><td>NULL</td><td>17.05</td><td>NULL</td><td>7.36</td><td>90.83</td><td>1325.82</td><td>NULL</td><td>448.37</td><td>NULL</td><td>NULL</td><td>5.54</td><td>9.40</td><td>127.88</td><td>1486.72</td><td>NULL</td><td>500.55</td><td>NULL</td><td>NULL</td><td>6.21</td><td>NULL</td><td>NULL</td><td>34.12</td><td>35.30</td><td>138.77</td><td>NULL</td><td>48.91</td><td>NULL</td><td>NULL</td><td>0.58</td><td>6.16</td><td>574.55</td><td>9896.80</td><td>NULL</td><td>NULL</td><td>NULL</td><td>11.33</td><td>2742.22</td><td>NULL</td><td>26956.07</td><td>NULL</td><td>41.32</td><td>10.26</td><td>3.27</td><td>NULL</td><td>16.69</td><td>1.37</td><td>NULL</td><td>NULL</td><td>NULL</td><td>NULL</td><td>NULL</td><td>0.04</td><td>NULL</td><td>23951.39</td><td>7.31</td><td>92.58</td><td>1347.95</td><td>NULL</td><td>451.64</td><td>NULL</td><td>NULL</td><td>5.63</td><td>NULL</td><td>0.00</td><td>0.00</td><td>NULL</td><td>0.00</td><td>NULL</td><td>NULL</td><td>0.00</td><td>NULL</td><td>0.00</td><td>0.00</td><td>NULL</td><td>0.00</td><td>NULL</td><td>NULL</td><td>0.00</td></tr><tr><td>Non-OECD (BP)</td><td>1977</td><td>NULL</td><td>NULL</td><td>NULL</td><td>33.59</td><td>3.99</td><td>NULL</td><td>15.86</td><td>NULL</td><td>NULL</td><td>NULL</td><td>0.06</td><td>NULL</td><td>4.95</td><td>419.59</td><td>NULL</td><td>8903.11</td><td>NULL</td><td>NULL</td><td>NULL</td><td>NULL</td><td>NULL</td><td>NULL</td><td>NULL</td><td>34.94</td><td>NULL</td><td>NULL</td><td>NULL</td><td>6.38</td><td>1528.10</td><td>NULL</td><td>NULL</td><td>6.08</td><td>1366.83</td><td>NULL</td><td>NULL</td><td>NULL</td><td>23831.49</td><td>NULL</td><td>93.53</td><td>8.64</td><td>353.07</td><td>4437.41</td><td>NULL</td><td>NULL</td><td>NULL</td><td>8.90</td><td>385.658</td><td>NULL</td><td>4718.888</td><td>NULL</td><td>17.42</td><td>NULL</td><td>9.23</td><td>122.39</td><td>1448.22</td><td>NULL</td><td>489.76</td><td>NULL</td><td>NULL</td><td>5.68</td><td>11.25</td><td>161.27</td><td>1647.99</td><td>NULL</td><td>554.19</td><td>NULL</td><td>NULL</td><td>6.47</td><td>NULL</td><td>NULL</td><td>24.38</td><td>33.84</td><td>172.61</td><td>NULL</td><td>60.83</td><td>NULL</td><td>NULL</td><td>0.68</td><td>6.00</td><td>594.18</td><td>10490.98</td><td>NULL</td><td>NULL</td><td>NULL</td><td>2.70</td><td>726.76</td><td>NULL</td><td>27682.82</td><td>NULL</td><td>41.17</td><td>11.31</td><td>3.60</td><td>NULL</td><td>10.04</td><td>1.05</td><td>NULL</td><td>NULL</td><td>NULL</td><td>NULL</td><td>NULL</td><td>0.04</td><td>NULL</td><td>25479.48</td><td>9.86</td><td>127.43</td><td>1475.38</td><td>NULL</td><td>493.36</td><td>NULL</td><td>NULL</td><td>5.79</td><td>NULL</td><td>0.00</td><td>0.00</td><td>NULL</td><td>0.00</td><td>NULL</td><td>NULL</td><td>0.00</td><td>NULL</td><td>0.00</td><td>0.00</td><td>NULL</td><td>0.00</td><td>NULL</td><td>NULL</td><td>0.00</td></tr><tr><td>Non-OECD (BP)</td><td>1978</td><td>NULL</td><td>NULL</td><td>NULL</td><td>32.26</td><td>5.12</td><td>NULL</td><td>20.97</td><td>NULL</td><td>NULL</td><td>NULL</td><td>0.08</td><td>NULL</td><td>3.25</td><td>289.54</td><td>NULL</td><td>9192.65</td><td>NULL</td><td>NULL</td><td>NULL</td><td>NULL</td><td>NULL</td><td>NULL</td><td>NULL</td><td>34.11</td><td>NULL</td><td>NULL</td><td>NULL</td><td>5.76</td><td>1467.72</td><td>NULL</td><td>NULL</td><td>5.43</td><td>1294.65</td><td>NULL</td><td>NULL</td><td>NULL</td><td>25126.15</td><td>NULL</td><td>93.24</td><td>7.38</td><td>327.27</td><td>4764.67</td><td>NULL</td><td>NULL</td><td>NULL</td><td>8.21</td><td>387.584</td><td>NULL</td><td>5106.472</td><td>NULL</td><td>17.68</td><td>NULL</td><td>10.43</td><td>151.04</td><td>1599.25</td><td>NULL</td><td>540.84</td><td>NULL</td><td>NULL</td><td>5.94</td><td>10.90</td><td>173.06</td><td>1821.05</td><td>NULL</td><td>611.19</td><td>NULL</td><td>NULL</td><td>6.76</td><td>NULL</td><td>NULL</td><td>9.11</td><td>15.72</td><td>188.32</td><td>NULL</td><td>66.37</td><td>NULL</td><td>NULL</td><td>0.70</td><td>6.46</td><td>677.85</td><td>11168.82</td><td>NULL</td><td>NULL</td><td>NULL</td><td>-1.00</td><td>-276.54</td><td>NULL</td><td>27406.28</td><td>NULL</td><td>41.45</td><td>12.51</td><td>3.99</td><td>NULL</td><td>10.64</td><td>1.19</td><td>NULL</td><td>NULL</td><td>NULL</td><td>NULL</td><td>NULL</td><td>0.05</td><td>NULL</td><td>26947.20</td><td>11.11</td><td>157.34</td><td>1632.73</td><td>NULL</td><td>544.82</td><td>NULL</td><td>NULL</td><td>6.06</td><td>NULL</td><td>0.00</td><td>0.00</td><td>NULL</td><td>0.00</td><td>NULL</td><td>NULL</td><td>0.00</td><td>NULL</td><td>0.00</td><td>0.00</td><td>NULL</td><td>0.00</td><td>NULL</td><td>NULL</td><td>0.00</td></tr><tr><td>Non-OECD (BP)</td><td>1979</td><td>NULL</td><td>NULL</td><td>NULL</td><td>23.98</td><td>5.03</td><td>NULL</td><td>26.00</td><td>NULL</td><td>NULL</td><td>NULL</td><td>0.09</td><td>NULL</td><td>3.00</td><td>276.04</td><td>NULL</td><td>9468.69</td><td>NULL</td><td>NULL</td><td>NULL</td><td>NULL</td><td>NULL</td><td>NULL</td><td>NULL</td><td>33.55</td><td>NULL</td><td>NULL</td><td>NULL</td><td>4.73</td><td>1273.90</td><td>NULL</td><td>NULL</td><td>4.51</td><td>1132.46</td><td>NULL</td><td>NULL</td><td>NULL</td><td>26258.61</td><td>NULL</td><td>93.05</td><td>8.52</td><td>405.74</td><td>5170.41</td><td>NULL</td><td>NULL</td><td>NULL</td><td>11.07</td><td>565.433</td><td>NULL</td><td>5671.904</td><td>NULL</td><td>18.32</td><td>NULL</td><td>6.43</td><td>102.85</td><td>1702.10</td><td>NULL</td><td>575.62</td><td>NULL</td><td>NULL</td><td>6.03</td><td>8.16</td><td>141.44</td><td>1962.49</td><td>NULL</td><td>657.75</td><td>NULL</td><td>NULL</td><td>6.95</td><td>NULL</td><td>NULL</td><td>16.35</td><td>30.78</td><td>219.11</td><td>NULL</td><td>77.22</td><td>NULL</td><td>NULL</td><td>0.78</td><td>4.04</td><td>450.69</td><td>11619.51</td><td>NULL</td><td>NULL</td><td>NULL</td><td>3.72</td><td>1020.44</td><td>NULL</td><td>28426.72</td><td>NULL</td><td>41.17</td><td>15.28</td><td>4.91</td><td>NULL</td><td>23.24</td><td>2.77</td><td>NULL</td><td>NULL</td><td>NULL</td><td>NULL</td><td>NULL</td><td>0.05</td><td>NULL</td><td>28221.10</td><td>7.20</td><td>110.65</td><td>1743.38</td><td>NULL</td><td>580.53</td><td>NULL</td><td>NULL</td><td>6.18</td><td>NULL</td><td>0.00</td><td>0.00</td><td>NULL</td><td>0.00</td><td>NULL</td><td>NULL</td><td>0.00</td><td>NULL</td><td>0.00</td><td>0.00</td><td>NULL</td><td>0.00</td><td>NULL</td><td>NULL</td><td>0.00</td></tr><tr><td>Non-OECD (BP)</td><td>1980</td><td>NULL</td><td>NULL</td><td>NULL</td><td>14.84</td><td>3.86</td><td>NULL</td><td>29.86</td><td>NULL</td><td>NULL</td><td>NULL</td><td>0.10</td><td>NULL</td><td>1.19</td><td>112.56</td><td>NULL</td><td>9581.25</td><td>NULL</td><td>NULL</td><td>NULL</td><td>NULL</td><td>NULL</td><td>NULL</td><td>NULL</td><td>33.14</td><td>NULL</td><td>NULL</td><td>NULL</td><td>2.46</td><td>692.91</td><td>NULL</td><td>NULL</td><td>1.94</td><td>510.21</td><td>NULL</td><td>NULL</td><td>NULL</td><td>26768.81</td><td>NULL</td><td>92.58</td><td>3.75</td><td>194.03</td><td>5364.44</td><td>NULL</td><td>NULL</td><td>NULL</td><td>4.96</td><td>281.52</td><td>NULL</td><td>5953.424</td><td>NULL</td><td>18.55</td><td>NULL</td><td>7.62</td><td>129.62</td><td>1831.72</td><td>NULL</td><td>619.45</td><td>NULL</td><td>NULL</td><td>6.34</td><td>9.51</td><td>182.71</td><td>2145.20</td><td>NULL</td><td>718.93</td><td>NULL</td><td>NULL</td><td>7.42</td><td>NULL</td><td>NULL</td><td>20.64</td><td>45.22</td><td>264.33</td><td>NULL</td><td>93.16</td><td>NULL</td><td>NULL</td><td>0.91</td><td>1.75</td><td>203.62</td><td>11823.13</td><td>NULL</td><td>NULL</td><td>NULL</td><td>-7.37</td><td>-2095.28</td><td>NULL</td><td>26331.45</td><td>NULL</td><td>40.89</td><td>19.29</td><td>6.33</td><td>NULL</td><td>28.80</td><td>4.01</td><td>NULL</td><td>NULL</td><td>NULL</td><td>NULL</td><td>NULL</td><td>0.07</td><td>NULL</td><td>28914.01</td><td>8.10</td><td>137.49</td><td>1880.87</td><td>NULL</td><td>625.78</td><td>NULL</td><td>NULL</td><td>6.51</td><td>NULL</td><td>0.00</td><td>0.00</td><td>NULL</td><td>0.00</td><td>NULL</td><td>NULL</td><td>0.00</td><td>NULL</td><td>0.00</td><td>0.00</td><td>NULL</td><td>0.00</td><td>NULL</td><td>NULL</td><td>0.00</td></tr><tr><td>Non-OECD (BP)</td><td>1981</td><td>NULL</td><td>NULL</td><td>NULL</td><td>-8.58</td><td>-2.56</td><td>NULL</td><td>27.30</td><td>NULL</td><td>NULL</td><td>NULL</td><td>0.09</td><td>NULL</td><td>1.78</td><td>170.45</td><td>NULL</td><td>9751.70</td><td>NULL</td><td>NULL</td><td>NULL</td><td>NULL</td><td>NULL</td><td>10042.584</td><td>NULL</td><td>32.90</td><td>NULL</td><td>NULL</td><td>NULL</td><td>2.52</td><td>727.61</td><td>NULL</td><td>NULL</td><td>2.27</td><td>607.11</td><td>NULL</td><td>NULL</td><td>NULL</td><td>27375.93</td><td>NULL</td><td>92.36</td><td>5.91</td><td>317.21</td><td>5681.65</td><td>NULL</td><td>NULL</td><td>NULL</td><td>5.84</td><td>347.923</td><td>NULL</td><td>6301.348</td><td>NULL</td><td>19.17</td><td>NULL</td><td>3.33</td><td>60.93</td><td>1892.65</td><td>NULL</td><td>640.06</td><td>NULL</td><td>NULL</td><td>6.39</td><td>5.33</td><td>120.50</td><td>2265.69</td><td>NULL</td><td>761.37</td><td>NULL</td><td>NULL</td><td>7.64</td><td>NULL</td><td>NULL</td><td>20.89</td><td>55.22</td><td>319.55</td><td>NULL</td><td>112.62</td><td>NULL</td><td>NULL</td><td>1.08</td><td>1.01</td><td>119.45</td><td>11942.57</td><td>NULL</td><td>NULL</td><td>NULL</td><td>-8.76</td><td>-2306.98</td><td>NULL</td><td>24024.47</td><td>NULL</td><td>40.29</td><td>26.20</td><td>8.69</td><td>NULL</td><td>37.41</td><td>6.91</td><td>NULL</td><td>NULL</td><td>NULL</td><td>NULL</td><td>NULL</td><td>0.09</td><td>NULL</td><td>29641.62</td><td>3.11</td><td>65.27</td><td>1946.14</td><td>NULL</td><td>648.75</td><td>NULL</td><td>NULL</td><td>6.57</td><td>NULL</td><td>0.00</td><td>0.00</td><td>NULL</td><td>0.00</td><td>NULL</td><td>NULL</td><td>0.00</td><td>NULL</td><td>0.00</td><td>0.00</td><td>NULL</td><td>0.00</td><td>NULL</td><td>NULL</td><td>0.00</td></tr></table>"
                    },
                    "metadata": {}
                }
            ],
            "execution_count": 23
        },
        {
            "cell_type": "code",
            "source": [
                "--- See data types\r\n",
                "\r\n",
                "SELECT TOP 10 COLUMN_NAME, DATA_TYPE\r\n",
                "FROM INFORMATION_SCHEMA.COLUMNS\r\n",
                "WHERE TABLE_NAME = 'Energy';\r\n",
                ""
            ],
            "metadata": {
                "azdata_cell_guid": "0b67264b-5208-4cab-9aa2-cfdc53e1fc91",
                "language": "sql",
                "tags": []
            },
            "outputs": [
                {
                    "output_type": "display_data",
                    "data": {
                        "text/html": "(10 rows affected)"
                    },
                    "metadata": {}
                },
                {
                    "output_type": "display_data",
                    "data": {
                        "text/html": "Total execution time: 00:00:00.076"
                    },
                    "metadata": {}
                },
                {
                    "output_type": "execute_result",
                    "execution_count": 28,
                    "data": {
                        "application/vnd.dataresource+json": {
                            "schema": {
                                "fields": [
                                    {
                                        "name": "COLUMN_NAME"
                                    },
                                    {
                                        "name": "DATA_TYPE"
                                    }
                                ]
                            },
                            "data": [
                                {
                                    "0": "country",
                                    "1": "nvarchar"
                                },
                                {
                                    "0": "year",
                                    "1": "float"
                                },
                                {
                                    "0": "iso_code",
                                    "1": "nvarchar"
                                },
                                {
                                    "0": "population",
                                    "1": "float"
                                },
                                {
                                    "0": "gdp",
                                    "1": "nvarchar"
                                },
                                {
                                    "0": "biofuel_cons_change_pct",
                                    "1": "nvarchar"
                                },
                                {
                                    "0": "biofuel_cons_change_twh",
                                    "1": "nvarchar"
                                },
                                {
                                    "0": "biofuel_cons_per_capita",
                                    "1": "nvarchar"
                                },
                                {
                                    "0": "biofuel_consumption",
                                    "1": "nvarchar"
                                },
                                {
                                    "0": "biofuel_elec_per_capita",
                                    "1": "nvarchar"
                                }
                            ]
                        },
                        "text/html": "<table><tr><th>COLUMN_NAME</th><th>DATA_TYPE</th></tr><tr><td>country</td><td>nvarchar</td></tr><tr><td>year</td><td>float</td></tr><tr><td>iso_code</td><td>nvarchar</td></tr><tr><td>population</td><td>float</td></tr><tr><td>gdp</td><td>nvarchar</td></tr><tr><td>biofuel_cons_change_pct</td><td>nvarchar</td></tr><tr><td>biofuel_cons_change_twh</td><td>nvarchar</td></tr><tr><td>biofuel_cons_per_capita</td><td>nvarchar</td></tr><tr><td>biofuel_consumption</td><td>nvarchar</td></tr><tr><td>biofuel_elec_per_capita</td><td>nvarchar</td></tr></table>"
                    },
                    "metadata": {}
                }
            ],
            "execution_count": 28
        },
        {
            "cell_type": "markdown",
            "source": [
                "## **2\\. Cleaning Data**"
            ],
            "metadata": {
                "azdata_cell_guid": "b09e390f-7163-4565-bfa6-179c55c01290"
            },
            "attachments": {}
        },
        {
            "cell_type": "markdown",
            "source": [
                "Changing the data types for used columns"
            ],
            "metadata": {
                "azdata_cell_guid": "3f2cad61-581d-4371-b0d5-bd51366b6984"
            },
            "attachments": {}
        },
        {
            "cell_type": "code",
            "source": [
                "ALTER TABLE Energy \r\n",
                "ALTER COLUMN energy_per_capita FLOAT;"
            ],
            "metadata": {
                "language": "sql",
                "azdata_cell_guid": "04c8f60e-624b-4c83-aebe-8ad3028451ed"
            },
            "outputs": [
                {
                    "output_type": "display_data",
                    "data": {
                        "text/html": "Commands completed successfully."
                    },
                    "metadata": {}
                },
                {
                    "output_type": "display_data",
                    "data": {
                        "text/html": "Total execution time: 00:00:00.662"
                    },
                    "metadata": {}
                }
            ],
            "execution_count": 39
        },
        {
            "cell_type": "code",
            "source": [
                "ALTER TABLE Energy \r\n",
                "ALTER COLUMN gdp FLOAT;"
            ],
            "metadata": {
                "language": "sql",
                "azdata_cell_guid": "24734099-7e3a-42e4-ad98-897cc6b65bfd"
            },
            "outputs": [
                {
                    "output_type": "display_data",
                    "data": {
                        "text/html": "Commands completed successfully."
                    },
                    "metadata": {}
                },
                {
                    "output_type": "display_data",
                    "data": {
                        "text/html": "Total execution time: 00:00:00.018"
                    },
                    "metadata": {}
                }
            ],
            "execution_count": 48
        },
        {
            "cell_type": "code",
            "source": [
                "ALTER TABLE Energy \r\n",
                "ALTER COLUMN greenhouse_gas_emissions FLOAT;"
            ],
            "metadata": {
                "language": "sql",
                "azdata_cell_guid": "1604fa84-cba5-4eb6-879f-b72d284b5d04"
            },
            "outputs": [
                {
                    "output_type": "display_data",
                    "data": {
                        "text/html": "Commands completed successfully."
                    },
                    "metadata": {}
                },
                {
                    "output_type": "display_data",
                    "data": {
                        "text/html": "Total execution time: 00:00:00.191"
                    },
                    "metadata": {}
                }
            ],
            "execution_count": 46
        },
        {
            "cell_type": "code",
            "source": [
                "ALTER TABLE Energy \r\n",
                "ALTER COLUMN electricity_generation FLOAT;"
            ],
            "metadata": {
                "language": "sql",
                "azdata_cell_guid": "ae6dc018-ff6b-4c26-bbfa-cbb336bbd1c0"
            },
            "outputs": [
                {
                    "output_type": "display_data",
                    "data": {
                        "text/html": "Commands completed successfully."
                    },
                    "metadata": {}
                },
                {
                    "output_type": "display_data",
                    "data": {
                        "text/html": "Total execution time: 00:00:00.210"
                    },
                    "metadata": {}
                }
            ],
            "execution_count": 47
        },
        {
            "cell_type": "code",
            "source": [
                "ALTER TABLE Energy\r\n",
                "ALTER COLUMN electricity_demand FLOAT;"
            ],
            "metadata": {
                "language": "sql",
                "azdata_cell_guid": "82d27df3-7bc5-4e68-985b-6953447df9f2"
            },
            "outputs": [
                {
                    "output_type": "display_data",
                    "data": {
                        "text/html": "Commands completed successfully."
                    },
                    "metadata": {}
                },
                {
                    "output_type": "display_data",
                    "data": {
                        "text/html": "Total execution time: 00:00:00.374"
                    },
                    "metadata": {}
                }
            ],
            "execution_count": 31
        },
        {
            "cell_type": "code",
            "source": [
                "ALTER TABLE Energy\r\n",
                "ALTER COLUMN energy_cons_change_pct FLOAT;"
            ],
            "metadata": {
                "language": "sql",
                "azdata_cell_guid": "a068e364-45aa-4002-8aa5-0ca532f0f281"
            },
            "outputs": [
                {
                    "output_type": "display_data",
                    "data": {
                        "text/html": "Commands completed successfully."
                    },
                    "metadata": {}
                },
                {
                    "output_type": "display_data",
                    "data": {
                        "text/html": "Total execution time: 00:00:00.341"
                    },
                    "metadata": {}
                }
            ],
            "execution_count": 33
        },
        {
            "cell_type": "code",
            "source": [
                "ALTER TABLE Energy\r\n",
                "ALTER COLUMN carbon_intensity_elec FLOAT;"
            ],
            "metadata": {
                "azdata_cell_guid": "f0ea0c92-813b-42c0-9162-d70a8018d91f",
                "language": "sql"
            },
            "outputs": [
                {
                    "output_type": "display_data",
                    "data": {
                        "text/html": "Commands completed successfully."
                    },
                    "metadata": {}
                },
                {
                    "output_type": "display_data",
                    "data": {
                        "text/html": "Total execution time: 00:00:00.327"
                    },
                    "metadata": {}
                }
            ],
            "execution_count": 41
        },
        {
            "cell_type": "code",
            "source": [
                "---- Check whether it is chaged\r\n",
                "\r\n",
                "SELECT TOP 10 COLUMN_NAME, DATA_TYPE\r\n",
                "FROM INFORMATION_SCHEMA.COLUMNS\r\n",
                "WHERE TABLE_NAME = 'Energy';"
            ],
            "metadata": {
                "language": "sql",
                "azdata_cell_guid": "2df0abd1-2b53-46d8-af2d-4a90bc113aba"
            },
            "outputs": [
                {
                    "output_type": "display_data",
                    "data": {
                        "text/html": "(10 rows affected)"
                    },
                    "metadata": {}
                },
                {
                    "output_type": "display_data",
                    "data": {
                        "text/html": "Total execution time: 00:00:00.073"
                    },
                    "metadata": {}
                },
                {
                    "output_type": "execute_result",
                    "execution_count": 42,
                    "data": {
                        "application/vnd.dataresource+json": {
                            "schema": {
                                "fields": [
                                    {
                                        "name": "COLUMN_NAME"
                                    },
                                    {
                                        "name": "DATA_TYPE"
                                    }
                                ]
                            },
                            "data": [
                                {
                                    "0": "country",
                                    "1": "nvarchar"
                                },
                                {
                                    "0": "year",
                                    "1": "float"
                                },
                                {
                                    "0": "iso_code",
                                    "1": "nvarchar"
                                },
                                {
                                    "0": "population",
                                    "1": "float"
                                },
                                {
                                    "0": "gdp",
                                    "1": "float"
                                },
                                {
                                    "0": "biofuel_cons_change_pct",
                                    "1": "nvarchar"
                                },
                                {
                                    "0": "biofuel_cons_change_twh",
                                    "1": "nvarchar"
                                },
                                {
                                    "0": "biofuel_cons_per_capita",
                                    "1": "nvarchar"
                                },
                                {
                                    "0": "biofuel_consumption",
                                    "1": "nvarchar"
                                },
                                {
                                    "0": "biofuel_elec_per_capita",
                                    "1": "nvarchar"
                                }
                            ]
                        },
                        "text/html": "<table><tr><th>COLUMN_NAME</th><th>DATA_TYPE</th></tr><tr><td>country</td><td>nvarchar</td></tr><tr><td>year</td><td>float</td></tr><tr><td>iso_code</td><td>nvarchar</td></tr><tr><td>population</td><td>float</td></tr><tr><td>gdp</td><td>float</td></tr><tr><td>biofuel_cons_change_pct</td><td>nvarchar</td></tr><tr><td>biofuel_cons_change_twh</td><td>nvarchar</td></tr><tr><td>biofuel_cons_per_capita</td><td>nvarchar</td></tr><tr><td>biofuel_consumption</td><td>nvarchar</td></tr><tr><td>biofuel_elec_per_capita</td><td>nvarchar</td></tr></table>"
                    },
                    "metadata": {}
                }
            ],
            "execution_count": 42
        },
        {
            "cell_type": "markdown",
            "source": [
                "Dropping unused rows such as continent, world, etc."
            ],
            "metadata": {
                "azdata_cell_guid": "f8cb22bc-067c-439a-98d6-1313a0c754c0"
            },
            "attachments": {}
        },
        {
            "cell_type": "code",
            "source": [
                "DELETE FROM Energy\r\n",
                "WHERE iso_code IS NULL"
            ],
            "metadata": {
                "azdata_cell_guid": "9bfd601b-1e45-4324-b9bf-6429639b97b9",
                "language": "sql"
            },
            "outputs": [
                {
                    "output_type": "display_data",
                    "data": {
                        "text/html": "(5470 rows affected)"
                    },
                    "metadata": {}
                },
                {
                    "output_type": "display_data",
                    "data": {
                        "text/html": "Total execution time: 00:00:00.296"
                    },
                    "metadata": {}
                }
            ],
            "execution_count": 61
        },
        {
            "cell_type": "code",
            "source": [
                "--- See table to make sure\r\n",
                "\r\n",
                "SELECT TOP 10 country, year, iso_code\r\n",
                "FROM Energy\r\n",
                "ORDER BY country, [year];"
            ],
            "metadata": {
                "language": "sql",
                "azdata_cell_guid": "0ac4c37e-e9cd-4a43-8f9e-c31f39af0dfa"
            },
            "outputs": [
                {
                    "output_type": "display_data",
                    "data": {
                        "text/html": "(10 rows affected)"
                    },
                    "metadata": {}
                },
                {
                    "output_type": "display_data",
                    "data": {
                        "text/html": "Total execution time: 00:00:00.074"
                    },
                    "metadata": {}
                },
                {
                    "output_type": "execute_result",
                    "execution_count": 79,
                    "data": {
                        "application/vnd.dataresource+json": {
                            "schema": {
                                "fields": [
                                    {
                                        "name": "country"
                                    },
                                    {
                                        "name": "year"
                                    },
                                    {
                                        "name": "iso_code"
                                    }
                                ]
                            },
                            "data": [
                                {
                                    "0": "Afghanistan",
                                    "1": "1900",
                                    "2": "AFG"
                                },
                                {
                                    "0": "Afghanistan",
                                    "1": "1901",
                                    "2": "AFG"
                                },
                                {
                                    "0": "Afghanistan",
                                    "1": "1902",
                                    "2": "AFG"
                                },
                                {
                                    "0": "Afghanistan",
                                    "1": "1903",
                                    "2": "AFG"
                                },
                                {
                                    "0": "Afghanistan",
                                    "1": "1904",
                                    "2": "AFG"
                                },
                                {
                                    "0": "Afghanistan",
                                    "1": "1905",
                                    "2": "AFG"
                                },
                                {
                                    "0": "Afghanistan",
                                    "1": "1906",
                                    "2": "AFG"
                                },
                                {
                                    "0": "Afghanistan",
                                    "1": "1907",
                                    "2": "AFG"
                                },
                                {
                                    "0": "Afghanistan",
                                    "1": "1908",
                                    "2": "AFG"
                                },
                                {
                                    "0": "Afghanistan",
                                    "1": "1909",
                                    "2": "AFG"
                                }
                            ]
                        },
                        "text/html": "<table><tr><th>country</th><th>year</th><th>iso_code</th></tr><tr><td>Afghanistan</td><td>1900</td><td>AFG</td></tr><tr><td>Afghanistan</td><td>1901</td><td>AFG</td></tr><tr><td>Afghanistan</td><td>1902</td><td>AFG</td></tr><tr><td>Afghanistan</td><td>1903</td><td>AFG</td></tr><tr><td>Afghanistan</td><td>1904</td><td>AFG</td></tr><tr><td>Afghanistan</td><td>1905</td><td>AFG</td></tr><tr><td>Afghanistan</td><td>1906</td><td>AFG</td></tr><tr><td>Afghanistan</td><td>1907</td><td>AFG</td></tr><tr><td>Afghanistan</td><td>1908</td><td>AFG</td></tr><tr><td>Afghanistan</td><td>1909</td><td>AFG</td></tr></table>"
                    },
                    "metadata": {}
                }
            ],
            "execution_count": 79
        },
        {
            "cell_type": "markdown",
            "source": [
                "## **3\\. Data Exploration**"
            ],
            "metadata": {
                "azdata_cell_guid": "41b7c16a-b1b8-4903-b688-8e610a1ccc99"
            },
            "attachments": {}
        },
        {
            "cell_type": "markdown",
            "source": [
                "### **What country is the most consuming energy in year 2021?**"
            ],
            "metadata": {
                "azdata_cell_guid": "aafd928b-52de-461b-8628-de392dd82f87"
            },
            "attachments": {}
        },
        {
            "cell_type": "code",
            "source": [
                "SELECT TOP 10 country, [year], energy_per_capita\r\n",
                "FROM Energy\r\n",
                "WHERE [year] = '2021' AND energy_per_capita IS NOT NULL\r\n",
                "GROUP BY country, [year], energy_per_capita\r\n",
                "ORDER BY energy_per_capita DESC;\r\n",
                ""
            ],
            "metadata": {
                "azdata_cell_guid": "4199fc26-5e06-41a8-8e33-963b44ad2e05",
                "language": "sql",
                "tags": []
            },
            "outputs": [
                {
                    "output_type": "display_data",
                    "data": {
                        "text/html": "(10 rows affected)"
                    },
                    "metadata": {}
                },
                {
                    "output_type": "display_data",
                    "data": {
                        "text/html": "Total execution time: 00:00:00.229"
                    },
                    "metadata": {}
                },
                {
                    "output_type": "execute_result",
                    "execution_count": 102,
                    "data": {
                        "application/vnd.dataresource+json": {
                            "schema": {
                                "fields": [
                                    {
                                        "name": "country"
                                    },
                                    {
                                        "name": "year"
                                    },
                                    {
                                        "name": "energy_per_capita"
                                    }
                                ]
                            },
                            "data": [
                                {
                                    "0": "Qatar",
                                    "1": "2021",
                                    "2": "199137.94"
                                },
                                {
                                    "0": "Singapore",
                                    "1": "2021",
                                    "2": "161620.34"
                                },
                                {
                                    "0": "Iceland",
                                    "1": "2021",
                                    "2": "157653.91"
                                },
                                {
                                    "0": "United Arab Emirates",
                                    "1": "2021",
                                    "2": "134316.92"
                                },
                                {
                                    "0": "Kuwait",
                                    "1": "2021",
                                    "2": "113650.29"
                                },
                                {
                                    "0": "Trinidad and Tobago",
                                    "1": "2021",
                                    "2": "111894.47"
                                },
                                {
                                    "0": "Norway",
                                    "1": "2021",
                                    "2": "105148.3"
                                },
                                {
                                    "0": "Canada",
                                    "1": "2021",
                                    "2": "101458.65"
                                },
                                {
                                    "0": "Oman",
                                    "1": "2021",
                                    "2": "92128.06"
                                },
                                {
                                    "0": "Saudi Arabia",
                                    "1": "2021",
                                    "2": "83635.4"
                                }
                            ]
                        },
                        "text/html": "<table><tr><th>country</th><th>year</th><th>energy_per_capita</th></tr><tr><td>Qatar</td><td>2021</td><td>199137.94</td></tr><tr><td>Singapore</td><td>2021</td><td>161620.34</td></tr><tr><td>Iceland</td><td>2021</td><td>157653.91</td></tr><tr><td>United Arab Emirates</td><td>2021</td><td>134316.92</td></tr><tr><td>Kuwait</td><td>2021</td><td>113650.29</td></tr><tr><td>Trinidad and Tobago</td><td>2021</td><td>111894.47</td></tr><tr><td>Norway</td><td>2021</td><td>105148.3</td></tr><tr><td>Canada</td><td>2021</td><td>101458.65</td></tr><tr><td>Oman</td><td>2021</td><td>92128.06</td></tr><tr><td>Saudi Arabia</td><td>2021</td><td>83635.4</td></tr></table>"
                    },
                    "metadata": {}
                }
            ],
            "execution_count": 102
        },
        {
            "cell_type": "markdown",
            "source": [
                "### **What country is the most enerating electricity in year 2021?**"
            ],
            "metadata": {
                "azdata_cell_guid": "31456f1c-c5e3-485c-9ca6-9b55c71d0cc3"
            },
            "attachments": {}
        },
        {
            "cell_type": "code",
            "source": [
                "SELECT TOP 10 country, [year], electricity_generation\r\n",
                "FROM Energy\r\n",
                "WHERE [year] = '2021' AND electricity_generation IS NOT NULL\r\n",
                "GROUP BY country, [year], electricity_generation\r\n",
                "ORDER BY electricity_generation DESC;"
            ],
            "metadata": {
                "azdata_cell_guid": "3748d2dd-2add-4da8-805f-319f8cbb08b0",
                "language": "sql"
            },
            "outputs": [
                {
                    "output_type": "display_data",
                    "data": {
                        "text/html": "(10 rows affected)"
                    },
                    "metadata": {}
                },
                {
                    "output_type": "display_data",
                    "data": {
                        "text/html": "Total execution time: 00:00:00.153"
                    },
                    "metadata": {}
                },
                {
                    "output_type": "execute_result",
                    "execution_count": 109,
                    "data": {
                        "application/vnd.dataresource+json": {
                            "schema": {
                                "fields": [
                                    {
                                        "name": "country"
                                    },
                                    {
                                        "name": "year"
                                    },
                                    {
                                        "name": "electricity_generation"
                                    }
                                ]
                            },
                            "data": [
                                {
                                    "0": "China",
                                    "1": "2021",
                                    "2": "8484.02"
                                },
                                {
                                    "0": "United States",
                                    "1": "2021",
                                    "2": "4152.22"
                                },
                                {
                                    "0": "India",
                                    "1": "2021",
                                    "2": "1713.75"
                                },
                                {
                                    "0": "Russia",
                                    "1": "2021",
                                    "2": "1110.36"
                                },
                                {
                                    "0": "Japan",
                                    "1": "2021",
                                    "2": "958.53"
                                },
                                {
                                    "0": "Brazil",
                                    "1": "2021",
                                    "2": "662.58"
                                },
                                {
                                    "0": "Canada",
                                    "1": "2021",
                                    "2": "625.95"
                                },
                                {
                                    "0": "South Korea",
                                    "1": "2021",
                                    "2": "588.52"
                                },
                                {
                                    "0": "Germany",
                                    "1": "2021",
                                    "2": "582.24"
                                },
                                {
                                    "0": "France",
                                    "1": "2021",
                                    "2": "550.38"
                                }
                            ]
                        },
                        "text/html": "<table><tr><th>country</th><th>year</th><th>electricity_generation</th></tr><tr><td>China</td><td>2021</td><td>8484.02</td></tr><tr><td>United States</td><td>2021</td><td>4152.22</td></tr><tr><td>India</td><td>2021</td><td>1713.75</td></tr><tr><td>Russia</td><td>2021</td><td>1110.36</td></tr><tr><td>Japan</td><td>2021</td><td>958.53</td></tr><tr><td>Brazil</td><td>2021</td><td>662.58</td></tr><tr><td>Canada</td><td>2021</td><td>625.95</td></tr><tr><td>South Korea</td><td>2021</td><td>588.52</td></tr><tr><td>Germany</td><td>2021</td><td>582.24</td></tr><tr><td>France</td><td>2021</td><td>550.38</td></tr></table>"
                    },
                    "metadata": {}
                }
            ],
            "execution_count": 109
        },
        {
            "cell_type": "markdown",
            "source": [
                "### **What is the proportion of Electricity Demand compared to Electric Generation in Thailand?**"
            ],
            "metadata": {
                "azdata_cell_guid": "17dc373f-92b8-47d5-b893-171a44480b08"
            },
            "attachments": {}
        },
        {
            "cell_type": "code",
            "source": [
                "-- SELECT country, year,  population, electricity_demand, electricity_generation, (electricity_demand/electricity_generation)*100 AS ElectricDemandPerGeneration\r\n",
                "-- FROM Energy\r\n",
                "-- WHERE country LIKE '%Thailand%' AND  electricity_demand is not null\r\n",
                "-- ORDER BY 1,2\r\n",
                "\r\n",
                "---The demand is higher than supply, so showing percentage of higher\r\n",
                "SELECT country, year,  population, electricity_demand, electricity_generation, (electricity_demand/electricity_generation)*100 AS ElectricDemandPerGeneration\r\n",
                "    , ((electricity_demand/electricity_generation)*100) - 100 AS PercentDemandHigher\r\n",
                "FROM Energy\r\n",
                "WHERE country LIKE '%Thailand%' AND  electricity_demand is not null\r\n",
                "ORDER BY 1,2 "
            ],
            "metadata": {
                "azdata_cell_guid": "c5b38ac4-0d9f-45ac-8a6a-ef6bf8aebfae",
                "language": "sql"
            },
            "outputs": [
                {
                    "output_type": "display_data",
                    "data": {
                        "text/html": "(22 rows affected)"
                    },
                    "metadata": {}
                },
                {
                    "output_type": "display_data",
                    "data": {
                        "text/html": "Total execution time: 00:00:00.095"
                    },
                    "metadata": {}
                },
                {
                    "output_type": "execute_result",
                    "execution_count": 32,
                    "data": {
                        "application/vnd.dataresource+json": {
                            "schema": {
                                "fields": [
                                    {
                                        "name": "country"
                                    },
                                    {
                                        "name": "year"
                                    },
                                    {
                                        "name": "population"
                                    },
                                    {
                                        "name": "electricity_demand"
                                    },
                                    {
                                        "name": "electricity_generation"
                                    },
                                    {
                                        "name": "ElectricDemandPerGeneration"
                                    },
                                    {
                                        "name": "PercentDemandHigher"
                                    }
                                ]
                            },
                            "data": [
                                {
                                    "0": "Thailand",
                                    "1": "2000",
                                    "2": "63066604",
                                    "3": "92.35",
                                    "4": "89.53",
                                    "5": "103.14978219591198",
                                    "6": "3.149782195911982"
                                },
                                {
                                    "0": "Thailand",
                                    "1": "2001",
                                    "2": "63649892",
                                    "3": "98.44",
                                    "4": "95.73",
                                    "5": "102.83087851248303",
                                    "6": "2.830878512483025"
                                },
                                {
                                    "0": "Thailand",
                                    "1": "2002",
                                    "2": "64222576",
                                    "3": "104.2",
                                    "4": "101.58",
                                    "5": "102.57924788344164",
                                    "6": "2.5792478834416386"
                                },
                                {
                                    "0": "Thailand",
                                    "1": "2003",
                                    "2": "64776960",
                                    "3": "111.24",
                                    "4": "108.97",
                                    "5": "102.08314214921536",
                                    "6": "2.0831421492153623"
                                },
                                {
                                    "0": "Thailand",
                                    "1": "2004",
                                    "2": "65311164",
                                    "3": "120.21",
                                    "4": "117.09",
                                    "5": "102.6646169613118",
                                    "6": "2.6646169613117934"
                                },
                                {
                                    "0": "Thailand",
                                    "1": "2005",
                                    "2": "65821360",
                                    "3": "126.87",
                                    "4": "123",
                                    "5": "103.14634146341464",
                                    "6": "3.146341463414643"
                                },
                                {
                                    "0": "Thailand",
                                    "1": "2006",
                                    "2": "66319528",
                                    "3": "133.8",
                                    "4": "129.23",
                                    "5": "103.53633057339628",
                                    "6": "3.5363305733962846"
                                },
                                {
                                    "0": "Thailand",
                                    "1": "2007",
                                    "2": "66826752",
                                    "3": "136.06",
                                    "4": "132.32",
                                    "5": "102.82648125755745",
                                    "6": "2.8264812575574467"
                                },
                                {
                                    "0": "Thailand",
                                    "1": "2008",
                                    "2": "67328240",
                                    "3": "138.2",
                                    "4": "136.38",
                                    "5": "101.33450652588355",
                                    "6": "1.3345065258835547"
                                },
                                {
                                    "0": "Thailand",
                                    "1": "2009",
                                    "2": "67813656",
                                    "3": "138.33",
                                    "4": "137.18",
                                    "5": "100.83831462312291",
                                    "6": "0.8383146231229119"
                                },
                                {
                                    "0": "Thailand",
                                    "1": "2010",
                                    "2": "68270488",
                                    "3": "156.24",
                                    "4": "150.3",
                                    "5": "103.95209580838323",
                                    "6": "3.952095808383234"
                                },
                                {
                                    "0": "Thailand",
                                    "1": "2011",
                                    "2": "68712848",
                                    "3": "156.58",
                                    "4": "147.14",
                                    "5": "106.41565855647683",
                                    "6": "6.415658556476828"
                                },
                                {
                                    "0": "Thailand",
                                    "1": "2012",
                                    "2": "69157024",
                                    "3": "165.77",
                                    "4": "157.15",
                                    "5": "105.48520521794464",
                                    "6": "5.485205217944639"
                                },
                                {
                                    "0": "Thailand",
                                    "1": "2013",
                                    "2": "69578600",
                                    "3": "171.4",
                                    "4": "160.62",
                                    "5": "106.71149296476155",
                                    "6": "6.711492964761547"
                                },
                                {
                                    "0": "Thailand",
                                    "1": "2014",
                                    "2": "69960944",
                                    "3": "173.13",
                                    "4": "162.94",
                                    "5": "106.25383576776728",
                                    "6": "6.253835767767285"
                                },
                                {
                                    "0": "Thailand",
                                    "1": "2015",
                                    "2": "70294408",
                                    "3": "178.88",
                                    "4": "166.73",
                                    "5": "107.28723085227614",
                                    "6": "7.287230852276139"
                                },
                                {
                                    "0": "Thailand",
                                    "1": "2016",
                                    "2": "70607032",
                                    "3": "196.15",
                                    "4": "177.76",
                                    "5": "110.34540954095411",
                                    "6": "10.345409540954108"
                                },
                                {
                                    "0": "Thailand",
                                    "1": "2017",
                                    "2": "70898208",
                                    "3": "205.12",
                                    "4": "181.8",
                                    "5": "112.82728272827282",
                                    "6": "12.82728272827282"
                                },
                                {
                                    "0": "Thailand",
                                    "1": "2018",
                                    "2": "71127808",
                                    "3": "207.68",
                                    "4": "182.1",
                                    "5": "114.0472267984624",
                                    "6": "14.047226798462404"
                                },
                                {
                                    "0": "Thailand",
                                    "1": "2019",
                                    "2": "71307768",
                                    "3": "213.27",
                                    "4": "190.61",
                                    "5": "111.8881485756256",
                                    "6": "11.888148575625607"
                                },
                                {
                                    "0": "Thailand",
                                    "1": "2020",
                                    "2": "71475664",
                                    "3": "206.18",
                                    "4": "179.25",
                                    "5": "115.02370990237098",
                                    "6": "15.023709902370982"
                                },
                                {
                                    "0": "Thailand",
                                    "1": "2021",
                                    "2": "71601104",
                                    "3": "215.56",
                                    "4": "186.88",
                                    "5": "115.34674657534248",
                                    "6": "15.346746575342479"
                                }
                            ]
                        },
                        "text/html": "<table><tr><th>country</th><th>year</th><th>population</th><th>electricity_demand</th><th>electricity_generation</th><th>ElectricDemandPerGeneration</th><th>PercentDemandHigher</th></tr><tr><td>Thailand</td><td>2000</td><td>63066604</td><td>92.35</td><td>89.53</td><td>103.14978219591198</td><td>3.149782195911982</td></tr><tr><td>Thailand</td><td>2001</td><td>63649892</td><td>98.44</td><td>95.73</td><td>102.83087851248303</td><td>2.830878512483025</td></tr><tr><td>Thailand</td><td>2002</td><td>64222576</td><td>104.2</td><td>101.58</td><td>102.57924788344164</td><td>2.5792478834416386</td></tr><tr><td>Thailand</td><td>2003</td><td>64776960</td><td>111.24</td><td>108.97</td><td>102.08314214921536</td><td>2.0831421492153623</td></tr><tr><td>Thailand</td><td>2004</td><td>65311164</td><td>120.21</td><td>117.09</td><td>102.6646169613118</td><td>2.6646169613117934</td></tr><tr><td>Thailand</td><td>2005</td><td>65821360</td><td>126.87</td><td>123</td><td>103.14634146341464</td><td>3.146341463414643</td></tr><tr><td>Thailand</td><td>2006</td><td>66319528</td><td>133.8</td><td>129.23</td><td>103.53633057339628</td><td>3.5363305733962846</td></tr><tr><td>Thailand</td><td>2007</td><td>66826752</td><td>136.06</td><td>132.32</td><td>102.82648125755745</td><td>2.8264812575574467</td></tr><tr><td>Thailand</td><td>2008</td><td>67328240</td><td>138.2</td><td>136.38</td><td>101.33450652588355</td><td>1.3345065258835547</td></tr><tr><td>Thailand</td><td>2009</td><td>67813656</td><td>138.33</td><td>137.18</td><td>100.83831462312291</td><td>0.8383146231229119</td></tr><tr><td>Thailand</td><td>2010</td><td>68270488</td><td>156.24</td><td>150.3</td><td>103.95209580838323</td><td>3.952095808383234</td></tr><tr><td>Thailand</td><td>2011</td><td>68712848</td><td>156.58</td><td>147.14</td><td>106.41565855647683</td><td>6.415658556476828</td></tr><tr><td>Thailand</td><td>2012</td><td>69157024</td><td>165.77</td><td>157.15</td><td>105.48520521794464</td><td>5.485205217944639</td></tr><tr><td>Thailand</td><td>2013</td><td>69578600</td><td>171.4</td><td>160.62</td><td>106.71149296476155</td><td>6.711492964761547</td></tr><tr><td>Thailand</td><td>2014</td><td>69960944</td><td>173.13</td><td>162.94</td><td>106.25383576776728</td><td>6.253835767767285</td></tr><tr><td>Thailand</td><td>2015</td><td>70294408</td><td>178.88</td><td>166.73</td><td>107.28723085227614</td><td>7.287230852276139</td></tr><tr><td>Thailand</td><td>2016</td><td>70607032</td><td>196.15</td><td>177.76</td><td>110.34540954095411</td><td>10.345409540954108</td></tr><tr><td>Thailand</td><td>2017</td><td>70898208</td><td>205.12</td><td>181.8</td><td>112.82728272827282</td><td>12.82728272827282</td></tr><tr><td>Thailand</td><td>2018</td><td>71127808</td><td>207.68</td><td>182.1</td><td>114.0472267984624</td><td>14.047226798462404</td></tr><tr><td>Thailand</td><td>2019</td><td>71307768</td><td>213.27</td><td>190.61</td><td>111.8881485756256</td><td>11.888148575625607</td></tr><tr><td>Thailand</td><td>2020</td><td>71475664</td><td>206.18</td><td>179.25</td><td>115.02370990237098</td><td>15.023709902370982</td></tr><tr><td>Thailand</td><td>2021</td><td>71601104</td><td>215.56</td><td>186.88</td><td>115.34674657534248</td><td>15.346746575342479</td></tr></table>"
                    },
                    "metadata": {}
                }
            ],
            "execution_count": 32
        },
        {
            "cell_type": "markdown",
            "source": [
                "### **How is the trend of highest Energy Consumption compared with Population in Thailand**"
            ],
            "metadata": {
                "azdata_cell_guid": "e7b6636f-ae04-497a-998f-7aeea58cb94d"
            },
            "attachments": {}
        },
        {
            "cell_type": "code",
            "source": [
                "SELECT country, year, population, MAX(energy_per_capita) AS MaxEnergyConsumed, MAX((energy_per_capita/population))*100 AS PercentPopulationComsumed\r\n",
                "FROM Energy\r\n",
                "WHERE country like '%Thailand%' AND energy_per_capita IS NOT NULL\r\n",
                "GROUP BY country, year, population\r\n",
                "ORDER BY PercentPopulationComsumed DESC"
            ],
            "metadata": {
                "azdata_cell_guid": "0d82d5b3-6897-4390-9832-a476683f4c40",
                "language": "sql"
            },
            "outputs": [
                {
                    "output_type": "display_data",
                    "data": {
                        "text/html": "(57 rows affected)"
                    },
                    "metadata": {}
                },
                {
                    "output_type": "display_data",
                    "data": {
                        "text/html": "Total execution time: 00:00:00.250"
                    },
                    "metadata": {}
                },
                {
                    "output_type": "execute_result",
                    "execution_count": 27,
                    "data": {
                        "application/vnd.dataresource+json": {
                            "schema": {
                                "fields": [
                                    {
                                        "name": "country"
                                    },
                                    {
                                        "name": "year"
                                    },
                                    {
                                        "name": "population"
                                    },
                                    {
                                        "name": "MaxEnergyConsumed"
                                    },
                                    {
                                        "name": "PercentPopulationComsumed"
                                    }
                                ]
                            },
                            "data": [
                                {
                                    "0": "Thailand",
                                    "1": "2018",
                                    "2": "71127808",
                                    "3": "21415.88",
                                    "4": "0.030109011654063624"
                                },
                                {
                                    "0": "Thailand",
                                    "1": "2019",
                                    "2": "71307768",
                                    "3": "21371.45",
                                    "4": "0.02997071791673524"
                                },
                                {
                                    "0": "Thailand",
                                    "1": "2017",
                                    "2": "70898208",
                                    "3": "20848.18",
                                    "4": "0.029405792597748025"
                                },
                                {
                                    "0": "Thailand",
                                    "1": "2016",
                                    "2": "70607032",
                                    "3": "20570.67",
                                    "4": "0.029134024497729914"
                                },
                                {
                                    "0": "Thailand",
                                    "1": "2015",
                                    "2": "70294408",
                                    "3": "20249.66",
                                    "4": "0.028806928710460155"
                                },
                                {
                                    "0": "Thailand",
                                    "1": "2014",
                                    "2": "69960944",
                                    "3": "19901.28",
                                    "4": "0.028446271393936594"
                                },
                                {
                                    "0": "Thailand",
                                    "1": "2012",
                                    "2": "69157024",
                                    "3": "19416.68",
                                    "4": "0.02807622259743276"
                                },
                                {
                                    "0": "Thailand",
                                    "1": "2013",
                                    "2": "69578600",
                                    "3": "19403.07",
                                    "4": "0.027886548450241886"
                                },
                                {
                                    "0": "Thailand",
                                    "1": "2021",
                                    "2": "71601104",
                                    "3": "19823",
                                    "4": "0.02768532731003701"
                                },
                                {
                                    "0": "Thailand",
                                    "1": "2020",
                                    "2": "71475664",
                                    "3": "19702.74",
                                    "4": "0.027565662069260387"
                                },
                                {
                                    "0": "Thailand",
                                    "1": "2011",
                                    "2": "68712848",
                                    "3": "18245.54",
                                    "4": "0.026553316491844437"
                                },
                                {
                                    "0": "Thailand",
                                    "1": "2010",
                                    "2": "68270488",
                                    "3": "17904.84",
                                    "4": "0.026226324909234575"
                                },
                                {
                                    "0": "Thailand",
                                    "1": "2009",
                                    "2": "67813656",
                                    "3": "16915.42",
                                    "4": "0.024943972936660425"
                                },
                                {
                                    "0": "Thailand",
                                    "1": "2007",
                                    "2": "66826752",
                                    "3": "16304.54",
                                    "4": "0.02439822303499054"
                                },
                                {
                                    "0": "Thailand",
                                    "1": "2008",
                                    "2": "67328240",
                                    "3": "16412.11",
                                    "4": "0.024376264699626785"
                                },
                                {
                                    "0": "Thailand",
                                    "1": "2006",
                                    "2": "66319528",
                                    "3": "15733.99",
                                    "4": "0.023724520476080587"
                                },
                                {
                                    "0": "Thailand",
                                    "1": "2005",
                                    "2": "65821360",
                                    "3": "15521.23",
                                    "4": "0.023580840626811723"
                                },
                                {
                                    "0": "Thailand",
                                    "1": "2004",
                                    "2": "65311164",
                                    "3": "15161.76",
                                    "4": "0.023214652857817694"
                                },
                                {
                                    "0": "Thailand",
                                    "1": "2003",
                                    "2": "64776960",
                                    "3": "14080.67",
                                    "4": "0.02173715777955619"
                                },
                                {
                                    "0": "Thailand",
                                    "1": "2002",
                                    "2": "64222576",
                                    "3": "13208.06",
                                    "4": "0.020566070099710728"
                                },
                                {
                                    "0": "Thailand",
                                    "1": "1997",
                                    "2": "60989104",
                                    "3": "12011.58",
                                    "4": "0.01969463266750074"
                                },
                                {
                                    "0": "Thailand",
                                    "1": "2001",
                                    "2": "63649892",
                                    "3": "12293.46",
                                    "4": "0.019314188310013157"
                                },
                                {
                                    "0": "Thailand",
                                    "1": "1996",
                                    "2": "60211100",
                                    "3": "11565.2",
                                    "4": "0.019207754051993736"
                                },
                                {
                                    "0": "Thailand",
                                    "1": "2000",
                                    "2": "63066604",
                                    "3": "11764.55",
                                    "4": "0.018654167584479416"
                                },
                                {
                                    "0": "Thailand",
                                    "1": "1999",
                                    "2": "62442652",
                                    "3": "11462.27",
                                    "4": "0.01835647531434123"
                                },
                                {
                                    "0": "Thailand",
                                    "1": "1998",
                                    "2": "61745216",
                                    "3": "10930.51",
                                    "4": "0.01770260225504758"
                                },
                                {
                                    "0": "Thailand",
                                    "1": "1995",
                                    "2": "59424836",
                                    "3": "10355.08",
                                    "4": "0.017425508755295513"
                                },
                                {
                                    "0": "Thailand",
                                    "1": "1994",
                                    "2": "58610012",
                                    "3": "9380.17",
                                    "4": "0.01600438164046102"
                                },
                                {
                                    "0": "Thailand",
                                    "1": "1993",
                                    "2": "57776080",
                                    "3": "8488.45",
                                    "4": "0.014691979795098595"
                                },
                                {
                                    "0": "Thailand",
                                    "1": "1992",
                                    "2": "56939020",
                                    "3": "7584.69",
                                    "4": "0.013320724522480364"
                                },
                                {
                                    "0": "Thailand",
                                    "1": "1991",
                                    "2": "56099872",
                                    "3": "7033.47",
                                    "4": "0.012537408284995732"
                                },
                                {
                                    "0": "Thailand",
                                    "1": "1990",
                                    "2": "55228408",
                                    "3": "6476.07",
                                    "4": "0.011725976240343557"
                                },
                                {
                                    "0": "Thailand",
                                    "1": "1989",
                                    "2": "54324012",
                                    "3": "5543.59",
                                    "4": "0.010204677077237963"
                                },
                                {
                                    "0": "Thailand",
                                    "1": "1988",
                                    "2": "53410956",
                                    "3": "4872",
                                    "4": "0.009121724014825723"
                                },
                                {
                                    "0": "Thailand",
                                    "1": "1987",
                                    "2": "52479184",
                                    "3": "4406.04",
                                    "4": "0.008395786032038914"
                                },
                                {
                                    "0": "Thailand",
                                    "1": "1986",
                                    "2": "51542096",
                                    "3": "3930.1",
                                    "4": "0.00762502945165443"
                                },
                                {
                                    "0": "Thailand",
                                    "1": "1985",
                                    "2": "50594932",
                                    "3": "3761.08",
                                    "4": "0.007433708973064733"
                                },
                                {
                                    "0": "Thailand",
                                    "1": "1984",
                                    "2": "49636732",
                                    "3": "3668.98",
                                    "4": "0.007391663093372062"
                                },
                                {
                                    "0": "Thailand",
                                    "1": "1979",
                                    "2": "44760096",
                                    "3": "3239.66",
                                    "4": "0.00723783076783392"
                                },
                                {
                                    "0": "Thailand",
                                    "1": "1978",
                                    "2": "43806716",
                                    "3": "3114.65",
                                    "4": "0.007109982861988559"
                                },
                                {
                                    "0": "Thailand",
                                    "1": "1977",
                                    "2": "42843796",
                                    "3": "2985.79",
                                    "4": "0.006969013670030546"
                                },
                                {
                                    "0": "Thailand",
                                    "1": "1980",
                                    "2": "45737756",
                                    "3": "3178.15",
                                    "4": "0.00694863560862059"
                                },
                                {
                                    "0": "Thailand",
                                    "1": "1983",
                                    "2": "48670568",
                                    "3": "3374.71",
                                    "4": "0.006933779774257001"
                                },
                                {
                                    "0": "Thailand",
                                    "1": "1981",
                                    "2": "46727288",
                                    "3": "3128.75",
                                    "4": "0.006695766293990784"
                                },
                                {
                                    "0": "Thailand",
                                    "1": "1976",
                                    "2": "41882128",
                                    "3": "2776.47",
                                    "4": "0.006629247682925758"
                                },
                                {
                                    "0": "Thailand",
                                    "1": "1982",
                                    "2": "47700340",
                                    "3": "3140.91",
                                    "4": "0.006584670046377027"
                                },
                                {
                                    "0": "Thailand",
                                    "1": "1975",
                                    "2": "40908472",
                                    "3": "2691.8",
                                    "4": "0.006580055104478115"
                                },
                                {
                                    "0": "Thailand",
                                    "1": "1973",
                                    "2": "38873064",
                                    "3": "2466.69",
                                    "4": "0.006345499289688098"
                                },
                                {
                                    "0": "Thailand",
                                    "1": "1972",
                                    "2": "37834384",
                                    "3": "2390.07",
                                    "4": "0.006317190204550444"
                                },
                                {
                                    "0": "Thailand",
                                    "1": "1974",
                                    "2": "39900960",
                                    "3": "2500.32",
                                    "4": "0.006266315396922781"
                                },
                                {
                                    "0": "Thailand",
                                    "1": "1971",
                                    "2": "36807996",
                                    "3": "2024.48",
                                    "4": "0.005500109269735848"
                                },
                                {
                                    "0": "Thailand",
                                    "1": "1970",
                                    "2": "35791728",
                                    "3": "1879.58",
                                    "4": "0.005251436868317729"
                                },
                                {
                                    "0": "Thailand",
                                    "1": "1968",
                                    "2": "33807356",
                                    "3": "1581.66",
                                    "4": "0.004678449270034605"
                                },
                                {
                                    "0": "Thailand",
                                    "1": "1969",
                                    "2": "34787584",
                                    "3": "1623.41",
                                    "4": "0.004666636234353039"
                                },
                                {
                                    "0": "Thailand",
                                    "1": "1967",
                                    "2": "32839338",
                                    "3": "1269.16",
                                    "4": "0.003864755129960294"
                                },
                                {
                                    "0": "Thailand",
                                    "1": "1966",
                                    "2": "31883754",
                                    "3": "1147.72",
                                    "4": "0.0035997015909732585"
                                },
                                {
                                    "0": "Thailand",
                                    "1": "1965",
                                    "2": "30940276",
                                    "3": "992.45",
                                    "4": "0.003207631373424077"
                                }
                            ]
                        },
                        "text/html": "<table><tr><th>country</th><th>year</th><th>population</th><th>MaxEnergyConsumed</th><th>PercentPopulationComsumed</th></tr><tr><td>Thailand</td><td>2018</td><td>71127808</td><td>21415.88</td><td>0.030109011654063624</td></tr><tr><td>Thailand</td><td>2019</td><td>71307768</td><td>21371.45</td><td>0.02997071791673524</td></tr><tr><td>Thailand</td><td>2017</td><td>70898208</td><td>20848.18</td><td>0.029405792597748025</td></tr><tr><td>Thailand</td><td>2016</td><td>70607032</td><td>20570.67</td><td>0.029134024497729914</td></tr><tr><td>Thailand</td><td>2015</td><td>70294408</td><td>20249.66</td><td>0.028806928710460155</td></tr><tr><td>Thailand</td><td>2014</td><td>69960944</td><td>19901.28</td><td>0.028446271393936594</td></tr><tr><td>Thailand</td><td>2012</td><td>69157024</td><td>19416.68</td><td>0.02807622259743276</td></tr><tr><td>Thailand</td><td>2013</td><td>69578600</td><td>19403.07</td><td>0.027886548450241886</td></tr><tr><td>Thailand</td><td>2021</td><td>71601104</td><td>19823</td><td>0.02768532731003701</td></tr><tr><td>Thailand</td><td>2020</td><td>71475664</td><td>19702.74</td><td>0.027565662069260387</td></tr><tr><td>Thailand</td><td>2011</td><td>68712848</td><td>18245.54</td><td>0.026553316491844437</td></tr><tr><td>Thailand</td><td>2010</td><td>68270488</td><td>17904.84</td><td>0.026226324909234575</td></tr><tr><td>Thailand</td><td>2009</td><td>67813656</td><td>16915.42</td><td>0.024943972936660425</td></tr><tr><td>Thailand</td><td>2007</td><td>66826752</td><td>16304.54</td><td>0.02439822303499054</td></tr><tr><td>Thailand</td><td>2008</td><td>67328240</td><td>16412.11</td><td>0.024376264699626785</td></tr><tr><td>Thailand</td><td>2006</td><td>66319528</td><td>15733.99</td><td>0.023724520476080587</td></tr><tr><td>Thailand</td><td>2005</td><td>65821360</td><td>15521.23</td><td>0.023580840626811723</td></tr><tr><td>Thailand</td><td>2004</td><td>65311164</td><td>15161.76</td><td>0.023214652857817694</td></tr><tr><td>Thailand</td><td>2003</td><td>64776960</td><td>14080.67</td><td>0.02173715777955619</td></tr><tr><td>Thailand</td><td>2002</td><td>64222576</td><td>13208.06</td><td>0.020566070099710728</td></tr><tr><td>Thailand</td><td>1997</td><td>60989104</td><td>12011.58</td><td>0.01969463266750074</td></tr><tr><td>Thailand</td><td>2001</td><td>63649892</td><td>12293.46</td><td>0.019314188310013157</td></tr><tr><td>Thailand</td><td>1996</td><td>60211100</td><td>11565.2</td><td>0.019207754051993736</td></tr><tr><td>Thailand</td><td>2000</td><td>63066604</td><td>11764.55</td><td>0.018654167584479416</td></tr><tr><td>Thailand</td><td>1999</td><td>62442652</td><td>11462.27</td><td>0.01835647531434123</td></tr><tr><td>Thailand</td><td>1998</td><td>61745216</td><td>10930.51</td><td>0.01770260225504758</td></tr><tr><td>Thailand</td><td>1995</td><td>59424836</td><td>10355.08</td><td>0.017425508755295513</td></tr><tr><td>Thailand</td><td>1994</td><td>58610012</td><td>9380.17</td><td>0.01600438164046102</td></tr><tr><td>Thailand</td><td>1993</td><td>57776080</td><td>8488.45</td><td>0.014691979795098595</td></tr><tr><td>Thailand</td><td>1992</td><td>56939020</td><td>7584.69</td><td>0.013320724522480364</td></tr><tr><td>Thailand</td><td>1991</td><td>56099872</td><td>7033.47</td><td>0.012537408284995732</td></tr><tr><td>Thailand</td><td>1990</td><td>55228408</td><td>6476.07</td><td>0.011725976240343557</td></tr><tr><td>Thailand</td><td>1989</td><td>54324012</td><td>5543.59</td><td>0.010204677077237963</td></tr><tr><td>Thailand</td><td>1988</td><td>53410956</td><td>4872</td><td>0.009121724014825723</td></tr><tr><td>Thailand</td><td>1987</td><td>52479184</td><td>4406.04</td><td>0.008395786032038914</td></tr><tr><td>Thailand</td><td>1986</td><td>51542096</td><td>3930.1</td><td>0.00762502945165443</td></tr><tr><td>Thailand</td><td>1985</td><td>50594932</td><td>3761.08</td><td>0.007433708973064733</td></tr><tr><td>Thailand</td><td>1984</td><td>49636732</td><td>3668.98</td><td>0.007391663093372062</td></tr><tr><td>Thailand</td><td>1979</td><td>44760096</td><td>3239.66</td><td>0.00723783076783392</td></tr><tr><td>Thailand</td><td>1978</td><td>43806716</td><td>3114.65</td><td>0.007109982861988559</td></tr><tr><td>Thailand</td><td>1977</td><td>42843796</td><td>2985.79</td><td>0.006969013670030546</td></tr><tr><td>Thailand</td><td>1980</td><td>45737756</td><td>3178.15</td><td>0.00694863560862059</td></tr><tr><td>Thailand</td><td>1983</td><td>48670568</td><td>3374.71</td><td>0.006933779774257001</td></tr><tr><td>Thailand</td><td>1981</td><td>46727288</td><td>3128.75</td><td>0.006695766293990784</td></tr><tr><td>Thailand</td><td>1976</td><td>41882128</td><td>2776.47</td><td>0.006629247682925758</td></tr><tr><td>Thailand</td><td>1982</td><td>47700340</td><td>3140.91</td><td>0.006584670046377027</td></tr><tr><td>Thailand</td><td>1975</td><td>40908472</td><td>2691.8</td><td>0.006580055104478115</td></tr><tr><td>Thailand</td><td>1973</td><td>38873064</td><td>2466.69</td><td>0.006345499289688098</td></tr><tr><td>Thailand</td><td>1972</td><td>37834384</td><td>2390.07</td><td>0.006317190204550444</td></tr><tr><td>Thailand</td><td>1974</td><td>39900960</td><td>2500.32</td><td>0.006266315396922781</td></tr><tr><td>Thailand</td><td>1971</td><td>36807996</td><td>2024.48</td><td>0.005500109269735848</td></tr><tr><td>Thailand</td><td>1970</td><td>35791728</td><td>1879.58</td><td>0.005251436868317729</td></tr><tr><td>Thailand</td><td>1968</td><td>33807356</td><td>1581.66</td><td>0.004678449270034605</td></tr><tr><td>Thailand</td><td>1969</td><td>34787584</td><td>1623.41</td><td>0.004666636234353039</td></tr><tr><td>Thailand</td><td>1967</td><td>32839338</td><td>1269.16</td><td>0.003864755129960294</td></tr><tr><td>Thailand</td><td>1966</td><td>31883754</td><td>1147.72</td><td>0.0035997015909732585</td></tr><tr><td>Thailand</td><td>1965</td><td>30940276</td><td>992.45</td><td>0.003207631373424077</td></tr></table>"
                    },
                    "metadata": {}
                }
            ],
            "execution_count": 27
        },
        {
            "cell_type": "markdown",
            "source": [
                "### **Which counties own decreased annual percentage changed in energy consumption in 2021?**"
            ],
            "metadata": {
                "azdata_cell_guid": "0f724fcc-ec23-4a62-aee0-b488223748ac"
            },
            "attachments": {}
        },
        {
            "cell_type": "code",
            "source": [
                "SELECT TOP 10 country, year, energy_cons_change_pct\r\n",
                "FROM Energy\r\n",
                "WHERE energy_cons_change_pct is not null and year = '2021'\r\n",
                "ORDER BY energy_cons_change_pct "
            ],
            "metadata": {
                "azdata_cell_guid": "043de3a7-4b84-4eff-a370-50b41b2f9da3",
                "language": "sql"
            },
            "outputs": [
                {
                    "output_type": "display_data",
                    "data": {
                        "text/html": "(10 rows affected)"
                    },
                    "metadata": {}
                },
                {
                    "output_type": "display_data",
                    "data": {
                        "text/html": "Total execution time: 00:00:00.090"
                    },
                    "metadata": {}
                },
                {
                    "output_type": "execute_result",
                    "execution_count": 41,
                    "data": {
                        "application/vnd.dataresource+json": {
                            "schema": {
                                "fields": [
                                    {
                                        "name": "country"
                                    },
                                    {
                                        "name": "year"
                                    },
                                    {
                                        "name": "energy_cons_change_pct"
                                    }
                                ]
                            },
                            "data": [
                                {
                                    "0": "Hong Kong",
                                    "1": "2021",
                                    "2": "-5.75"
                                },
                                {
                                    "0": "Switzerland",
                                    "1": "2021",
                                    "2": "-3.45"
                                },
                                {
                                    "0": "Slovenia",
                                    "1": "2021",
                                    "2": "-3.09"
                                },
                                {
                                    "0": "New Zealand",
                                    "1": "2021",
                                    "2": "-2.3"
                                },
                                {
                                    "0": "Kazakhstan",
                                    "1": "2021",
                                    "2": "-1.5"
                                },
                                {
                                    "0": "Ireland",
                                    "1": "2021",
                                    "2": "-0.4"
                                },
                                {
                                    "0": "Australia",
                                    "1": "2021",
                                    "2": "-0.3"
                                },
                                {
                                    "0": "Lithuania",
                                    "1": "2021",
                                    "2": "0.3"
                                },
                                {
                                    "0": "Portugal",
                                    "1": "2021",
                                    "2": "0.31"
                                },
                                {
                                    "0": "Singapore",
                                    "1": "2021",
                                    "2": "0.5"
                                }
                            ]
                        },
                        "text/html": "<table><tr><th>country</th><th>year</th><th>energy_cons_change_pct</th></tr><tr><td>Hong Kong</td><td>2021</td><td>-5.75</td></tr><tr><td>Switzerland</td><td>2021</td><td>-3.45</td></tr><tr><td>Slovenia</td><td>2021</td><td>-3.09</td></tr><tr><td>New Zealand</td><td>2021</td><td>-2.3</td></tr><tr><td>Kazakhstan</td><td>2021</td><td>-1.5</td></tr><tr><td>Ireland</td><td>2021</td><td>-0.4</td></tr><tr><td>Australia</td><td>2021</td><td>-0.3</td></tr><tr><td>Lithuania</td><td>2021</td><td>0.3</td></tr><tr><td>Portugal</td><td>2021</td><td>0.31</td></tr><tr><td>Singapore</td><td>2021</td><td>0.5</td></tr></table>"
                    },
                    "metadata": {}
                }
            ],
            "execution_count": 41
        },
        {
            "cell_type": "markdown",
            "source": [
                "### **How is the comparing between green house emission and GDP per capital?**"
            ],
            "metadata": {
                "azdata_cell_guid": "4040f3d3-170b-42ae-bacc-3c1f53f99612"
            },
            "attachments": {}
        },
        {
            "cell_type": "code",
            "source": [
                "SELECT TOP 20 country, [year],avg(greenhouse_gas_emissions) as AvgGreenhouse, avg(gdp) as AvgGdp\r\n",
                "FROM Energy\r\n",
                "WHERE gdp is not null AND greenhouse_gas_emissions is not null\r\n",
                "GROUP BY country, [year]\r\n",
                "ORDER BY AvgGreenhouse DESC;"
            ],
            "metadata": {
                "azdata_cell_guid": "093df39d-bd25-48f1-8abc-d990559c694c",
                "language": "sql"
            },
            "outputs": [
                {
                    "output_type": "display_data",
                    "data": {
                        "text/html": "(20 rows affected)"
                    },
                    "metadata": {}
                },
                {
                    "output_type": "display_data",
                    "data": {
                        "text/html": "Total execution time: 00:00:00.198"
                    },
                    "metadata": {}
                },
                {
                    "output_type": "execute_result",
                    "execution_count": 35,
                    "data": {
                        "application/vnd.dataresource+json": {
                            "schema": {
                                "fields": [
                                    {
                                        "name": "country"
                                    },
                                    {
                                        "name": "year"
                                    },
                                    {
                                        "name": "AvgGreenhouse"
                                    },
                                    {
                                        "name": "AvgGdp"
                                    }
                                ]
                            },
                            "data": [
                                {
                                    "0": "China",
                                    "1": "2018",
                                    "2": "4085.99",
                                    "3": "18151620214784"
                                },
                                {
                                    "0": "China",
                                    "1": "2017",
                                    "2": "3797.35",
                                    "3": "17575081672704"
                                },
                                {
                                    "0": "China",
                                    "1": "2014",
                                    "2": "3559.04",
                                    "3": "16220856254464"
                                },
                                {
                                    "0": "China",
                                    "1": "2016",
                                    "2": "3558.1",
                                    "3": "17255473610752"
                                },
                                {
                                    "0": "China",
                                    "1": "2015",
                                    "2": "3451.62",
                                    "3": "16710945996800"
                                },
                                {
                                    "0": "China",
                                    "1": "2013",
                                    "2": "3441.11",
                                    "3": "15304425996288"
                                },
                                {
                                    "0": "China",
                                    "1": "2012",
                                    "2": "3165.32",
                                    "3": "14358127050752"
                                },
                                {
                                    "0": "China",
                                    "1": "2011",
                                    "2": "3113.16",
                                    "3": "13673158410240"
                                },
                                {
                                    "0": "China",
                                    "1": "2010",
                                    "2": "2724.31",
                                    "3": "12858808074240"
                                },
                                {
                                    "0": "China",
                                    "1": "2009",
                                    "2": "2444.37",
                                    "3": "11572544012288"
                                },
                                {
                                    "0": "China",
                                    "1": "2008",
                                    "2": "2271.1",
                                    "3": "10799147909120"
                                },
                                {
                                    "0": "China",
                                    "1": "2007",
                                    "2": "2229.51",
                                    "3": "10358205972480"
                                },
                                {
                                    "0": "United States",
                                    "1": "2007",
                                    "2": "2174.72",
                                    "3": "15364464312320"
                                },
                                {
                                    "0": "United States",
                                    "1": "2005",
                                    "2": "2140.76",
                                    "3": "14703731408896"
                                },
                                {
                                    "0": "United States",
                                    "1": "2008",
                                    "2": "2129.42",
                                    "3": "15319731011584"
                                },
                                {
                                    "0": "United States",
                                    "1": "2006",
                                    "2": "2112.2",
                                    "3": "15095884152832"
                                },
                                {
                                    "0": "United States",
                                    "1": "2004",
                                    "2": "2089.92",
                                    "3": "14227881328640"
                                },
                                {
                                    "0": "United States",
                                    "1": "2010",
                                    "2": "2062.47",
                                    "3": "15270622003200"
                                },
                                {
                                    "0": "United States",
                                    "1": "2003",
                                    "2": "2058.23",
                                    "3": "13708808945664"
                                },
                                {
                                    "0": "United States",
                                    "1": "2000",
                                    "2": "2025.02",
                                    "3": "12973842104320"
                                }
                            ]
                        },
                        "text/html": "<table><tr><th>country</th><th>year</th><th>AvgGreenhouse</th><th>AvgGdp</th></tr><tr><td>China</td><td>2018</td><td>4085.99</td><td>18151620214784</td></tr><tr><td>China</td><td>2017</td><td>3797.35</td><td>17575081672704</td></tr><tr><td>China</td><td>2014</td><td>3559.04</td><td>16220856254464</td></tr><tr><td>China</td><td>2016</td><td>3558.1</td><td>17255473610752</td></tr><tr><td>China</td><td>2015</td><td>3451.62</td><td>16710945996800</td></tr><tr><td>China</td><td>2013</td><td>3441.11</td><td>15304425996288</td></tr><tr><td>China</td><td>2012</td><td>3165.32</td><td>14358127050752</td></tr><tr><td>China</td><td>2011</td><td>3113.16</td><td>13673158410240</td></tr><tr><td>China</td><td>2010</td><td>2724.31</td><td>12858808074240</td></tr><tr><td>China</td><td>2009</td><td>2444.37</td><td>11572544012288</td></tr><tr><td>China</td><td>2008</td><td>2271.1</td><td>10799147909120</td></tr><tr><td>China</td><td>2007</td><td>2229.51</td><td>10358205972480</td></tr><tr><td>United States</td><td>2007</td><td>2174.72</td><td>15364464312320</td></tr><tr><td>United States</td><td>2005</td><td>2140.76</td><td>14703731408896</td></tr><tr><td>United States</td><td>2008</td><td>2129.42</td><td>15319731011584</td></tr><tr><td>United States</td><td>2006</td><td>2112.2</td><td>15095884152832</td></tr><tr><td>United States</td><td>2004</td><td>2089.92</td><td>14227881328640</td></tr><tr><td>United States</td><td>2010</td><td>2062.47</td><td>15270622003200</td></tr><tr><td>United States</td><td>2003</td><td>2058.23</td><td>13708808945664</td></tr><tr><td>United States</td><td>2000</td><td>2025.02</td><td>12973842104320</td></tr></table>"
                    },
                    "metadata": {}
                }
            ],
            "execution_count": 35
        },
        {
            "cell_type": "code",
            "source": [
                "--- seeing the data in 2018 Per country\r\n",
                "\r\n",
                "SELECT TOP 20 country, AVG(population) as AvgPopulation, AVG(greenhouse_gas_emissions) as AvgGreenhouse, AVG(gdp) as AvgGdp\r\n",
                "FROM Energy\r\n",
                "WHERE gdp is not null AND greenhouse_gas_emissions is not null AND year = 2018\r\n",
                "GROUP BY country\r\n",
                "ORDER BY AvgGreenhouse DESC;\r\n",
                ""
            ],
            "metadata": {
                "language": "sql",
                "azdata_cell_guid": "55bc7fff-5b92-41ee-8131-61f803e1570b"
            },
            "outputs": [
                {
                    "output_type": "display_data",
                    "data": {
                        "text/html": "(20 rows affected)"
                    },
                    "metadata": {}
                },
                {
                    "output_type": "display_data",
                    "data": {
                        "text/html": "Total execution time: 00:00:00.024"
                    },
                    "metadata": {}
                },
                {
                    "output_type": "execute_result",
                    "execution_count": 26,
                    "data": {
                        "application/vnd.dataresource+json": {
                            "schema": {
                                "fields": [
                                    {
                                        "name": "country"
                                    },
                                    {
                                        "name": "AvgPopulation"
                                    },
                                    {
                                        "name": "AvgGreenhouse"
                                    },
                                    {
                                        "name": "AvgGdp"
                                    }
                                ]
                            },
                            "data": [
                                {
                                    "0": "China",
                                    "1": "1417069440",
                                    "2": "4085.99",
                                    "3": "18151620214784"
                                },
                                {
                                    "0": "United States",
                                    "1": "332140032",
                                    "2": "1731.3",
                                    "3": "18140645818368"
                                },
                                {
                                    "0": "India",
                                    "1": "1369003264",
                                    "2": "1034.81",
                                    "3": "8835757506560"
                                },
                                {
                                    "0": "Japan",
                                    "1": "126255872",
                                    "2": "514.53",
                                    "3": "4867010592768"
                                },
                                {
                                    "0": "Russia",
                                    "1": "145652288",
                                    "2": "393.57",
                                    "3": "3613410459648"
                                },
                                {
                                    "0": "South Korea",
                                    "1": "51676900",
                                    "2": "285.61",
                                    "3": "1958392102912"
                                },
                                {
                                    "0": "Germany",
                                    "1": "82896696",
                                    "2": "260.4",
                                    "3": "3885961314304"
                                },
                                {
                                    "0": "Saudi Arabia",
                                    "1": "35018132",
                                    "2": "192.29",
                                    "3": "1677338607616"
                                },
                                {
                                    "0": "South Africa",
                                    "1": "57339632",
                                    "2": "176.19",
                                    "3": "673272168448"
                                },
                                {
                                    "0": "Indonesia",
                                    "1": "267066848",
                                    "2": "175.78",
                                    "3": "3075456106496"
                                },
                                {
                                    "0": "Taiwan",
                                    "1": "23726186",
                                    "2": "160.88",
                                    "3": "1041749573632"
                                },
                                {
                                    "0": "Australia",
                                    "1": "24979228",
                                    "2": "154.81",
                                    "3": "1238559621120"
                                },
                                {
                                    "0": "Iran",
                                    "1": "85617560",
                                    "2": "150.74",
                                    "3": "1398995943424"
                                },
                                {
                                    "0": "Mexico",
                                    "1": "124013864",
                                    "2": "147.18",
                                    "3": "2006599729152"
                                },
                                {
                                    "0": "Turkey",
                                    "1": "82809304",
                                    "2": "141.14",
                                    "3": "1655984226304"
                                },
                                {
                                    "0": "Poland",
                                    "1": "38521464",
                                    "2": "118.24",
                                    "3": "1053479337984"
                                },
                                {
                                    "0": "Italy",
                                    "1": "59877432",
                                    "2": "104.59",
                                    "3": "2077209133056"
                                },
                                {
                                    "0": "Malaysia",
                                    "1": "32399270",
                                    "2": "96.38",
                                    "3": "773658509312"
                                },
                                {
                                    "0": "Egypt",
                                    "1": "103740768",
                                    "2": "94.72",
                                    "3": "1221832605696"
                                },
                                {
                                    "0": "United Kingdom",
                                    "1": "66432996",
                                    "2": "93.37",
                                    "3": "2540210225152"
                                }
                            ]
                        },
                        "text/html": "<table><tr><th>country</th><th>AvgPopulation</th><th>AvgGreenhouse</th><th>AvgGdp</th></tr><tr><td>China</td><td>1417069440</td><td>4085.99</td><td>18151620214784</td></tr><tr><td>United States</td><td>332140032</td><td>1731.3</td><td>18140645818368</td></tr><tr><td>India</td><td>1369003264</td><td>1034.81</td><td>8835757506560</td></tr><tr><td>Japan</td><td>126255872</td><td>514.53</td><td>4867010592768</td></tr><tr><td>Russia</td><td>145652288</td><td>393.57</td><td>3613410459648</td></tr><tr><td>South Korea</td><td>51676900</td><td>285.61</td><td>1958392102912</td></tr><tr><td>Germany</td><td>82896696</td><td>260.4</td><td>3885961314304</td></tr><tr><td>Saudi Arabia</td><td>35018132</td><td>192.29</td><td>1677338607616</td></tr><tr><td>South Africa</td><td>57339632</td><td>176.19</td><td>673272168448</td></tr><tr><td>Indonesia</td><td>267066848</td><td>175.78</td><td>3075456106496</td></tr><tr><td>Taiwan</td><td>23726186</td><td>160.88</td><td>1041749573632</td></tr><tr><td>Australia</td><td>24979228</td><td>154.81</td><td>1238559621120</td></tr><tr><td>Iran</td><td>85617560</td><td>150.74</td><td>1398995943424</td></tr><tr><td>Mexico</td><td>124013864</td><td>147.18</td><td>2006599729152</td></tr><tr><td>Turkey</td><td>82809304</td><td>141.14</td><td>1655984226304</td></tr><tr><td>Poland</td><td>38521464</td><td>118.24</td><td>1053479337984</td></tr><tr><td>Italy</td><td>59877432</td><td>104.59</td><td>2077209133056</td></tr><tr><td>Malaysia</td><td>32399270</td><td>96.38</td><td>773658509312</td></tr><tr><td>Egypt</td><td>103740768</td><td>94.72</td><td>1221832605696</td></tr><tr><td>United Kingdom</td><td>66432996</td><td>93.37</td><td>2540210225152</td></tr></table>"
                    },
                    "metadata": {}
                }
            ],
            "execution_count": 26
        },
        {
            "cell_type": "markdown",
            "source": [
                "### <span style=\"font-size: 14px;\"><b>What is the carbon intensity trend in USA, China and Thailand over the period?</b></span>"
            ],
            "metadata": {
                "azdata_cell_guid": "ae6ff3ec-4b73-42a9-8b92-9612d6d7004a"
            },
            "attachments": {}
        },
        {
            "cell_type": "code",
            "source": [
                "SELECT country, year, AVG(carbon_intensity_elec) AS AvgCarbonIntensity\r\n",
                "FROM Energy\r\n",
                "WHERE carbon_intensity_elec IS NOT NULL AND (country LIKE '%Thailand%' OR country LIKE '%China%' OR country LIKE '%United States')\r\n",
                "GROUP BY year, country\r\n",
                "ORDER BY year\r\n",
                ""
            ],
            "metadata": {
                "azdata_cell_guid": "041067e0-b280-43d5-ba7e-2dfdbfdfe71c",
                "language": "sql"
            },
            "outputs": [
                {
                    "output_type": "display_data",
                    "data": {
                        "text/html": "(66 rows affected)"
                    },
                    "metadata": {}
                },
                {
                    "output_type": "display_data",
                    "data": {
                        "text/html": "Total execution time: 00:00:00.135"
                    },
                    "metadata": {}
                },
                {
                    "output_type": "execute_result",
                    "execution_count": 79,
                    "data": {
                        "application/vnd.dataresource+json": {
                            "schema": {
                                "fields": [
                                    {
                                        "name": "country"
                                    },
                                    {
                                        "name": "year"
                                    },
                                    {
                                        "name": "AvgCarbonIntensity"
                                    }
                                ]
                            },
                            "data": [
                                {
                                    "0": "China",
                                    "1": "2000",
                                    "2": "672.37"
                                },
                                {
                                    "0": "Thailand",
                                    "1": "2000",
                                    "2": "541.83"
                                },
                                {
                                    "0": "United States",
                                    "1": "2000",
                                    "2": "532.61"
                                },
                                {
                                    "0": "China",
                                    "1": "2001",
                                    "2": "654.88"
                                },
                                {
                                    "0": "Thailand",
                                    "1": "2001",
                                    "2": "530.03"
                                },
                                {
                                    "0": "United States",
                                    "1": "2001",
                                    "2": "535.38"
                                },
                                {
                                    "0": "China",
                                    "1": "2002",
                                    "2": "663.28"
                                },
                                {
                                    "0": "Thailand",
                                    "1": "2002",
                                    "2": "516.93"
                                },
                                {
                                    "0": "United States",
                                    "1": "2002",
                                    "2": "526.75"
                                },
                                {
                                    "0": "China",
                                    "1": "2003",
                                    "2": "677.92"
                                },
                                {
                                    "0": "Thailand",
                                    "1": "2003",
                                    "2": "515.65"
                                },
                                {
                                    "0": "United States",
                                    "1": "2003",
                                    "2": "531.99"
                                },
                                {
                                    "0": "China",
                                    "1": "2004",
                                    "2": "667.9"
                                },
                                {
                                    "0": "Thailand",
                                    "1": "2004",
                                    "2": "526.43"
                                },
                                {
                                    "0": "United States",
                                    "1": "2004",
                                    "2": "528.83"
                                },
                                {
                                    "0": "China",
                                    "1": "2005",
                                    "2": "670.51"
                                },
                                {
                                    "0": "Thailand",
                                    "1": "2005",
                                    "2": "529.43"
                                },
                                {
                                    "0": "United States",
                                    "1": "2005",
                                    "2": "530.55"
                                },
                                {
                                    "0": "China",
                                    "1": "2006",
                                    "2": "676.62"
                                },
                                {
                                    "0": "Thailand",
                                    "1": "2006",
                                    "2": "528.44"
                                },
                                {
                                    "0": "United States",
                                    "1": "2006",
                                    "2": "521.93"
                                },
                                {
                                    "0": "China",
                                    "1": "2007",
                                    "2": "679.41"
                                },
                                {
                                    "0": "Thailand",
                                    "1": "2007",
                                    "2": "533.18"
                                },
                                {
                                    "0": "United States",
                                    "1": "2007",
                                    "2": "524.97"
                                },
                                {
                                    "0": "China",
                                    "1": "2008",
                                    "2": "649.67"
                                },
                                {
                                    "0": "Thailand",
                                    "1": "2008",
                                    "2": "533.73"
                                },
                                {
                                    "0": "United States",
                                    "1": "2008",
                                    "2": "518.42"
                                },
                                {
                                    "0": "China",
                                    "1": "2009",
                                    "2": "658.04"
                                },
                                {
                                    "0": "Thailand",
                                    "1": "2009",
                                    "2": "530.25"
                                },
                                {
                                    "0": "United States",
                                    "1": "2009",
                                    "2": "496.26"
                                },
                                {
                                    "0": "China",
                                    "1": "2010",
                                    "2": "650.61"
                                },
                                {
                                    "0": "Thailand",
                                    "1": "2010",
                                    "2": "530.87"
                                },
                                {
                                    "0": "United States",
                                    "1": "2010",
                                    "2": "501.34"
                                },
                                {
                                    "0": "China",
                                    "1": "2011",
                                    "2": "663.6"
                                },
                                {
                                    "0": "Thailand",
                                    "1": "2011",
                                    "2": "527.8"
                                },
                                {
                                    "0": "United States",
                                    "1": "2011",
                                    "2": "484.12"
                                },
                                {
                                    "0": "China",
                                    "1": "2012",
                                    "2": "637.24"
                                },
                                {
                                    "0": "Thailand",
                                    "1": "2012",
                                    "2": "524.79"
                                },
                                {
                                    "0": "United States",
                                    "1": "2012",
                                    "2": "470.47"
                                },
                                {
                                    "0": "China",
                                    "1": "2013",
                                    "2": "636.23"
                                },
                                {
                                    "0": "Thailand",
                                    "1": "2013",
                                    "2": "532.06"
                                },
                                {
                                    "0": "United States",
                                    "1": "2013",
                                    "2": "470.62"
                                },
                                {
                                    "0": "China",
                                    "1": "2014",
                                    "2": "617"
                                },
                                {
                                    "0": "Thailand",
                                    "1": "2014",
                                    "2": "532.16"
                                },
                                {
                                    "0": "United States",
                                    "1": "2014",
                                    "2": "467.31"
                                },
                                {
                                    "0": "China",
                                    "1": "2015",
                                    "2": "596.36"
                                },
                                {
                                    "0": "Thailand",
                                    "1": "2015",
                                    "2": "526.6"
                                },
                                {
                                    "0": "United States",
                                    "1": "2015",
                                    "2": "447.66"
                                },
                                {
                                    "0": "China",
                                    "1": "2016",
                                    "2": "584.16"
                                },
                                {
                                    "0": "Thailand",
                                    "1": "2016",
                                    "2": "527.17"
                                },
                                {
                                    "0": "United States",
                                    "1": "2016",
                                    "2": "429.44"
                                },
                                {
                                    "0": "China",
                                    "1": "2017",
                                    "2": "579.02"
                                },
                                {
                                    "0": "Thailand",
                                    "1": "2017",
                                    "2": "517.49"
                                },
                                {
                                    "0": "United States",
                                    "1": "2017",
                                    "2": "416.78"
                                },
                                {
                                    "0": "China",
                                    "1": "2018",
                                    "2": "573.83"
                                },
                                {
                                    "0": "Thailand",
                                    "1": "2018",
                                    "2": "504.83"
                                },
                                {
                                    "0": "United States",
                                    "1": "2018",
                                    "2": "412.06"
                                },
                                {
                                    "0": "China",
                                    "1": "2019",
                                    "2": "560"
                                },
                                {
                                    "0": "Thailand",
                                    "1": "2019",
                                    "2": "500.55"
                                },
                                {
                                    "0": "United States",
                                    "1": "2019",
                                    "2": "392.78"
                                },
                                {
                                    "0": "China",
                                    "1": "2020",
                                    "2": "549.6"
                                },
                                {
                                    "0": "Thailand",
                                    "1": "2020",
                                    "2": "510.01"
                                },
                                {
                                    "0": "United States",
                                    "1": "2020",
                                    "2": "369.39"
                                },
                                {
                                    "0": "China",
                                    "1": "2021",
                                    "2": "544.36"
                                },
                                {
                                    "0": "Thailand",
                                    "1": "2021",
                                    "2": "506.64"
                                },
                                {
                                    "0": "United States",
                                    "1": "2021",
                                    "2": "379.38"
                                }
                            ]
                        },
                        "text/html": "<table><tr><th>country</th><th>year</th><th>AvgCarbonIntensity</th></tr><tr><td>China</td><td>2000</td><td>672.37</td></tr><tr><td>Thailand</td><td>2000</td><td>541.83</td></tr><tr><td>United States</td><td>2000</td><td>532.61</td></tr><tr><td>China</td><td>2001</td><td>654.88</td></tr><tr><td>Thailand</td><td>2001</td><td>530.03</td></tr><tr><td>United States</td><td>2001</td><td>535.38</td></tr><tr><td>China</td><td>2002</td><td>663.28</td></tr><tr><td>Thailand</td><td>2002</td><td>516.93</td></tr><tr><td>United States</td><td>2002</td><td>526.75</td></tr><tr><td>China</td><td>2003</td><td>677.92</td></tr><tr><td>Thailand</td><td>2003</td><td>515.65</td></tr><tr><td>United States</td><td>2003</td><td>531.99</td></tr><tr><td>China</td><td>2004</td><td>667.9</td></tr><tr><td>Thailand</td><td>2004</td><td>526.43</td></tr><tr><td>United States</td><td>2004</td><td>528.83</td></tr><tr><td>China</td><td>2005</td><td>670.51</td></tr><tr><td>Thailand</td><td>2005</td><td>529.43</td></tr><tr><td>United States</td><td>2005</td><td>530.55</td></tr><tr><td>China</td><td>2006</td><td>676.62</td></tr><tr><td>Thailand</td><td>2006</td><td>528.44</td></tr><tr><td>United States</td><td>2006</td><td>521.93</td></tr><tr><td>China</td><td>2007</td><td>679.41</td></tr><tr><td>Thailand</td><td>2007</td><td>533.18</td></tr><tr><td>United States</td><td>2007</td><td>524.97</td></tr><tr><td>China</td><td>2008</td><td>649.67</td></tr><tr><td>Thailand</td><td>2008</td><td>533.73</td></tr><tr><td>United States</td><td>2008</td><td>518.42</td></tr><tr><td>China</td><td>2009</td><td>658.04</td></tr><tr><td>Thailand</td><td>2009</td><td>530.25</td></tr><tr><td>United States</td><td>2009</td><td>496.26</td></tr><tr><td>China</td><td>2010</td><td>650.61</td></tr><tr><td>Thailand</td><td>2010</td><td>530.87</td></tr><tr><td>United States</td><td>2010</td><td>501.34</td></tr><tr><td>China</td><td>2011</td><td>663.6</td></tr><tr><td>Thailand</td><td>2011</td><td>527.8</td></tr><tr><td>United States</td><td>2011</td><td>484.12</td></tr><tr><td>China</td><td>2012</td><td>637.24</td></tr><tr><td>Thailand</td><td>2012</td><td>524.79</td></tr><tr><td>United States</td><td>2012</td><td>470.47</td></tr><tr><td>China</td><td>2013</td><td>636.23</td></tr><tr><td>Thailand</td><td>2013</td><td>532.06</td></tr><tr><td>United States</td><td>2013</td><td>470.62</td></tr><tr><td>China</td><td>2014</td><td>617</td></tr><tr><td>Thailand</td><td>2014</td><td>532.16</td></tr><tr><td>United States</td><td>2014</td><td>467.31</td></tr><tr><td>China</td><td>2015</td><td>596.36</td></tr><tr><td>Thailand</td><td>2015</td><td>526.6</td></tr><tr><td>United States</td><td>2015</td><td>447.66</td></tr><tr><td>China</td><td>2016</td><td>584.16</td></tr><tr><td>Thailand</td><td>2016</td><td>527.17</td></tr><tr><td>United States</td><td>2016</td><td>429.44</td></tr><tr><td>China</td><td>2017</td><td>579.02</td></tr><tr><td>Thailand</td><td>2017</td><td>517.49</td></tr><tr><td>United States</td><td>2017</td><td>416.78</td></tr><tr><td>China</td><td>2018</td><td>573.83</td></tr><tr><td>Thailand</td><td>2018</td><td>504.83</td></tr><tr><td>United States</td><td>2018</td><td>412.06</td></tr><tr><td>China</td><td>2019</td><td>560</td></tr><tr><td>Thailand</td><td>2019</td><td>500.55</td></tr><tr><td>United States</td><td>2019</td><td>392.78</td></tr><tr><td>China</td><td>2020</td><td>549.6</td></tr><tr><td>Thailand</td><td>2020</td><td>510.01</td></tr><tr><td>United States</td><td>2020</td><td>369.39</td></tr><tr><td>China</td><td>2021</td><td>544.36</td></tr><tr><td>Thailand</td><td>2021</td><td>506.64</td></tr><tr><td>United States</td><td>2021</td><td>379.38</td></tr></table>"
                    },
                    "metadata": {}
                }
            ],
            "execution_count": 79
        },
        {
            "cell_type": "markdown",
            "source": [
                "### **How is the pattern comparing between GDP and Accessing electricity?**"
            ],
            "metadata": {
                "azdata_cell_guid": "8b27326b-e3a6-4a62-a71e-85f3c5eb60b8"
            },
            "attachments": {}
        },
        {
            "cell_type": "code",
            "source": [
                "--- trying to join the data\r\n",
                "\r\n",
                "SELECT TOP 5 en.country, en.iso_code, el.[Code]\r\n",
                "From Energy en \r\n",
                "INNER JOIN Electric el\r\n",
                "ON en.iso_code = el.Code\r\n",
                "GROUP BY en.country, en.iso_code, el.[Code]\r\n",
                ""
            ],
            "metadata": {
                "azdata_cell_guid": "bfc879ac-5b90-4601-a6c1-77df6d8b0366",
                "language": "sql"
            },
            "outputs": [
                {
                    "output_type": "display_data",
                    "data": {
                        "text/html": "(5 rows affected)"
                    },
                    "metadata": {}
                },
                {
                    "output_type": "display_data",
                    "data": {
                        "text/html": "Total execution time: 00:00:00.799"
                    },
                    "metadata": {}
                },
                {
                    "output_type": "execute_result",
                    "execution_count": 85,
                    "data": {
                        "application/vnd.dataresource+json": {
                            "schema": {
                                "fields": [
                                    {
                                        "name": "country"
                                    },
                                    {
                                        "name": "iso_code"
                                    },
                                    {
                                        "name": "Code"
                                    }
                                ]
                            },
                            "data": [
                                {
                                    "0": "Afghanistan",
                                    "1": "AFG",
                                    "2": "AFG"
                                },
                                {
                                    "0": "Albania",
                                    "1": "ALB",
                                    "2": "ALB"
                                },
                                {
                                    "0": "Algeria",
                                    "1": "DZA",
                                    "2": "DZA"
                                },
                                {
                                    "0": "Angola",
                                    "1": "AGO",
                                    "2": "AGO"
                                },
                                {
                                    "0": "Antigua and Barbuda",
                                    "1": "ATG",
                                    "2": "ATG"
                                }
                            ]
                        },
                        "text/html": "<table><tr><th>country</th><th>iso_code</th><th>Code</th></tr><tr><td>Afghanistan</td><td>AFG</td><td>AFG</td></tr><tr><td>Albania</td><td>ALB</td><td>ALB</td></tr><tr><td>Algeria</td><td>DZA</td><td>DZA</td></tr><tr><td>Angola</td><td>AGO</td><td>AGO</td></tr><tr><td>Antigua and Barbuda</td><td>ATG</td><td>ATG</td></tr></table>"
                    },
                    "metadata": {}
                }
            ],
            "execution_count": 85
        },
        {
            "cell_type": "code",
            "source": [
                "--- seeing GDP and Accessing Electricity columns order by Number of people with access to electricity\r\n",
                "\r\n",
                "SELECT TOP 20 en.country, el.Year, en.gdp, \r\n",
                "    avg(el.[Number of people with access to electricity]) over (partition by en.country order by el.[Number of people with access to electricity] DESC\r\n",
                "    ,en.country, el.year) as AvgAccessingElec\r\n",
                "From Energy en\r\n",
                "INNER JOIN Electric el\r\n",
                "ON en.iso_code = el.Code\r\n",
                "    and en.year = el.Year\r\n",
                "WHERE GDP is not null"
            ],
            "metadata": {
                "azdata_cell_guid": "d1ed670c-c760-479d-b660-47cedb0d1472",
                "language": "sql"
            },
            "outputs": [
                {
                    "output_type": "display_data",
                    "data": {
                        "text/html": "(20 rows affected)"
                    },
                    "metadata": {}
                },
                {
                    "output_type": "display_data",
                    "data": {
                        "text/html": "Total execution time: 00:00:00.063"
                    },
                    "metadata": {}
                },
                {
                    "output_type": "execute_result",
                    "execution_count": 134,
                    "data": {
                        "application/vnd.dataresource+json": {
                            "schema": {
                                "fields": [
                                    {
                                        "name": "country"
                                    },
                                    {
                                        "name": "Year"
                                    },
                                    {
                                        "name": "gdp"
                                    },
                                    {
                                        "name": "AvgAccessingElec"
                                    }
                                ]
                            },
                            "data": [
                                {
                                    "0": "Afghanistan",
                                    "1": "2018",
                                    "2": "67594969088",
                                    "3": "36694493.99"
                                },
                                {
                                    "0": "Afghanistan",
                                    "1": "2017",
                                    "2": "68752801792",
                                    "3": "36077897.22"
                                },
                                {
                                    "0": "Afghanistan",
                                    "1": "2016",
                                    "2": "64297426944",
                                    "3": "35575004.266666666"
                                },
                                {
                                    "0": "Afghanistan",
                                    "1": "2014",
                                    "2": "64346107904",
                                    "3": "34147970.595"
                                },
                                {
                                    "0": "Afghanistan",
                                    "1": "2015",
                                    "2": "62783393792",
                                    "3": "32239521.706"
                                },
                                {
                                    "0": "Afghanistan",
                                    "1": "2013",
                                    "2": "62993698816",
                                    "3": "30576353.673333332"
                                },
                                {
                                    "0": "Afghanistan",
                                    "1": "2012",
                                    "2": "59166900224",
                                    "3": "29284376.319999997"
                                },
                                {
                                    "0": "Afghanistan",
                                    "1": "2011",
                                    "2": "53326336000",
                                    "3": "27250998.415"
                                },
                                {
                                    "0": "Afghanistan",
                                    "1": "2009",
                                    "2": "44358721536",
                                    "3": "25659277.447777778"
                                },
                                {
                                    "0": "Afghanistan",
                                    "1": "2010",
                                    "2": "47399424000",
                                    "3": "24339571.023"
                                },
                                {
                                    "0": "Afghanistan",
                                    "1": "2008",
                                    "2": "36561043456",
                                    "3": "23195450.67"
                                },
                                {
                                    "0": "Afghanistan",
                                    "1": "2007",
                                    "2": "34507530240",
                                    "3": "22028122.976666667"
                                },
                                {
                                    "0": "Afghanistan",
                                    "1": "2006",
                                    "2": "28704401408",
                                    "3": "20905011.926153846"
                                },
                                {
                                    "0": "Afghanistan",
                                    "1": "2005",
                                    "2": "25397688320",
                                    "3": "19820346.03142857"
                                },
                                {
                                    "0": "Albania",
                                    "1": "2000",
                                    "2": "15214264320",
                                    "3": "3089027"
                                },
                                {
                                    "0": "Albania",
                                    "1": "2001",
                                    "2": "16563844096",
                                    "3": "3074600"
                                },
                                {
                                    "0": "Albania",
                                    "1": "2002",
                                    "2": "17408065536",
                                    "3": "3066736.6666666665"
                                },
                                {
                                    "0": "Albania",
                                    "1": "2003",
                                    "2": "18465497088",
                                    "3": "3059956.5"
                                },
                                {
                                    "0": "Albania",
                                    "1": "2004",
                                    "2": "19587880960",
                                    "3": "3053353"
                                },
                                {
                                    "0": "Albania",
                                    "1": "2005",
                                    "2": "20781076480",
                                    "3": "3046375.3333333335"
                                }
                            ]
                        },
                        "text/html": "<table><tr><th>country</th><th>Year</th><th>gdp</th><th>AvgAccessingElec</th></tr><tr><td>Afghanistan</td><td>2018</td><td>67594969088</td><td>36694493.99</td></tr><tr><td>Afghanistan</td><td>2017</td><td>68752801792</td><td>36077897.22</td></tr><tr><td>Afghanistan</td><td>2016</td><td>64297426944</td><td>35575004.266666666</td></tr><tr><td>Afghanistan</td><td>2014</td><td>64346107904</td><td>34147970.595</td></tr><tr><td>Afghanistan</td><td>2015</td><td>62783393792</td><td>32239521.706</td></tr><tr><td>Afghanistan</td><td>2013</td><td>62993698816</td><td>30576353.673333332</td></tr><tr><td>Afghanistan</td><td>2012</td><td>59166900224</td><td>29284376.319999997</td></tr><tr><td>Afghanistan</td><td>2011</td><td>53326336000</td><td>27250998.415</td></tr><tr><td>Afghanistan</td><td>2009</td><td>44358721536</td><td>25659277.447777778</td></tr><tr><td>Afghanistan</td><td>2010</td><td>47399424000</td><td>24339571.023</td></tr><tr><td>Afghanistan</td><td>2008</td><td>36561043456</td><td>23195450.67</td></tr><tr><td>Afghanistan</td><td>2007</td><td>34507530240</td><td>22028122.976666667</td></tr><tr><td>Afghanistan</td><td>2006</td><td>28704401408</td><td>20905011.926153846</td></tr><tr><td>Afghanistan</td><td>2005</td><td>25397688320</td><td>19820346.03142857</td></tr><tr><td>Albania</td><td>2000</td><td>15214264320</td><td>3089027</td></tr><tr><td>Albania</td><td>2001</td><td>16563844096</td><td>3074600</td></tr><tr><td>Albania</td><td>2002</td><td>17408065536</td><td>3066736.6666666665</td></tr><tr><td>Albania</td><td>2003</td><td>18465497088</td><td>3059956.5</td></tr><tr><td>Albania</td><td>2004</td><td>19587880960</td><td>3053353</td></tr><tr><td>Albania</td><td>2005</td><td>20781076480</td><td>3046375.3333333335</td></tr></table>"
                    },
                    "metadata": {}
                }
            ],
            "execution_count": 134
        },
        {
            "cell_type": "markdown",
            "source": [
                "### **How is the percentage of People Accessing Electricity compared to Poppulation?**"
            ],
            "metadata": {
                "azdata_cell_guid": "805cfa02-fd46-44e2-a016-a5b7852e03b8"
            },
            "attachments": {}
        },
        {
            "cell_type": "code",
            "source": [
                "--- showing GDP, population, Accessing Electricity, without access to electricity\r\n",
                "\r\n",
                "SELECT TOP 40 en.country, el.Year, avg(en.gdp) over (partition by en.country order by en.country, el.Year) as AvgGDP, en.population,\r\n",
                "    el.[Number of people with access to electricity] as PeopleAccessingElectricity,\r\n",
                "    el.[Number of people without access to electricity] as PeopleWithoutElectricity\r\n",
                "FROM Energy en\r\n",
                "INNER JOIN Electric el\r\n",
                "ON en.iso_code = el.Code\r\n",
                "    AND en.year = el.Year\r\n",
                "WHERE en.gdp IS NOT NULL"
            ],
            "metadata": {
                "azdata_cell_guid": "9597ecbc-1343-4474-b35f-8da8d10ff534",
                "language": "sql"
            },
            "outputs": [
                {
                    "output_type": "display_data",
                    "data": {
                        "text/html": "(40 rows affected)"
                    },
                    "metadata": {}
                },
                {
                    "output_type": "display_data",
                    "data": {
                        "text/html": "Total execution time: 00:00:00.082"
                    },
                    "metadata": {}
                },
                {
                    "output_type": "execute_result",
                    "execution_count": 149,
                    "data": {
                        "application/vnd.dataresource+json": {
                            "schema": {
                                "fields": [
                                    {
                                        "name": "country"
                                    },
                                    {
                                        "name": "Year"
                                    },
                                    {
                                        "name": "AvgGDP"
                                    },
                                    {
                                        "name": "population"
                                    },
                                    {
                                        "name": "PeopleAccessingElectricity"
                                    },
                                    {
                                        "name": "PeopleWithoutElectricity"
                                    }
                                ]
                            },
                            "data": [
                                {
                                    "0": "Afghanistan",
                                    "1": "2005",
                                    "2": "25397688320",
                                    "3": "24411196",
                                    "4": "5719689.4",
                                    "5": "19934584.6"
                                },
                                {
                                    "0": "Afghanistan",
                                    "1": "2006",
                                    "2": "27051044864",
                                    "3": "25442946",
                                    "4": "7427679.32",
                                    "5": "19005378.68"
                                },
                                {
                                    "0": "Afghanistan",
                                    "1": "2007",
                                    "2": "29536539989.333332",
                                    "3": "25903306",
                                    "4": "9187518.35",
                                    "5": "17913023.65"
                                },
                                {
                                    "0": "Afghanistan",
                                    "1": "2008",
                                    "2": "31292665856",
                                    "3": "26427204",
                                    "4": "11754247.14",
                                    "5": "15968033.86"
                                },
                                {
                                    "0": "Afghanistan",
                                    "1": "2009",
                                    "2": "33905876992",
                                    "3": "27385310",
                                    "4": "12925509.71",
                                    "5": "15469296.29"
                                },
                                {
                                    "0": "Afghanistan",
                                    "1": "2010",
                                    "2": "36154801493.333336",
                                    "3": "28189672",
                                    "4": "12462213.2",
                                    "5": "16723297.8"
                                },
                                {
                                    "0": "Afghanistan",
                                    "1": "2011",
                                    "2": "38607877851.42857",
                                    "3": "29249156",
                                    "4": "13017353.08",
                                    "5": "17100057.92"
                                },
                                {
                                    "0": "Afghanistan",
                                    "1": "2012",
                                    "2": "41177755648",
                                    "3": "30466484",
                                    "4": "21532512.2",
                                    "5": "9628865.8"
                                },
                                {
                                    "0": "Afghanistan",
                                    "1": "2013",
                                    "2": "43601749333.333336",
                                    "3": "31541216",
                                    "4": "22260513.51",
                                    "5": "10009078.49"
                                },
                                {
                                    "0": "Afghanistan",
                                    "1": "2014",
                                    "2": "45676185190.4",
                                    "3": "32716214",
                                    "4": "29866869.58",
                                    "5": "3503934.42"
                                },
                                {
                                    "0": "Afghanistan",
                                    "1": "2015",
                                    "2": "47231385972.36364",
                                    "3": "33753500",
                                    "4": "24605726.15",
                                    "5": "9807876.86"
                                },
                                {
                                    "0": "Afghanistan",
                                    "1": "2016",
                                    "2": "48653556053.333336",
                                    "3": "34636212",
                                    "4": "34569218.36",
                                    "5": "813809.64"
                                },
                                {
                                    "0": "Afghanistan",
                                    "1": "2017",
                                    "2": "50199651879.38461",
                                    "3": "35643420",
                                    "4": "35461300.45",
                                    "5": "834810.55"
                                },
                                {
                                    "0": "Afghanistan",
                                    "1": "2018",
                                    "2": "51442174537.14286",
                                    "3": "36686788",
                                    "4": "36694493.99",
                                    "5": "477428.01"
                                },
                                {
                                    "0": "Albania",
                                    "1": "2000",
                                    "2": "15214264320",
                                    "3": "3182027",
                                    "4": "3089027",
                                    "5": "0"
                                },
                                {
                                    "0": "Albania",
                                    "1": "2001",
                                    "2": "15889054208",
                                    "3": "3153615",
                                    "4": "3060173",
                                    "5": "0"
                                },
                                {
                                    "0": "Albania",
                                    "1": "2002",
                                    "2": "16395391317.333334",
                                    "3": "3123554",
                                    "4": "3051010",
                                    "5": "0"
                                },
                                {
                                    "0": "Albania",
                                    "1": "2003",
                                    "2": "16912917760",
                                    "3": "3092993",
                                    "4": "3039616",
                                    "5": "0"
                                },
                                {
                                    "0": "Albania",
                                    "1": "2004",
                                    "2": "17447910400",
                                    "3": "3062629",
                                    "4": "3026939",
                                    "5": "0"
                                },
                                {
                                    "0": "Albania",
                                    "1": "2005",
                                    "2": "18003438080",
                                    "3": "3032636",
                                    "4": "3011487",
                                    "5": "0"
                                },
                                {
                                    "0": "Albania",
                                    "1": "2006",
                                    "2": "18592130633.142857",
                                    "3": "3003391",
                                    "4": "2992547",
                                    "5": "0"
                                },
                                {
                                    "0": "Albania",
                                    "1": "2007",
                                    "2": "19214945152",
                                    "3": "2976089",
                                    "4": "2970017",
                                    "5": "0"
                                },
                                {
                                    "0": "Albania",
                                    "1": "2008",
                                    "2": "19910722104.88889",
                                    "3": "2951690",
                                    "4": "2947314",
                                    "5": "0"
                                },
                                {
                                    "0": "Albania",
                                    "1": "2009",
                                    "2": "20566788812.8",
                                    "3": "2930553",
                                    "4": "2927519",
                                    "5": "0"
                                },
                                {
                                    "0": "Albania",
                                    "1": "2010",
                                    "2": "21206014231.272728",
                                    "3": "2913402",
                                    "4": "2913021",
                                    "5": "0"
                                },
                                {
                                    "0": "Albania",
                                    "1": "2011",
                                    "2": "21809900629.333332",
                                    "3": "2900660",
                                    "4": "2905195",
                                    "5": "0"
                                },
                                {
                                    "0": "Albania",
                                    "1": "2012",
                                    "2": "22351860420.923077",
                                    "3": "2892191",
                                    "4": "2897500.6",
                                    "5": "2900.4"
                                },
                                {
                                    "0": "Albania",
                                    "1": "2013",
                                    "2": "22836916297.142857",
                                    "3": "2887019",
                                    "4": "2895092",
                                    "5": "0"
                                },
                                {
                                    "0": "Albania",
                                    "1": "2014",
                                    "2": "23292831266.133335",
                                    "3": "2884100",
                                    "4": "2887659.45",
                                    "5": "1444.55"
                                },
                                {
                                    "0": "Albania",
                                    "1": "2015",
                                    "2": "23739812544",
                                    "3": "2882482",
                                    "4": "2880126.86",
                                    "5": "576.14"
                                },
                                {
                                    "0": "Albania",
                                    "1": "2016",
                                    "2": "24195224816.941177",
                                    "3": "2881064",
                                    "4": "2872937.29",
                                    "5": "3163.71"
                                },
                                {
                                    "0": "Albania",
                                    "1": "2017",
                                    "2": "24666532352",
                                    "3": "2879361",
                                    "4": "2870296.2",
                                    "5": "3160.8"
                                },
                                {
                                    "0": "Albania",
                                    "1": "2018",
                                    "2": "25158247100.63158",
                                    "3": "2877019",
                                    "4": "2866376",
                                    "5": "0"
                                },
                                {
                                    "0": "Algeria",
                                    "1": "2008",
                                    "2": "395658559488",
                                    "3": "34569592",
                                    "4": "34487489.77",
                                    "5": "243114.23"
                                },
                                {
                                    "0": "Algeria",
                                    "1": "2009",
                                    "2": "406953115648",
                                    "3": "35196040",
                                    "4": "34916084.83",
                                    "5": "417797.17"
                                },
                                {
                                    "0": "Algeria",
                                    "1": "2010",
                                    "2": "421537371477.3333",
                                    "3": "35856348",
                                    "4": "35553578.48",
                                    "5": "423872.52"
                                },
                                {
                                    "0": "Algeria",
                                    "1": "2011",
                                    "2": "436661723136",
                                    "3": "36543548",
                                    "4": "36239095.28",
                                    "5": "422342.72"
                                },
                                {
                                    "0": "Algeria",
                                    "1": "2012",
                                    "2": "448914050252.8",
                                    "3": "37260568",
                                    "4": "36922080.92",
                                    "5": "461818.08"
                                },
                                {
                                    "0": "Algeria",
                                    "1": "2013",
                                    "2": "459409664682.6667",
                                    "3": "38000628",
                                    "4": "37750059.35",
                                    "5": "390075.65"
                                },
                                {
                                    "0": "Algeria",
                                    "1": "2014",
                                    "2": "469680867620.5714",
                                    "3": "38760168",
                                    "4": "38563268.52",
                                    "5": "360419.48"
                                }
                            ]
                        },
                        "text/html": "<table><tr><th>country</th><th>Year</th><th>AvgGDP</th><th>population</th><th>PeopleAccessingElectricity</th><th>PeopleWithoutElectricity</th></tr><tr><td>Afghanistan</td><td>2005</td><td>25397688320</td><td>24411196</td><td>5719689.4</td><td>19934584.6</td></tr><tr><td>Afghanistan</td><td>2006</td><td>27051044864</td><td>25442946</td><td>7427679.32</td><td>19005378.68</td></tr><tr><td>Afghanistan</td><td>2007</td><td>29536539989.333332</td><td>25903306</td><td>9187518.35</td><td>17913023.65</td></tr><tr><td>Afghanistan</td><td>2008</td><td>31292665856</td><td>26427204</td><td>11754247.14</td><td>15968033.86</td></tr><tr><td>Afghanistan</td><td>2009</td><td>33905876992</td><td>27385310</td><td>12925509.71</td><td>15469296.29</td></tr><tr><td>Afghanistan</td><td>2010</td><td>36154801493.333336</td><td>28189672</td><td>12462213.2</td><td>16723297.8</td></tr><tr><td>Afghanistan</td><td>2011</td><td>38607877851.42857</td><td>29249156</td><td>13017353.08</td><td>17100057.92</td></tr><tr><td>Afghanistan</td><td>2012</td><td>41177755648</td><td>30466484</td><td>21532512.2</td><td>9628865.8</td></tr><tr><td>Afghanistan</td><td>2013</td><td>43601749333.333336</td><td>31541216</td><td>22260513.51</td><td>10009078.49</td></tr><tr><td>Afghanistan</td><td>2014</td><td>45676185190.4</td><td>32716214</td><td>29866869.58</td><td>3503934.42</td></tr><tr><td>Afghanistan</td><td>2015</td><td>47231385972.36364</td><td>33753500</td><td>24605726.15</td><td>9807876.86</td></tr><tr><td>Afghanistan</td><td>2016</td><td>48653556053.333336</td><td>34636212</td><td>34569218.36</td><td>813809.64</td></tr><tr><td>Afghanistan</td><td>2017</td><td>50199651879.38461</td><td>35643420</td><td>35461300.45</td><td>834810.55</td></tr><tr><td>Afghanistan</td><td>2018</td><td>51442174537.14286</td><td>36686788</td><td>36694493.99</td><td>477428.01</td></tr><tr><td>Albania</td><td>2000</td><td>15214264320</td><td>3182027</td><td>3089027</td><td>0</td></tr><tr><td>Albania</td><td>2001</td><td>15889054208</td><td>3153615</td><td>3060173</td><td>0</td></tr><tr><td>Albania</td><td>2002</td><td>16395391317.333334</td><td>3123554</td><td>3051010</td><td>0</td></tr><tr><td>Albania</td><td>2003</td><td>16912917760</td><td>3092993</td><td>3039616</td><td>0</td></tr><tr><td>Albania</td><td>2004</td><td>17447910400</td><td>3062629</td><td>3026939</td><td>0</td></tr><tr><td>Albania</td><td>2005</td><td>18003438080</td><td>3032636</td><td>3011487</td><td>0</td></tr><tr><td>Albania</td><td>2006</td><td>18592130633.142857</td><td>3003391</td><td>2992547</td><td>0</td></tr><tr><td>Albania</td><td>2007</td><td>19214945152</td><td>2976089</td><td>2970017</td><td>0</td></tr><tr><td>Albania</td><td>2008</td><td>19910722104.88889</td><td>2951690</td><td>2947314</td><td>0</td></tr><tr><td>Albania</td><td>2009</td><td>20566788812.8</td><td>2930553</td><td>2927519</td><td>0</td></tr><tr><td>Albania</td><td>2010</td><td>21206014231.272728</td><td>2913402</td><td>2913021</td><td>0</td></tr><tr><td>Albania</td><td>2011</td><td>21809900629.333332</td><td>2900660</td><td>2905195</td><td>0</td></tr><tr><td>Albania</td><td>2012</td><td>22351860420.923077</td><td>2892191</td><td>2897500.6</td><td>2900.4</td></tr><tr><td>Albania</td><td>2013</td><td>22836916297.142857</td><td>2887019</td><td>2895092</td><td>0</td></tr><tr><td>Albania</td><td>2014</td><td>23292831266.133335</td><td>2884100</td><td>2887659.45</td><td>1444.55</td></tr><tr><td>Albania</td><td>2015</td><td>23739812544</td><td>2882482</td><td>2880126.86</td><td>576.14</td></tr><tr><td>Albania</td><td>2016</td><td>24195224816.941177</td><td>2881064</td><td>2872937.29</td><td>3163.71</td></tr><tr><td>Albania</td><td>2017</td><td>24666532352</td><td>2879361</td><td>2870296.2</td><td>3160.8</td></tr><tr><td>Albania</td><td>2018</td><td>25158247100.63158</td><td>2877019</td><td>2866376</td><td>0</td></tr><tr><td>Algeria</td><td>2008</td><td>395658559488</td><td>34569592</td><td>34487489.77</td><td>243114.23</td></tr><tr><td>Algeria</td><td>2009</td><td>406953115648</td><td>35196040</td><td>34916084.83</td><td>417797.17</td></tr><tr><td>Algeria</td><td>2010</td><td>421537371477.3333</td><td>35856348</td><td>35553578.48</td><td>423872.52</td></tr><tr><td>Algeria</td><td>2011</td><td>436661723136</td><td>36543548</td><td>36239095.28</td><td>422342.72</td></tr><tr><td>Algeria</td><td>2012</td><td>448914050252.8</td><td>37260568</td><td>36922080.92</td><td>461818.08</td></tr><tr><td>Algeria</td><td>2013</td><td>459409664682.6667</td><td>38000628</td><td>37750059.35</td><td>390075.65</td></tr><tr><td>Algeria</td><td>2014</td><td>469680867620.5714</td><td>38760168</td><td>38563268.52</td><td>360419.48</td></tr></table>"
                    },
                    "metadata": {}
                }
            ],
            "execution_count": 149
        },
        {
            "cell_type": "code",
            "source": [
                "--- Accessing Percentage\r\n",
                "--- Showing GDP, population, Accessing Electricity, Accessing Elec per population, without access to electricity, without accessing elec per population\r\n",
                "\r\n",
                "--- Creating CTE table\r\n",
                "\r\n",
                "With PopvsElec (country, Year, AvgGDP, population, PeopleAccessingElectricity, PeopleWithoutElectricity)\r\n",
                "as\r\n",
                "(\r\n",
                "SELECT TOP 40 en.country, el.Year, avg(en.gdp) over (partition by en.country order by en.country, el.Year) as AvgGDP, en.population,\r\n",
                "    el.[Number of people with access to electricity] as PeopleAccessingElectricity,\r\n",
                "    el.[Number of people without access to electricity] as PeopleWithoutElectricity\r\n",
                "FROM Energy en\r\n",
                "INNER JOIN Electric el\r\n",
                "ON en.iso_code = el.Code\r\n",
                "    AND en.year = el.Year\r\n",
                "WHERE en.gdp IS NOT NULL\r\n",
                ")\r\n",
                "\r\n",
                "SELECT *, (PeopleAccessingElectricity/population)*100 as PercentPeopleAccessingElectricity, (PeopleWithoutElectricity/population)*100 as PercentPeopleWithoutElectricity\r\n",
                "FROM PopvsElec"
            ],
            "metadata": {
                "language": "sql",
                "azdata_cell_guid": "6a56ce61-f384-461e-aeaf-2fbde7c398e3"
            },
            "outputs": [
                {
                    "output_type": "display_data",
                    "data": {
                        "text/html": "(40 rows affected)"
                    },
                    "metadata": {}
                },
                {
                    "output_type": "display_data",
                    "data": {
                        "text/html": "Total execution time: 00:00:00.077"
                    },
                    "metadata": {}
                },
                {
                    "output_type": "execute_result",
                    "execution_count": 152,
                    "data": {
                        "application/vnd.dataresource+json": {
                            "schema": {
                                "fields": [
                                    {
                                        "name": "country"
                                    },
                                    {
                                        "name": "Year"
                                    },
                                    {
                                        "name": "AvgGDP"
                                    },
                                    {
                                        "name": "population"
                                    },
                                    {
                                        "name": "PeopleAccessingElectricity"
                                    },
                                    {
                                        "name": "PeopleWithoutElectricity"
                                    },
                                    {
                                        "name": "PercentPeopleAccessingElectricity"
                                    },
                                    {
                                        "name": "PercentPeopleWithoutElectricity"
                                    }
                                ]
                            },
                            "data": [
                                {
                                    "0": "Afghanistan",
                                    "1": "2005",
                                    "2": "25397688320",
                                    "3": "24411196",
                                    "4": "5719689.4",
                                    "5": "19934584.6",
                                    "6": "23.430598812118834",
                                    "7": "81.66164656578073"
                                },
                                {
                                    "0": "Afghanistan",
                                    "1": "2006",
                                    "2": "27051044864",
                                    "3": "25442946",
                                    "4": "7427679.32",
                                    "5": "19005378.68",
                                    "6": "29.193472013814752",
                                    "7": "74.69802702878825"
                                },
                                {
                                    "0": "Afghanistan",
                                    "1": "2007",
                                    "2": "29536539989.333332",
                                    "3": "25903306",
                                    "4": "9187518.35",
                                    "5": "17913023.65",
                                    "6": "35.46851645114334",
                                    "7": "69.15342640047567"
                                },
                                {
                                    "0": "Afghanistan",
                                    "1": "2008",
                                    "2": "31292665856",
                                    "3": "26427204",
                                    "4": "11754247.14",
                                    "5": "15968033.86",
                                    "6": "44.47783102593827",
                                    "7": "60.42271388225557"
                                },
                                {
                                    "0": "Afghanistan",
                                    "1": "2009",
                                    "2": "33905876992",
                                    "3": "27385310",
                                    "4": "12925509.71",
                                    "5": "15469296.29",
                                    "6": "47.1986978055023",
                                    "7": "56.487570489433935"
                                },
                                {
                                    "0": "Afghanistan",
                                    "1": "2010",
                                    "2": "36154801493.333336",
                                    "3": "28189672",
                                    "4": "12462213.2",
                                    "5": "16723297.8",
                                    "6": "44.20843633796094",
                                    "7": "59.32420143093542"
                                },
                                {
                                    "0": "Afghanistan",
                                    "1": "2011",
                                    "2": "38607877851.42857",
                                    "3": "29249156",
                                    "4": "13017353.08",
                                    "5": "17100057.92",
                                    "6": "44.50505539373512",
                                    "7": "58.4634234232263"
                                },
                                {
                                    "0": "Afghanistan",
                                    "1": "2012",
                                    "2": "41177755648",
                                    "3": "30466484",
                                    "4": "21532512.2",
                                    "5": "9628865.8",
                                    "6": "70.67606554139952",
                                    "7": "31.604781831733526"
                                },
                                {
                                    "0": "Afghanistan",
                                    "1": "2013",
                                    "2": "43601749333.333336",
                                    "3": "31541216",
                                    "4": "22260513.51",
                                    "5": "10009078.49",
                                    "6": "70.57595214464783",
                                    "7": "31.733331048492236"
                                },
                                {
                                    "0": "Afghanistan",
                                    "1": "2014",
                                    "2": "45676185190.4",
                                    "3": "32716214",
                                    "4": "29866869.58",
                                    "5": "3503934.42",
                                    "6": "91.29072691601785",
                                    "7": "10.710085280650139"
                                },
                                {
                                    "0": "Afghanistan",
                                    "1": "2015",
                                    "2": "47231385972.36364",
                                    "3": "33753500",
                                    "4": "24605726.15",
                                    "5": "9807876.86",
                                    "6": "72.89829543602885",
                                    "7": "29.057362525367736"
                                },
                                {
                                    "0": "Afghanistan",
                                    "1": "2016",
                                    "2": "48653556053.333336",
                                    "3": "34636212",
                                    "4": "34569218.36",
                                    "5": "813809.64",
                                    "6": "99.8065791952076",
                                    "7": "2.3495919241977155"
                                },
                                {
                                    "0": "Afghanistan",
                                    "1": "2017",
                                    "2": "50199651879.38461",
                                    "3": "35643420",
                                    "4": "35461300.45",
                                    "5": "834810.55",
                                    "6": "99.48905141538046",
                                    "7": "2.34211686196218"
                                },
                                {
                                    "0": "Afghanistan",
                                    "1": "2018",
                                    "2": "51442174537.14286",
                                    "3": "36686788",
                                    "4": "36694493.99",
                                    "5": "477428.01",
                                    "6": "100.0210048096879",
                                    "7": "1.3013622506282099"
                                },
                                {
                                    "0": "Albania",
                                    "1": "2000",
                                    "2": "15214264320",
                                    "3": "3182027",
                                    "4": "3089027",
                                    "5": "0",
                                    "6": "97.0773346674934",
                                    "7": "0"
                                },
                                {
                                    "0": "Albania",
                                    "1": "2001",
                                    "2": "15889054208",
                                    "3": "3153615",
                                    "4": "3060173",
                                    "5": "0",
                                    "6": "97.03698771092857",
                                    "7": "0"
                                },
                                {
                                    "0": "Albania",
                                    "1": "2002",
                                    "2": "16395391317.333334",
                                    "3": "3123554",
                                    "4": "3051010",
                                    "5": "0",
                                    "6": "97.67751734082395",
                                    "7": "0"
                                },
                                {
                                    "0": "Albania",
                                    "1": "2003",
                                    "2": "16912917760",
                                    "3": "3092993",
                                    "4": "3039616",
                                    "5": "0",
                                    "6": "98.2742605625037",
                                    "7": "0"
                                },
                                {
                                    "0": "Albania",
                                    "1": "2004",
                                    "2": "17447910400",
                                    "3": "3062629",
                                    "4": "3026939",
                                    "5": "0",
                                    "6": "98.83466133181655",
                                    "7": "0"
                                },
                                {
                                    "0": "Albania",
                                    "1": "2005",
                                    "2": "18003438080",
                                    "3": "3032636",
                                    "4": "3011487",
                                    "5": "0",
                                    "6": "99.30261989899216",
                                    "7": "0"
                                },
                                {
                                    "0": "Albania",
                                    "1": "2006",
                                    "2": "18592130633.142857",
                                    "3": "3003391",
                                    "4": "2992547",
                                    "5": "0",
                                    "6": "99.63894144984785",
                                    "7": "0"
                                },
                                {
                                    "0": "Albania",
                                    "1": "2007",
                                    "2": "19214945152",
                                    "3": "2976089",
                                    "4": "2970017",
                                    "5": "0",
                                    "6": "99.79597384352417",
                                    "7": "0"
                                },
                                {
                                    "0": "Albania",
                                    "1": "2008",
                                    "2": "19910722104.88889",
                                    "3": "2951690",
                                    "4": "2947314",
                                    "5": "0",
                                    "6": "99.85174594893095",
                                    "7": "0"
                                },
                                {
                                    "0": "Albania",
                                    "1": "2009",
                                    "2": "20566788812.8",
                                    "3": "2930553",
                                    "4": "2927519",
                                    "5": "0",
                                    "6": "99.89647005189806",
                                    "7": "0"
                                },
                                {
                                    "0": "Albania",
                                    "1": "2010",
                                    "2": "21206014231.272728",
                                    "3": "2913402",
                                    "4": "2913021",
                                    "5": "0",
                                    "6": "99.98692250503021",
                                    "7": "0"
                                },
                                {
                                    "0": "Albania",
                                    "1": "2011",
                                    "2": "21809900629.333332",
                                    "3": "2900660",
                                    "4": "2905195",
                                    "5": "0",
                                    "6": "100.15634372866865",
                                    "7": "0"
                                },
                                {
                                    "0": "Albania",
                                    "1": "2012",
                                    "2": "22351860420.923077",
                                    "3": "2892191",
                                    "4": "2897500.6",
                                    "5": "2900.4",
                                    "6": "100.18358400257799",
                                    "7": "0.10028383325997488"
                                },
                                {
                                    "0": "Albania",
                                    "1": "2013",
                                    "2": "22836916297.142857",
                                    "3": "2887019",
                                    "4": "2895092",
                                    "5": "0",
                                    "6": "100.27963099654002",
                                    "7": "0"
                                },
                                {
                                    "0": "Albania",
                                    "1": "2014",
                                    "2": "23292831266.133335",
                                    "3": "2884100",
                                    "4": "2887659.45",
                                    "5": "1444.55",
                                    "6": "100.12341631704867",
                                    "7": "0.050086682153878154"
                                },
                                {
                                    "0": "Albania",
                                    "1": "2015",
                                    "2": "23739812544",
                                    "3": "2882482",
                                    "4": "2880126.86",
                                    "5": "576.14",
                                    "6": "99.9182947196201",
                                    "7": "0.019987635655660644"
                                },
                                {
                                    "0": "Albania",
                                    "1": "2016",
                                    "2": "24195224816.941177",
                                    "3": "2881064",
                                    "4": "2872937.29",
                                    "5": "3163.71",
                                    "6": "99.71792677982857",
                                    "7": "0.1098104727975498"
                                },
                                {
                                    "0": "Albania",
                                    "1": "2017",
                                    "2": "24666532352",
                                    "3": "2879361",
                                    "4": "2870296.2",
                                    "5": "3160.8",
                                    "6": "99.68518014934564",
                                    "7": "0.1097743561852786"
                                },
                                {
                                    "0": "Albania",
                                    "1": "2018",
                                    "2": "25158247100.63158",
                                    "3": "2877019",
                                    "4": "2866376",
                                    "5": "0",
                                    "6": "99.63006848408023",
                                    "7": "0"
                                },
                                {
                                    "0": "Algeria",
                                    "1": "2008",
                                    "2": "395658559488",
                                    "3": "34569592",
                                    "4": "34487489.77",
                                    "5": "243114.23",
                                    "6": "99.76250159388633",
                                    "7": "0.7032603393178606"
                                },
                                {
                                    "0": "Algeria",
                                    "1": "2009",
                                    "2": "406953115648",
                                    "3": "35196040",
                                    "4": "34916084.83",
                                    "5": "417797.17",
                                    "6": "99.20458332812441",
                                    "7": "1.187057322357856"
                                },
                                {
                                    "0": "Algeria",
                                    "1": "2010",
                                    "2": "421537371477.3333",
                                    "3": "35856348",
                                    "4": "35553578.48",
                                    "5": "423872.52",
                                    "6": "99.15560413458726",
                                    "7": "1.1821408025156384"
                                },
                                {
                                    "0": "Algeria",
                                    "1": "2011",
                                    "2": "436661723136",
                                    "3": "36543548",
                                    "4": "36239095.28",
                                    "5": "422342.72",
                                    "6": "99.1668769545858",
                                    "7": "1.1557244523711818"
                                },
                                {
                                    "0": "Algeria",
                                    "1": "2012",
                                    "2": "448914050252.8",
                                    "3": "37260568",
                                    "4": "36922080.92",
                                    "5": "461818.08",
                                    "6": "99.09156757889467",
                                    "7": "1.2394284488631522"
                                },
                                {
                                    "0": "Algeria",
                                    "1": "2013",
                                    "2": "459409664682.6667",
                                    "3": "38000628",
                                    "4": "37750059.35",
                                    "5": "390075.65",
                                    "6": "99.34061971291632",
                                    "7": "1.0264979041925308"
                                },
                                {
                                    "0": "Algeria",
                                    "1": "2014",
                                    "2": "469680867620.5714",
                                    "3": "38760168",
                                    "4": "38563268.52",
                                    "5": "360419.48",
                                    "6": "99.49200560740604",
                                    "7": "0.9298707890017401"
                                }
                            ]
                        },
                        "text/html": "<table><tr><th>country</th><th>Year</th><th>AvgGDP</th><th>population</th><th>PeopleAccessingElectricity</th><th>PeopleWithoutElectricity</th><th>PercentPeopleAccessingElectricity</th><th>PercentPeopleWithoutElectricity</th></tr><tr><td>Afghanistan</td><td>2005</td><td>25397688320</td><td>24411196</td><td>5719689.4</td><td>19934584.6</td><td>23.430598812118834</td><td>81.66164656578073</td></tr><tr><td>Afghanistan</td><td>2006</td><td>27051044864</td><td>25442946</td><td>7427679.32</td><td>19005378.68</td><td>29.193472013814752</td><td>74.69802702878825</td></tr><tr><td>Afghanistan</td><td>2007</td><td>29536539989.333332</td><td>25903306</td><td>9187518.35</td><td>17913023.65</td><td>35.46851645114334</td><td>69.15342640047567</td></tr><tr><td>Afghanistan</td><td>2008</td><td>31292665856</td><td>26427204</td><td>11754247.14</td><td>15968033.86</td><td>44.47783102593827</td><td>60.42271388225557</td></tr><tr><td>Afghanistan</td><td>2009</td><td>33905876992</td><td>27385310</td><td>12925509.71</td><td>15469296.29</td><td>47.1986978055023</td><td>56.487570489433935</td></tr><tr><td>Afghanistan</td><td>2010</td><td>36154801493.333336</td><td>28189672</td><td>12462213.2</td><td>16723297.8</td><td>44.20843633796094</td><td>59.32420143093542</td></tr><tr><td>Afghanistan</td><td>2011</td><td>38607877851.42857</td><td>29249156</td><td>13017353.08</td><td>17100057.92</td><td>44.50505539373512</td><td>58.4634234232263</td></tr><tr><td>Afghanistan</td><td>2012</td><td>41177755648</td><td>30466484</td><td>21532512.2</td><td>9628865.8</td><td>70.67606554139952</td><td>31.604781831733526</td></tr><tr><td>Afghanistan</td><td>2013</td><td>43601749333.333336</td><td>31541216</td><td>22260513.51</td><td>10009078.49</td><td>70.57595214464783</td><td>31.733331048492236</td></tr><tr><td>Afghanistan</td><td>2014</td><td>45676185190.4</td><td>32716214</td><td>29866869.58</td><td>3503934.42</td><td>91.29072691601785</td><td>10.710085280650139</td></tr><tr><td>Afghanistan</td><td>2015</td><td>47231385972.36364</td><td>33753500</td><td>24605726.15</td><td>9807876.86</td><td>72.89829543602885</td><td>29.057362525367736</td></tr><tr><td>Afghanistan</td><td>2016</td><td>48653556053.333336</td><td>34636212</td><td>34569218.36</td><td>813809.64</td><td>99.8065791952076</td><td>2.3495919241977155</td></tr><tr><td>Afghanistan</td><td>2017</td><td>50199651879.38461</td><td>35643420</td><td>35461300.45</td><td>834810.55</td><td>99.48905141538046</td><td>2.34211686196218</td></tr><tr><td>Afghanistan</td><td>2018</td><td>51442174537.14286</td><td>36686788</td><td>36694493.99</td><td>477428.01</td><td>100.0210048096879</td><td>1.3013622506282099</td></tr><tr><td>Albania</td><td>2000</td><td>15214264320</td><td>3182027</td><td>3089027</td><td>0</td><td>97.0773346674934</td><td>0</td></tr><tr><td>Albania</td><td>2001</td><td>15889054208</td><td>3153615</td><td>3060173</td><td>0</td><td>97.03698771092857</td><td>0</td></tr><tr><td>Albania</td><td>2002</td><td>16395391317.333334</td><td>3123554</td><td>3051010</td><td>0</td><td>97.67751734082395</td><td>0</td></tr><tr><td>Albania</td><td>2003</td><td>16912917760</td><td>3092993</td><td>3039616</td><td>0</td><td>98.2742605625037</td><td>0</td></tr><tr><td>Albania</td><td>2004</td><td>17447910400</td><td>3062629</td><td>3026939</td><td>0</td><td>98.83466133181655</td><td>0</td></tr><tr><td>Albania</td><td>2005</td><td>18003438080</td><td>3032636</td><td>3011487</td><td>0</td><td>99.30261989899216</td><td>0</td></tr><tr><td>Albania</td><td>2006</td><td>18592130633.142857</td><td>3003391</td><td>2992547</td><td>0</td><td>99.63894144984785</td><td>0</td></tr><tr><td>Albania</td><td>2007</td><td>19214945152</td><td>2976089</td><td>2970017</td><td>0</td><td>99.79597384352417</td><td>0</td></tr><tr><td>Albania</td><td>2008</td><td>19910722104.88889</td><td>2951690</td><td>2947314</td><td>0</td><td>99.85174594893095</td><td>0</td></tr><tr><td>Albania</td><td>2009</td><td>20566788812.8</td><td>2930553</td><td>2927519</td><td>0</td><td>99.89647005189806</td><td>0</td></tr><tr><td>Albania</td><td>2010</td><td>21206014231.272728</td><td>2913402</td><td>2913021</td><td>0</td><td>99.98692250503021</td><td>0</td></tr><tr><td>Albania</td><td>2011</td><td>21809900629.333332</td><td>2900660</td><td>2905195</td><td>0</td><td>100.15634372866865</td><td>0</td></tr><tr><td>Albania</td><td>2012</td><td>22351860420.923077</td><td>2892191</td><td>2897500.6</td><td>2900.4</td><td>100.18358400257799</td><td>0.10028383325997488</td></tr><tr><td>Albania</td><td>2013</td><td>22836916297.142857</td><td>2887019</td><td>2895092</td><td>0</td><td>100.27963099654002</td><td>0</td></tr><tr><td>Albania</td><td>2014</td><td>23292831266.133335</td><td>2884100</td><td>2887659.45</td><td>1444.55</td><td>100.12341631704867</td><td>0.050086682153878154</td></tr><tr><td>Albania</td><td>2015</td><td>23739812544</td><td>2882482</td><td>2880126.86</td><td>576.14</td><td>99.9182947196201</td><td>0.019987635655660644</td></tr><tr><td>Albania</td><td>2016</td><td>24195224816.941177</td><td>2881064</td><td>2872937.29</td><td>3163.71</td><td>99.71792677982857</td><td>0.1098104727975498</td></tr><tr><td>Albania</td><td>2017</td><td>24666532352</td><td>2879361</td><td>2870296.2</td><td>3160.8</td><td>99.68518014934564</td><td>0.1097743561852786</td></tr><tr><td>Albania</td><td>2018</td><td>25158247100.63158</td><td>2877019</td><td>2866376</td><td>0</td><td>99.63006848408023</td><td>0</td></tr><tr><td>Algeria</td><td>2008</td><td>395658559488</td><td>34569592</td><td>34487489.77</td><td>243114.23</td><td>99.76250159388633</td><td>0.7032603393178606</td></tr><tr><td>Algeria</td><td>2009</td><td>406953115648</td><td>35196040</td><td>34916084.83</td><td>417797.17</td><td>99.20458332812441</td><td>1.187057322357856</td></tr><tr><td>Algeria</td><td>2010</td><td>421537371477.3333</td><td>35856348</td><td>35553578.48</td><td>423872.52</td><td>99.15560413458726</td><td>1.1821408025156384</td></tr><tr><td>Algeria</td><td>2011</td><td>436661723136</td><td>36543548</td><td>36239095.28</td><td>422342.72</td><td>99.1668769545858</td><td>1.1557244523711818</td></tr><tr><td>Algeria</td><td>2012</td><td>448914050252.8</td><td>37260568</td><td>36922080.92</td><td>461818.08</td><td>99.09156757889467</td><td>1.2394284488631522</td></tr><tr><td>Algeria</td><td>2013</td><td>459409664682.6667</td><td>38000628</td><td>37750059.35</td><td>390075.65</td><td>99.34061971291632</td><td>1.0264979041925308</td></tr><tr><td>Algeria</td><td>2014</td><td>469680867620.5714</td><td>38760168</td><td>38563268.52</td><td>360419.48</td><td>99.49200560740604</td><td>0.9298707890017401</td></tr></table>"
                    },
                    "metadata": {}
                }
            ],
            "execution_count": 152
        }
    ]
}