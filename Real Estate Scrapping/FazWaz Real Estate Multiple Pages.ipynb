{
 "cells": [
  {
   "cell_type": "markdown",
   "id": "8ead119e",
   "metadata": {},
   "source": [
    "# Real Estate Web Scrapping"
   ]
  },
  {
   "cell_type": "markdown",
   "id": "c6e766dc",
   "metadata": {},
   "source": [
    "Objective: \n",
    "- To Scrape data from FazWaz real estate website which has area in Bangkok\n",
    "- To collect the data to CSV file, both writing csv directly and putting in pandas before\n",
    "- To visualize the data of Property Price for Sale in Bangkok with Tableau"
   ]
  },
  {
   "cell_type": "markdown",
   "id": "4459156a",
   "metadata": {},
   "source": [
    "Method:\n",
    "- Using BeautifulSoup, requests, pandas"
   ]
  },
  {
   "cell_type": "code",
   "execution_count": 65,
   "id": "1735b2db",
   "metadata": {},
   "outputs": [],
   "source": [
    "#import library\n",
    "\n",
    "from bs4 import BeautifulSoup\n",
    "import requests\n",
    "import pandas as pd\n",
    "import time \n",
    "import datetime"
   ]
  },
  {
   "cell_type": "markdown",
   "id": "b8988dd3",
   "metadata": {},
   "source": [
    "# Import data"
   ]
  },
  {
   "cell_type": "code",
   "execution_count": 66,
   "id": "ad3d6301",
   "metadata": {},
   "outputs": [],
   "source": [
    "url='https://www.fazwaz.com/property-for-sale/thailand/bangkok'"
   ]
  },
  {
   "cell_type": "code",
   "execution_count": 67,
   "id": "b880f716",
   "metadata": {},
   "outputs": [
    {
     "name": "stdout",
     "output_type": "stream",
     "text": [
      "<Response [200]>\n"
     ]
    }
   ],
   "source": [
    "# get data from url\n",
    "\n",
    "page = requests.get(url)\n",
    "print(page) #200 means successful response"
   ]
  },
  {
   "cell_type": "code",
   "execution_count": 68,
   "id": "71b92446",
   "metadata": {},
   "outputs": [],
   "source": [
    "#tell BeautifulSoup to get content in html\n",
    "\n",
    "soup1 = BeautifulSoup(page.content, 'html.parser')"
   ]
  },
  {
   "cell_type": "code",
   "execution_count": 69,
   "id": "c89ed517",
   "metadata": {},
   "outputs": [],
   "source": [
    "#display in html nested stucture\n",
    "\n",
    "soup2 = BeautifulSoup(soup1.prettify(), 'html.parser')\n",
    "#print(soup2)"
   ]
  },
  {
   "cell_type": "markdown",
   "id": "481bfa35",
   "metadata": {},
   "source": [
    "# Scrapping data"
   ]
  },
  {
   "cell_type": "code",
   "execution_count": 70,
   "id": "52a787d6",
   "metadata": {},
   "outputs": [
    {
     "data": {
      "text/plain": [
       "<title>\n",
       "         Property for Sale in Bangkok - FazWaz\n",
       "        </title>"
      ]
     },
     "execution_count": 70,
     "metadata": {},
     "output_type": "execute_result"
    }
   ],
   "source": [
    "# look at page title\n",
    "\n",
    "page_title = soup2.title\n",
    "page_title"
   ]
  },
  {
   "cell_type": "code",
   "execution_count": 71,
   "id": "0baebf66",
   "metadata": {},
   "outputs": [],
   "source": [
    "#look at lists\n",
    "\n",
    "lists = soup2.find_all('li', {'data-tk':'unit-result'})  #find with css #use find_all to fide all listed in this page\n",
    "# print(lists)"
   ]
  },
  {
   "cell_type": "code",
   "execution_count": 72,
   "id": "b8ddd7a1",
   "metadata": {},
   "outputs": [
    {
     "name": "stdout",
     "output_type": "stream",
     "text": [
      "First Tower\n"
     ]
    }
   ],
   "source": [
    "#look at title of fist list\n",
    "\n",
    "title = soup2.find('a', class_='unit-name unit-name--have-project-link').text.strip()   #find with python class_\n",
    "print(title)"
   ]
  },
  {
   "cell_type": "code",
   "execution_count": 73,
   "id": "bd229894",
   "metadata": {},
   "outputs": [
    {
     "name": "stdout",
     "output_type": "stream",
     "text": [
      "Khlong Toei Nuea, Watthana, Bangkok\n"
     ]
    }
   ],
   "source": [
    "#look at location of fist list\n",
    "\n",
    "location = soup2.find('div', class_='location-unit').text.strip()\n",
    "print(location)"
   ]
  },
  {
   "cell_type": "code",
   "execution_count": 74,
   "id": "bd28b903",
   "metadata": {},
   "outputs": [
    {
     "name": "stdout",
     "output_type": "stream",
     "text": [
      "฿3,780,000\n",
      "           \n",
      "            ฿4,350,000\n",
      "           \n",
      "\n",
      "            (฿53,900/SqM)\n"
     ]
    }
   ],
   "source": [
    "#look at price of fist list\n",
    "\n",
    "find_price = soup2.find('div', {'class':'price-tag'}).text.strip()\n",
    "print(find_price)"
   ]
  },
  {
   "cell_type": "code",
   "execution_count": 75,
   "id": "657df9c7",
   "metadata": {},
   "outputs": [
    {
     "data": {
      "text/plain": [
       "'3,780,000'"
      ]
     },
     "execution_count": 75,
     "metadata": {},
     "output_type": "execute_result"
    }
   ],
   "source": [
    "price = find_price.split(' ')[0].strip()[1:]  #split into a list and select[0]position ib the list then remove \\n and bath sigh\n",
    "price"
   ]
  },
  {
   "cell_type": "code",
   "execution_count": 85,
   "id": "c6c1dbe0",
   "metadata": {},
   "outputs": [
    {
     "name": "stdout",
     "output_type": "stream",
     "text": [
      "Studio\n",
      "           \n",
      "\n",
      "           1\n",
      "           \n",
      "            Bathroom(s)\n",
      "           \n",
      "\n",
      "\n",
      "\n",
      "            70 SqM\n",
      "           \n",
      "\n",
      "            Property Type:\n",
      "           \n",
      "\n",
      "\n",
      "           Condo\n"
     ]
    }
   ],
   "source": [
    "#look at number of all icon\n",
    "\n",
    "icon = soup2.find('div', {'class':'wrap-icon-info'}).text.strip()\n",
    "\n",
    "print(icon)"
   ]
  },
  {
   "cell_type": "code",
   "execution_count": 86,
   "id": "175de2bb",
   "metadata": {},
   "outputs": [
    {
     "data": {
      "text/plain": [
       "['Studio', '1', 'Bathroom(s)', '70', 'SqM', 'Property', 'Type:', 'Condo']"
      ]
     },
     "execution_count": 86,
     "metadata": {},
     "output_type": "execute_result"
    }
   ],
   "source": [
    "icon.split()  #split into a list"
   ]
  },
  {
   "cell_type": "code",
   "execution_count": 108,
   "id": "5c5cd033",
   "metadata": {},
   "outputs": [
    {
     "name": "stdout",
     "output_type": "stream",
     "text": [
      "['1']\n",
      "['1', '70']\n",
      "1\n"
     ]
    }
   ],
   "source": [
    "#to use finding info. in icon\n",
    "\n",
    "import re\n",
    "\n",
    "b = []\n",
    "\n",
    "for s in icon.split():\n",
    "    if re.findall(r'\\b\\d+\\b',s):\n",
    "        b.append(s)\n",
    "        print(b)\n",
    "        if len(b)==2:\n",
    "            bedroom = icon.split()[0]\n",
    "            bathroom = icon.split()[1]\n",
    "            area = icon.split()[3]\n",
    "        else:\n",
    "            bedroom = icon.split()[0]\n",
    "            bathroom = icon.split()[2]\n",
    "            area = icon.split()[4]\n",
    "\n",
    "# print(bathroom)"
   ]
  },
  {
   "cell_type": "code",
   "execution_count": 113,
   "id": "ae7f5af7",
   "metadata": {},
   "outputs": [
    {
     "name": "stdout",
     "output_type": "stream",
     "text": [
      "['1', '70']\n"
     ]
    }
   ],
   "source": [
    "print(b)"
   ]
  },
  {
   "cell_type": "code",
   "execution_count": 30,
   "id": "3d7ec40d",
   "metadata": {},
   "outputs": [
    {
     "data": {
      "text/plain": [
       "list"
      ]
     },
     "execution_count": 30,
     "metadata": {},
     "output_type": "execute_result"
    }
   ],
   "source": [
    "type(b)"
   ]
  },
  {
   "cell_type": "code",
   "execution_count": 105,
   "id": "536dcd40",
   "metadata": {},
   "outputs": [
    {
     "data": {
      "text/plain": [
       "'Studio'"
      ]
     },
     "execution_count": 105,
     "metadata": {},
     "output_type": "execute_result"
    }
   ],
   "source": [
    "#bedroom (str)\n",
    "\n",
    "bedroom "
   ]
  },
  {
   "cell_type": "code",
   "execution_count": 109,
   "id": "871e35fe",
   "metadata": {},
   "outputs": [
    {
     "data": {
      "text/plain": [
       "'1'"
      ]
     },
     "execution_count": 109,
     "metadata": {},
     "output_type": "execute_result"
    }
   ],
   "source": [
    "#is bathroom (str)\n",
    "\n",
    "bathroom "
   ]
  },
  {
   "cell_type": "code",
   "execution_count": 110,
   "id": "e020793b",
   "metadata": {},
   "outputs": [
    {
     "data": {
      "text/plain": [
       "'70'"
      ]
     },
     "execution_count": 110,
     "metadata": {},
     "output_type": "execute_result"
    }
   ],
   "source": [
    "#is area (str)\n",
    "\n",
    "\n",
    "area "
   ]
  },
  {
   "cell_type": "code",
   "execution_count": 111,
   "id": "c9b6efbf",
   "metadata": {},
   "outputs": [
    {
     "data": {
      "text/plain": [
       "'Condo'"
      ]
     },
     "execution_count": 111,
     "metadata": {},
     "output_type": "execute_result"
    }
   ],
   "source": [
    "# Type of estate in list\n",
    "\n",
    "type_list = icon.split()[-1]\n",
    "type_list"
   ]
  },
  {
   "cell_type": "code",
   "execution_count": 112,
   "id": "f057580f",
   "metadata": {},
   "outputs": [
    {
     "name": "stdout",
     "output_type": "stream",
     "text": [
      "2023-03-28\n"
     ]
    }
   ],
   "source": [
    "#date\n",
    "import datetime\n",
    "today = datetime.date.today().strftime('%Y-%m-%d')\n",
    "print(today)"
   ]
  },
  {
   "cell_type": "markdown",
   "id": "3872c3c8",
   "metadata": {},
   "source": [
    "#  Finding all data contained in this page"
   ]
  },
  {
   "cell_type": "code",
   "execution_count": 122,
   "id": "5a506039",
   "metadata": {},
   "outputs": [
    {
     "name": "stdout",
     "output_type": "stream",
     "text": [
      "['First Tower', 'Khlong Toei Nuea, Watthana, Bangkok', '3,780,000', '70', 'Studio', '1', 'Condo', '2023-03-28']\n",
      "['Varathorn Ville', 'Suan Luang, Suan Luang, Bangkok', '4,900,000', '300', '5', '5', 'Townhouse', '2023-03-28']\n",
      "['Sukhumvit Suite', 'Khlong Toei Nuea, Watthana, Bangkok', '3,550,000', '53', '1', '1', 'Condo', '2023-03-28']\n",
      "['The Room Sukhumvit 21', 'Khlong Toei Nuea, Watthana, Bangkok', '8,500,000', '52', '1', '1', 'Condo', '2023-03-28']\n",
      "['Supakarn Condominium', 'Khlong Ton Sai, Khlong San, Bangkok', '28,000,000', '273', '3', '3', 'Condo', '2023-03-28']\n",
      "['Passorn Prestige Onnut', 'Prawet, Prawet, Bangkok', '6,600,000', '261', '3', '2', 'House', '2023-03-28']\n",
      "['Thonglor Tower', 'Khlong Tan Nuea, Watthana, Bangkok', '3,500,000', '49', '1', '1', 'Condo', '2023-03-28']\n",
      "['River Heaven', 'Bang Kho Laem, Bang Kho Laem, Bangkok', '8,990,000', '99', '3', '2', 'Condo', '2023-03-28']\n",
      "['Mano Tower', 'Khlong Tan Nuea, Watthana, Bangkok', '45,000,000', '326', '2', '3', 'Condo', '2023-03-28']\n",
      "['The Park Chidlom', 'Lumphini, Pathum Wan, Bangkok', '38,200,000', '146', '2', '3', 'Condo', '2023-03-28']\n",
      "['Resorta Watcharapol', 'Tha Raeng, Bang Khen, Bangkok', '3,490,000', '190', '3', '4', 'Townhouse', '2023-03-28']\n",
      "['Baan Sansiri Sukhumvit 67', 'Phra Khanong Nuea, Watthana, Bangkok', '93,000,000', '376', '4', '5', 'House', '2023-03-28']\n",
      "['Life Ladprao Valley', 'Chomphon, Chatuchak, Bangkok', '6,090,000', '35', '1', '1', 'Condo', '2023-03-28']\n",
      "['My Condo Sukhumvit 52', 'Bang Chak, Phra Khanong, Bangkok', '2,600,000', '35.19', '1', '1', 'Condo', '2023-03-28']\n",
      "['Wyndham Bangkok Queen Convention Centre', 'Khlong Toei, Khlong Toei, Bangkok', '13,500,000', '83', '2', '2', 'Condo', '2023-03-28']\n",
      "['Aspire Sukhumvit-Rama 4', 'Phra Khanong, Khlong Toei, Bangkok', '5,563,425', '55', '2', '2', 'Condo', '2023-03-28']\n",
      "['Baan Saraan', 'Khlong Toei Nuea, Watthana, Bangkok', '34,000,000', '300', '3', '3', 'Penthouse', '2023-03-28']\n",
      "['Belle Grand Rama 9', 'Huai Khwang, Huai Khwang, Bangkok', '27,000,000', '182', '2', '4', 'Penthouse', '2023-03-28']\n",
      "['Baan Ploenchit', 'Lumphini, Pathum Wan, Bangkok', '45,000,000', '360', '3', '3', 'Penthouse', '2023-03-28']\n",
      "['Supalai Park Kaset', 'Sena Nikhom, Chatuchak, Bangkok', '3,039,000', '51', '1', '1', 'Condo', '2023-03-28']\n",
      "['Casa Ekamai 28', 'Khlong Tan Nuea, Watthana, Bangkok', '89,000,000', '846', '4', '4', 'House', '2023-03-28']\n",
      "['28 Chidlom', 'Lumphini, Pathum Wan, Bangkok', '27,900,000', '78', '2', '2', 'Condo', '2023-03-28']\n",
      "['Thonglor Tower', 'Khlong Tan Nuea, Watthana, Bangkok', '3,300,000', '49', '1', '1', 'Condo', '2023-03-28']\n",
      "['The Strand Thonglor', 'Khlong Tan Nuea, Watthana, Bangkok', '19,500,000', '55', '1', '1', 'Condo', '2023-03-28']\n",
      "['Commonwealth Pinklao', 'Bang Bamru, Bang Phlat, Bangkok', '3,150,000', '46', '1', '1', 'Apartment', '2023-03-28']\n",
      "['Thonglor Tower', 'Khlong Tan Nuea, Watthana, Bangkok', '6,800,000', '99', '2', '2', 'Condo', '2023-03-28']\n",
      "['Lumpini Ville Cultural Center', 'Sam Sen Nok, Huai Khwang, Bangkok', '1,854,000', '35', '1', '1', 'Condo', '2023-03-28']\n",
      "['Hive Taksin', 'Khlong Ton Sai, Khlong San, Bangkok', '9,000,000', '73', '2', '2', 'Condo', '2023-03-28']\n",
      "['Rhythm Ekkamai', 'Khlong Tan Nuea, Watthana, Bangkok', '8,000,000', '35', '1', '1', 'Condo', '2023-03-28']\n",
      "['Click Condo Sukhumvit 65', 'Phra Khanong Nuea, Watthana, Bangkok', '5,200,000', '54', '1', '1.5', 'Condo', '2023-03-28']\n"
     ]
    }
   ],
   "source": [
    "for list in lists:\n",
    "    title = list.find('a', class_='unit-name unit-name--have-project-link').text.strip()\n",
    "    \n",
    "    location = list.find('div', class_='location-unit').text.strip()\n",
    "    \n",
    "    find_price = list.find('div', {'class':'price-tag'}).text.strip()\n",
    "    price = find_price.split(' ')[0].strip()[1:]\n",
    "    \n",
    "    icon = list.find('div', {'class':'wrap-icon-info'}).text.strip()\n",
    "    \n",
    "    import re\n",
    "\n",
    "    b = []\n",
    "\n",
    "    for s in icon.split():\n",
    "        if re.findall(r'\\b\\d+\\b',s):\n",
    "            b.append(s)\n",
    "            if len(b)==2:\n",
    "                bedroom = icon.split()[0]\n",
    "                bathroom = icon.split()[1]\n",
    "                area = icon.split()[3]\n",
    "            else:\n",
    "                bedroom = icon.split()[0]\n",
    "                bathroom = icon.split()[2]\n",
    "                area = icon.split()[4]\n",
    "    bedroom\n",
    "    bathroom\n",
    "    area\n",
    "    type_list = icon.split()[-1]\n",
    "\n",
    "    \n",
    "    import datetime\n",
    "    today = datetime.date.today().strftime('%Y-%m-%d')\n",
    "    \n",
    "\n",
    "                \n",
    "    \n",
    "    info = [title, location, price, area, bedroom, bathroom, type_list, today]\n",
    "    print(info)\n",
    "    "
   ]
  },
  {
   "cell_type": "markdown",
   "id": "d1679831",
   "metadata": {},
   "source": [
    "# Moving the data into a CSV file"
   ]
  },
  {
   "cell_type": "code",
   "execution_count": 123,
   "id": "8f310ad1",
   "metadata": {},
   "outputs": [],
   "source": [
    "#import to CSV file\n",
    "\n",
    "import csv\n",
    "\n",
    "header = ['title', 'location', 'price (baht)', 'area (SqM)', 'bedroom', 'bathroom', 'type', 'date']\n",
    "\n",
    "with open('RealEstate_2.csv', 'w', newline='', encoding='UTF8') as f:\n",
    "    writer = csv.writer(f)\n",
    "    writer.writerow(header)\n",
    "    \n",
    "    for list in lists:\n",
    "        title = list.find('a', class_='unit-name unit-name--have-project-link').text.strip()\n",
    "\n",
    "        location = list.find('div', class_='location-unit').text.strip()\n",
    "\n",
    "        find_price = list.find('div', {'class':'price-tag'}).text.strip()\n",
    "        price = find_price.split(' ')[0].strip()[1:]\n",
    "\n",
    "        icon = list.find('div', {'class':'wrap-icon-info'}).text.strip()\n",
    "\n",
    "        import re\n",
    "\n",
    "        b = []\n",
    "\n",
    "        for s in icon.split():\n",
    "            if re.findall(r'\\b\\d+\\b',s):\n",
    "                b.append(s)\n",
    "                if len(b)==2:\n",
    "                    bedroom = icon.split()[0]\n",
    "                    bathroom = icon.split()[1]\n",
    "                    area = icon.split()[3]\n",
    "                else:\n",
    "                    bedroom = icon.split()[0]\n",
    "                    bathroom = icon.split()[2]\n",
    "                    area = icon.split()[4]\n",
    "        bedroom\n",
    "        bathroom\n",
    "        area\n",
    "        type_list = icon.split()[-1]\n",
    "\n",
    "\n",
    "        import datetime\n",
    "        today = datetime.date.today().strftime('%Y-%m-%d')\n",
    "\n",
    "\n",
    "\n",
    "\n",
    "        info = [title, location, price, area, bedroom, bathroom, type_list, today]\n",
    "\n",
    "        writer.writerow(info)\n"
   ]
  },
  {
   "cell_type": "code",
   "execution_count": 124,
   "id": "8c9cf507",
   "metadata": {},
   "outputs": [
    {
     "data": {
      "text/html": [
       "<div>\n",
       "<style scoped>\n",
       "    .dataframe tbody tr th:only-of-type {\n",
       "        vertical-align: middle;\n",
       "    }\n",
       "\n",
       "    .dataframe tbody tr th {\n",
       "        vertical-align: top;\n",
       "    }\n",
       "\n",
       "    .dataframe thead th {\n",
       "        text-align: right;\n",
       "    }\n",
       "</style>\n",
       "<table border=\"1\" class=\"dataframe\">\n",
       "  <thead>\n",
       "    <tr style=\"text-align: right;\">\n",
       "      <th></th>\n",
       "      <th>title</th>\n",
       "      <th>location</th>\n",
       "      <th>price (baht)</th>\n",
       "      <th>area (SqM)</th>\n",
       "      <th>bedroom</th>\n",
       "      <th>bathroom</th>\n",
       "      <th>type</th>\n",
       "      <th>date</th>\n",
       "    </tr>\n",
       "  </thead>\n",
       "  <tbody>\n",
       "    <tr>\n",
       "      <th>0</th>\n",
       "      <td>First Tower</td>\n",
       "      <td>Khlong Toei Nuea, Watthana, Bangkok</td>\n",
       "      <td>3,780,000</td>\n",
       "      <td>70.00</td>\n",
       "      <td>Studio</td>\n",
       "      <td>1.0</td>\n",
       "      <td>Condo</td>\n",
       "      <td>2023-03-28</td>\n",
       "    </tr>\n",
       "    <tr>\n",
       "      <th>1</th>\n",
       "      <td>Varathorn Ville</td>\n",
       "      <td>Suan Luang, Suan Luang, Bangkok</td>\n",
       "      <td>4,900,000</td>\n",
       "      <td>300.00</td>\n",
       "      <td>5</td>\n",
       "      <td>5.0</td>\n",
       "      <td>Townhouse</td>\n",
       "      <td>2023-03-28</td>\n",
       "    </tr>\n",
       "    <tr>\n",
       "      <th>2</th>\n",
       "      <td>Sukhumvit Suite</td>\n",
       "      <td>Khlong Toei Nuea, Watthana, Bangkok</td>\n",
       "      <td>3,550,000</td>\n",
       "      <td>53.00</td>\n",
       "      <td>1</td>\n",
       "      <td>1.0</td>\n",
       "      <td>Condo</td>\n",
       "      <td>2023-03-28</td>\n",
       "    </tr>\n",
       "    <tr>\n",
       "      <th>3</th>\n",
       "      <td>The Room Sukhumvit 21</td>\n",
       "      <td>Khlong Toei Nuea, Watthana, Bangkok</td>\n",
       "      <td>8,500,000</td>\n",
       "      <td>52.00</td>\n",
       "      <td>1</td>\n",
       "      <td>1.0</td>\n",
       "      <td>Condo</td>\n",
       "      <td>2023-03-28</td>\n",
       "    </tr>\n",
       "    <tr>\n",
       "      <th>4</th>\n",
       "      <td>Supakarn Condominium</td>\n",
       "      <td>Khlong Ton Sai, Khlong San, Bangkok</td>\n",
       "      <td>28,000,000</td>\n",
       "      <td>273.00</td>\n",
       "      <td>3</td>\n",
       "      <td>3.0</td>\n",
       "      <td>Condo</td>\n",
       "      <td>2023-03-28</td>\n",
       "    </tr>\n",
       "    <tr>\n",
       "      <th>5</th>\n",
       "      <td>Passorn Prestige Onnut</td>\n",
       "      <td>Prawet, Prawet, Bangkok</td>\n",
       "      <td>6,600,000</td>\n",
       "      <td>261.00</td>\n",
       "      <td>3</td>\n",
       "      <td>2.0</td>\n",
       "      <td>House</td>\n",
       "      <td>2023-03-28</td>\n",
       "    </tr>\n",
       "    <tr>\n",
       "      <th>6</th>\n",
       "      <td>Thonglor Tower</td>\n",
       "      <td>Khlong Tan Nuea, Watthana, Bangkok</td>\n",
       "      <td>3,500,000</td>\n",
       "      <td>49.00</td>\n",
       "      <td>1</td>\n",
       "      <td>1.0</td>\n",
       "      <td>Condo</td>\n",
       "      <td>2023-03-28</td>\n",
       "    </tr>\n",
       "    <tr>\n",
       "      <th>7</th>\n",
       "      <td>River Heaven</td>\n",
       "      <td>Bang Kho Laem, Bang Kho Laem, Bangkok</td>\n",
       "      <td>8,990,000</td>\n",
       "      <td>99.00</td>\n",
       "      <td>3</td>\n",
       "      <td>2.0</td>\n",
       "      <td>Condo</td>\n",
       "      <td>2023-03-28</td>\n",
       "    </tr>\n",
       "    <tr>\n",
       "      <th>8</th>\n",
       "      <td>Mano Tower</td>\n",
       "      <td>Khlong Tan Nuea, Watthana, Bangkok</td>\n",
       "      <td>45,000,000</td>\n",
       "      <td>326.00</td>\n",
       "      <td>2</td>\n",
       "      <td>3.0</td>\n",
       "      <td>Condo</td>\n",
       "      <td>2023-03-28</td>\n",
       "    </tr>\n",
       "    <tr>\n",
       "      <th>9</th>\n",
       "      <td>The Park Chidlom</td>\n",
       "      <td>Lumphini, Pathum Wan, Bangkok</td>\n",
       "      <td>38,200,000</td>\n",
       "      <td>146.00</td>\n",
       "      <td>2</td>\n",
       "      <td>3.0</td>\n",
       "      <td>Condo</td>\n",
       "      <td>2023-03-28</td>\n",
       "    </tr>\n",
       "    <tr>\n",
       "      <th>10</th>\n",
       "      <td>Resorta Watcharapol</td>\n",
       "      <td>Tha Raeng, Bang Khen, Bangkok</td>\n",
       "      <td>3,490,000</td>\n",
       "      <td>190.00</td>\n",
       "      <td>3</td>\n",
       "      <td>4.0</td>\n",
       "      <td>Townhouse</td>\n",
       "      <td>2023-03-28</td>\n",
       "    </tr>\n",
       "    <tr>\n",
       "      <th>11</th>\n",
       "      <td>Baan Sansiri Sukhumvit 67</td>\n",
       "      <td>Phra Khanong Nuea, Watthana, Bangkok</td>\n",
       "      <td>93,000,000</td>\n",
       "      <td>376.00</td>\n",
       "      <td>4</td>\n",
       "      <td>5.0</td>\n",
       "      <td>House</td>\n",
       "      <td>2023-03-28</td>\n",
       "    </tr>\n",
       "    <tr>\n",
       "      <th>12</th>\n",
       "      <td>Life Ladprao Valley</td>\n",
       "      <td>Chomphon, Chatuchak, Bangkok</td>\n",
       "      <td>6,090,000</td>\n",
       "      <td>35.00</td>\n",
       "      <td>1</td>\n",
       "      <td>1.0</td>\n",
       "      <td>Condo</td>\n",
       "      <td>2023-03-28</td>\n",
       "    </tr>\n",
       "    <tr>\n",
       "      <th>13</th>\n",
       "      <td>My Condo Sukhumvit 52</td>\n",
       "      <td>Bang Chak, Phra Khanong, Bangkok</td>\n",
       "      <td>2,600,000</td>\n",
       "      <td>35.19</td>\n",
       "      <td>1</td>\n",
       "      <td>1.0</td>\n",
       "      <td>Condo</td>\n",
       "      <td>2023-03-28</td>\n",
       "    </tr>\n",
       "    <tr>\n",
       "      <th>14</th>\n",
       "      <td>Wyndham Bangkok Queen Convention Centre</td>\n",
       "      <td>Khlong Toei, Khlong Toei, Bangkok</td>\n",
       "      <td>13,500,000</td>\n",
       "      <td>83.00</td>\n",
       "      <td>2</td>\n",
       "      <td>2.0</td>\n",
       "      <td>Condo</td>\n",
       "      <td>2023-03-28</td>\n",
       "    </tr>\n",
       "    <tr>\n",
       "      <th>15</th>\n",
       "      <td>Aspire Sukhumvit-Rama 4</td>\n",
       "      <td>Phra Khanong, Khlong Toei, Bangkok</td>\n",
       "      <td>5,563,425</td>\n",
       "      <td>55.00</td>\n",
       "      <td>2</td>\n",
       "      <td>2.0</td>\n",
       "      <td>Condo</td>\n",
       "      <td>2023-03-28</td>\n",
       "    </tr>\n",
       "    <tr>\n",
       "      <th>16</th>\n",
       "      <td>Baan Saraan</td>\n",
       "      <td>Khlong Toei Nuea, Watthana, Bangkok</td>\n",
       "      <td>34,000,000</td>\n",
       "      <td>300.00</td>\n",
       "      <td>3</td>\n",
       "      <td>3.0</td>\n",
       "      <td>Penthouse</td>\n",
       "      <td>2023-03-28</td>\n",
       "    </tr>\n",
       "    <tr>\n",
       "      <th>17</th>\n",
       "      <td>Belle Grand Rama 9</td>\n",
       "      <td>Huai Khwang, Huai Khwang, Bangkok</td>\n",
       "      <td>27,000,000</td>\n",
       "      <td>182.00</td>\n",
       "      <td>2</td>\n",
       "      <td>4.0</td>\n",
       "      <td>Penthouse</td>\n",
       "      <td>2023-03-28</td>\n",
       "    </tr>\n",
       "    <tr>\n",
       "      <th>18</th>\n",
       "      <td>Baan Ploenchit</td>\n",
       "      <td>Lumphini, Pathum Wan, Bangkok</td>\n",
       "      <td>45,000,000</td>\n",
       "      <td>360.00</td>\n",
       "      <td>3</td>\n",
       "      <td>3.0</td>\n",
       "      <td>Penthouse</td>\n",
       "      <td>2023-03-28</td>\n",
       "    </tr>\n",
       "    <tr>\n",
       "      <th>19</th>\n",
       "      <td>Supalai Park Kaset</td>\n",
       "      <td>Sena Nikhom, Chatuchak, Bangkok</td>\n",
       "      <td>3,039,000</td>\n",
       "      <td>51.00</td>\n",
       "      <td>1</td>\n",
       "      <td>1.0</td>\n",
       "      <td>Condo</td>\n",
       "      <td>2023-03-28</td>\n",
       "    </tr>\n",
       "    <tr>\n",
       "      <th>20</th>\n",
       "      <td>Casa Ekamai 28</td>\n",
       "      <td>Khlong Tan Nuea, Watthana, Bangkok</td>\n",
       "      <td>89,000,000</td>\n",
       "      <td>846.00</td>\n",
       "      <td>4</td>\n",
       "      <td>4.0</td>\n",
       "      <td>House</td>\n",
       "      <td>2023-03-28</td>\n",
       "    </tr>\n",
       "    <tr>\n",
       "      <th>21</th>\n",
       "      <td>28 Chidlom</td>\n",
       "      <td>Lumphini, Pathum Wan, Bangkok</td>\n",
       "      <td>27,900,000</td>\n",
       "      <td>78.00</td>\n",
       "      <td>2</td>\n",
       "      <td>2.0</td>\n",
       "      <td>Condo</td>\n",
       "      <td>2023-03-28</td>\n",
       "    </tr>\n",
       "    <tr>\n",
       "      <th>22</th>\n",
       "      <td>Thonglor Tower</td>\n",
       "      <td>Khlong Tan Nuea, Watthana, Bangkok</td>\n",
       "      <td>3,300,000</td>\n",
       "      <td>49.00</td>\n",
       "      <td>1</td>\n",
       "      <td>1.0</td>\n",
       "      <td>Condo</td>\n",
       "      <td>2023-03-28</td>\n",
       "    </tr>\n",
       "    <tr>\n",
       "      <th>23</th>\n",
       "      <td>The Strand Thonglor</td>\n",
       "      <td>Khlong Tan Nuea, Watthana, Bangkok</td>\n",
       "      <td>19,500,000</td>\n",
       "      <td>55.00</td>\n",
       "      <td>1</td>\n",
       "      <td>1.0</td>\n",
       "      <td>Condo</td>\n",
       "      <td>2023-03-28</td>\n",
       "    </tr>\n",
       "    <tr>\n",
       "      <th>24</th>\n",
       "      <td>Commonwealth Pinklao</td>\n",
       "      <td>Bang Bamru, Bang Phlat, Bangkok</td>\n",
       "      <td>3,150,000</td>\n",
       "      <td>46.00</td>\n",
       "      <td>1</td>\n",
       "      <td>1.0</td>\n",
       "      <td>Apartment</td>\n",
       "      <td>2023-03-28</td>\n",
       "    </tr>\n",
       "    <tr>\n",
       "      <th>25</th>\n",
       "      <td>Thonglor Tower</td>\n",
       "      <td>Khlong Tan Nuea, Watthana, Bangkok</td>\n",
       "      <td>6,800,000</td>\n",
       "      <td>99.00</td>\n",
       "      <td>2</td>\n",
       "      <td>2.0</td>\n",
       "      <td>Condo</td>\n",
       "      <td>2023-03-28</td>\n",
       "    </tr>\n",
       "    <tr>\n",
       "      <th>26</th>\n",
       "      <td>Lumpini Ville Cultural Center</td>\n",
       "      <td>Sam Sen Nok, Huai Khwang, Bangkok</td>\n",
       "      <td>1,854,000</td>\n",
       "      <td>35.00</td>\n",
       "      <td>1</td>\n",
       "      <td>1.0</td>\n",
       "      <td>Condo</td>\n",
       "      <td>2023-03-28</td>\n",
       "    </tr>\n",
       "    <tr>\n",
       "      <th>27</th>\n",
       "      <td>Hive Taksin</td>\n",
       "      <td>Khlong Ton Sai, Khlong San, Bangkok</td>\n",
       "      <td>9,000,000</td>\n",
       "      <td>73.00</td>\n",
       "      <td>2</td>\n",
       "      <td>2.0</td>\n",
       "      <td>Condo</td>\n",
       "      <td>2023-03-28</td>\n",
       "    </tr>\n",
       "    <tr>\n",
       "      <th>28</th>\n",
       "      <td>Rhythm Ekkamai</td>\n",
       "      <td>Khlong Tan Nuea, Watthana, Bangkok</td>\n",
       "      <td>8,000,000</td>\n",
       "      <td>35.00</td>\n",
       "      <td>1</td>\n",
       "      <td>1.0</td>\n",
       "      <td>Condo</td>\n",
       "      <td>2023-03-28</td>\n",
       "    </tr>\n",
       "    <tr>\n",
       "      <th>29</th>\n",
       "      <td>Click Condo Sukhumvit 65</td>\n",
       "      <td>Phra Khanong Nuea, Watthana, Bangkok</td>\n",
       "      <td>5,200,000</td>\n",
       "      <td>54.00</td>\n",
       "      <td>1</td>\n",
       "      <td>1.5</td>\n",
       "      <td>Condo</td>\n",
       "      <td>2023-03-28</td>\n",
       "    </tr>\n",
       "  </tbody>\n",
       "</table>\n",
       "</div>"
      ],
      "text/plain": [
       "                                      title  \\\n",
       "0                               First Tower   \n",
       "1                           Varathorn Ville   \n",
       "2                           Sukhumvit Suite   \n",
       "3                     The Room Sukhumvit 21   \n",
       "4                      Supakarn Condominium   \n",
       "5                    Passorn Prestige Onnut   \n",
       "6                            Thonglor Tower   \n",
       "7                              River Heaven   \n",
       "8                                Mano Tower   \n",
       "9                          The Park Chidlom   \n",
       "10                      Resorta Watcharapol   \n",
       "11                Baan Sansiri Sukhumvit 67   \n",
       "12                      Life Ladprao Valley   \n",
       "13                    My Condo Sukhumvit 52   \n",
       "14  Wyndham Bangkok Queen Convention Centre   \n",
       "15                  Aspire Sukhumvit-Rama 4   \n",
       "16                              Baan Saraan   \n",
       "17                       Belle Grand Rama 9   \n",
       "18                           Baan Ploenchit   \n",
       "19                       Supalai Park Kaset   \n",
       "20                           Casa Ekamai 28   \n",
       "21                               28 Chidlom   \n",
       "22                           Thonglor Tower   \n",
       "23                      The Strand Thonglor   \n",
       "24                     Commonwealth Pinklao   \n",
       "25                           Thonglor Tower   \n",
       "26            Lumpini Ville Cultural Center   \n",
       "27                              Hive Taksin   \n",
       "28                           Rhythm Ekkamai   \n",
       "29                 Click Condo Sukhumvit 65   \n",
       "\n",
       "                                 location price (baht)  area (SqM) bedroom  \\\n",
       "0     Khlong Toei Nuea, Watthana, Bangkok    3,780,000       70.00  Studio   \n",
       "1         Suan Luang, Suan Luang, Bangkok    4,900,000      300.00       5   \n",
       "2     Khlong Toei Nuea, Watthana, Bangkok    3,550,000       53.00       1   \n",
       "3     Khlong Toei Nuea, Watthana, Bangkok    8,500,000       52.00       1   \n",
       "4     Khlong Ton Sai, Khlong San, Bangkok   28,000,000      273.00       3   \n",
       "5                 Prawet, Prawet, Bangkok    6,600,000      261.00       3   \n",
       "6      Khlong Tan Nuea, Watthana, Bangkok    3,500,000       49.00       1   \n",
       "7   Bang Kho Laem, Bang Kho Laem, Bangkok    8,990,000       99.00       3   \n",
       "8      Khlong Tan Nuea, Watthana, Bangkok   45,000,000      326.00       2   \n",
       "9           Lumphini, Pathum Wan, Bangkok   38,200,000      146.00       2   \n",
       "10          Tha Raeng, Bang Khen, Bangkok    3,490,000      190.00       3   \n",
       "11   Phra Khanong Nuea, Watthana, Bangkok   93,000,000      376.00       4   \n",
       "12           Chomphon, Chatuchak, Bangkok    6,090,000       35.00       1   \n",
       "13       Bang Chak, Phra Khanong, Bangkok    2,600,000       35.19       1   \n",
       "14      Khlong Toei, Khlong Toei, Bangkok   13,500,000       83.00       2   \n",
       "15     Phra Khanong, Khlong Toei, Bangkok    5,563,425       55.00       2   \n",
       "16    Khlong Toei Nuea, Watthana, Bangkok   34,000,000      300.00       3   \n",
       "17      Huai Khwang, Huai Khwang, Bangkok   27,000,000      182.00       2   \n",
       "18          Lumphini, Pathum Wan, Bangkok   45,000,000      360.00       3   \n",
       "19        Sena Nikhom, Chatuchak, Bangkok    3,039,000       51.00       1   \n",
       "20     Khlong Tan Nuea, Watthana, Bangkok   89,000,000      846.00       4   \n",
       "21          Lumphini, Pathum Wan, Bangkok   27,900,000       78.00       2   \n",
       "22     Khlong Tan Nuea, Watthana, Bangkok    3,300,000       49.00       1   \n",
       "23     Khlong Tan Nuea, Watthana, Bangkok   19,500,000       55.00       1   \n",
       "24        Bang Bamru, Bang Phlat, Bangkok    3,150,000       46.00       1   \n",
       "25     Khlong Tan Nuea, Watthana, Bangkok    6,800,000       99.00       2   \n",
       "26      Sam Sen Nok, Huai Khwang, Bangkok    1,854,000       35.00       1   \n",
       "27    Khlong Ton Sai, Khlong San, Bangkok    9,000,000       73.00       2   \n",
       "28     Khlong Tan Nuea, Watthana, Bangkok    8,000,000       35.00       1   \n",
       "29   Phra Khanong Nuea, Watthana, Bangkok    5,200,000       54.00       1   \n",
       "\n",
       "    bathroom       type        date  \n",
       "0        1.0      Condo  2023-03-28  \n",
       "1        5.0  Townhouse  2023-03-28  \n",
       "2        1.0      Condo  2023-03-28  \n",
       "3        1.0      Condo  2023-03-28  \n",
       "4        3.0      Condo  2023-03-28  \n",
       "5        2.0      House  2023-03-28  \n",
       "6        1.0      Condo  2023-03-28  \n",
       "7        2.0      Condo  2023-03-28  \n",
       "8        3.0      Condo  2023-03-28  \n",
       "9        3.0      Condo  2023-03-28  \n",
       "10       4.0  Townhouse  2023-03-28  \n",
       "11       5.0      House  2023-03-28  \n",
       "12       1.0      Condo  2023-03-28  \n",
       "13       1.0      Condo  2023-03-28  \n",
       "14       2.0      Condo  2023-03-28  \n",
       "15       2.0      Condo  2023-03-28  \n",
       "16       3.0  Penthouse  2023-03-28  \n",
       "17       4.0  Penthouse  2023-03-28  \n",
       "18       3.0  Penthouse  2023-03-28  \n",
       "19       1.0      Condo  2023-03-28  \n",
       "20       4.0      House  2023-03-28  \n",
       "21       2.0      Condo  2023-03-28  \n",
       "22       1.0      Condo  2023-03-28  \n",
       "23       1.0      Condo  2023-03-28  \n",
       "24       1.0  Apartment  2023-03-28  \n",
       "25       2.0      Condo  2023-03-28  \n",
       "26       1.0      Condo  2023-03-28  \n",
       "27       2.0      Condo  2023-03-28  \n",
       "28       1.0      Condo  2023-03-28  \n",
       "29       1.5      Condo  2023-03-28  "
      ]
     },
     "execution_count": 124,
     "metadata": {},
     "output_type": "execute_result"
    }
   ],
   "source": [
    "df = pd.read_csv(r\"C:\\Users\\Lenovo\\RealEstate_2.csv\")\n",
    "df"
   ]
  },
  {
   "cell_type": "markdown",
   "id": "daca3de4",
   "metadata": {},
   "source": [
    "# Moving it into Multiple pages"
   ]
  },
  {
   "cell_type": "markdown",
   "id": "b5c5a343",
   "metadata": {},
   "source": [
    "Make it multiple pages and put in dataframe to save csv file instead"
   ]
  },
  {
   "cell_type": "code",
   "execution_count": 125,
   "id": "f337625c",
   "metadata": {},
   "outputs": [],
   "source": [
    "\n",
    "\n",
    "book_estate = []\n",
    "\n",
    "for i in range(1,5):\n",
    "    url='https://www.fazwaz.com/property-for-sale/thailand/bangkok' + '?order_by=rank|asc' + '&page={i}'\n",
    "    page = requests.get(url)\n",
    "    soup1 = BeautifulSoup(page.content, 'html.parser')\n",
    "    soup2 = BeautifulSoup(soup1.prettify(), 'html.parser')\n",
    "    lists = soup2.find_all('li', {'data-tk':'unit-result'})\n",
    "\n",
    "    for list in lists:\n",
    "        title = list.find('a', class_='unit-name unit-name--have-project-link').text.strip()\n",
    "\n",
    "        location = list.find('div', class_='location-unit').text.strip()\n",
    "\n",
    "        find_price = list.find('div', {'class':'price-tag'}).text.strip()\n",
    "        price = find_price.split(' ')[0].strip()[1:]\n",
    "\n",
    "        icon = list.find('div', {'class':'wrap-icon-info'}).text.strip()\n",
    "\n",
    "        import re\n",
    "\n",
    "        b = []\n",
    "\n",
    "        for s in icon.split():\n",
    "            if re.findall(r'\\b\\d+\\b',s):\n",
    "                b.append(s)\n",
    "                if len(b)==2:\n",
    "                    bedroom = icon.split()[0]\n",
    "                    bathroom = icon.split()[1]\n",
    "                    area = icon.split()[3]\n",
    "                else:\n",
    "                    bedroom = icon.split()[0]\n",
    "                    bathroom = icon.split()[2]\n",
    "                    area = icon.split()[4]\n",
    "        bedroom\n",
    "        bathroom\n",
    "        area\n",
    "        type_list = icon.split()[-1]\n",
    "\n",
    "        import datetime\n",
    "        today = datetime.date.today().strftime('%Y-%m-%d')\n",
    "\n",
    "\n",
    "        book_estate.append([title, location, price, area, bedroom, bathroom, type_list, today])\n",
    "\n",
    "\n",
    "\n"
   ]
  },
  {
   "cell_type": "code",
   "execution_count": 126,
   "id": "b3806926",
   "metadata": {},
   "outputs": [],
   "source": [
    "#put it into dataframe\n",
    "\n",
    "df = pd.DataFrame(book_estate, columns=['title', 'location', 'price (baht)', 'area (SqM)', 'bedroom', 'bathroom', 'type', 'date'])"
   ]
  },
  {
   "cell_type": "code",
   "execution_count": 127,
   "id": "3ce9fd6d",
   "metadata": {},
   "outputs": [],
   "source": [
    "df.to_csv('book_estate.csv')"
   ]
  },
  {
   "cell_type": "code",
   "execution_count": 128,
   "id": "df07ea27",
   "metadata": {},
   "outputs": [
    {
     "data": {
      "text/html": [
       "<div>\n",
       "<style scoped>\n",
       "    .dataframe tbody tr th:only-of-type {\n",
       "        vertical-align: middle;\n",
       "    }\n",
       "\n",
       "    .dataframe tbody tr th {\n",
       "        vertical-align: top;\n",
       "    }\n",
       "\n",
       "    .dataframe thead th {\n",
       "        text-align: right;\n",
       "    }\n",
       "</style>\n",
       "<table border=\"1\" class=\"dataframe\">\n",
       "  <thead>\n",
       "    <tr style=\"text-align: right;\">\n",
       "      <th></th>\n",
       "      <th>title</th>\n",
       "      <th>location</th>\n",
       "      <th>price (baht)</th>\n",
       "      <th>area (SqM)</th>\n",
       "      <th>bedroom</th>\n",
       "      <th>bathroom</th>\n",
       "      <th>type</th>\n",
       "      <th>date</th>\n",
       "    </tr>\n",
       "  </thead>\n",
       "  <tbody>\n",
       "    <tr>\n",
       "      <th>0</th>\n",
       "      <td>First Tower</td>\n",
       "      <td>Khlong Toei Nuea, Watthana, Bangkok</td>\n",
       "      <td>3,780,000</td>\n",
       "      <td>70</td>\n",
       "      <td>Studio</td>\n",
       "      <td>1</td>\n",
       "      <td>Condo</td>\n",
       "      <td>2023-03-28</td>\n",
       "    </tr>\n",
       "    <tr>\n",
       "      <th>1</th>\n",
       "      <td>Varathorn Ville</td>\n",
       "      <td>Suan Luang, Suan Luang, Bangkok</td>\n",
       "      <td>4,900,000</td>\n",
       "      <td>300</td>\n",
       "      <td>5</td>\n",
       "      <td>5</td>\n",
       "      <td>Townhouse</td>\n",
       "      <td>2023-03-28</td>\n",
       "    </tr>\n",
       "    <tr>\n",
       "      <th>2</th>\n",
       "      <td>Sukhumvit Suite</td>\n",
       "      <td>Khlong Toei Nuea, Watthana, Bangkok</td>\n",
       "      <td>3,550,000</td>\n",
       "      <td>53</td>\n",
       "      <td>1</td>\n",
       "      <td>1</td>\n",
       "      <td>Condo</td>\n",
       "      <td>2023-03-28</td>\n",
       "    </tr>\n",
       "    <tr>\n",
       "      <th>3</th>\n",
       "      <td>The Room Sukhumvit 21</td>\n",
       "      <td>Khlong Toei Nuea, Watthana, Bangkok</td>\n",
       "      <td>8,500,000</td>\n",
       "      <td>52</td>\n",
       "      <td>1</td>\n",
       "      <td>1</td>\n",
       "      <td>Condo</td>\n",
       "      <td>2023-03-28</td>\n",
       "    </tr>\n",
       "    <tr>\n",
       "      <th>4</th>\n",
       "      <td>Supakarn Condominium</td>\n",
       "      <td>Khlong Ton Sai, Khlong San, Bangkok</td>\n",
       "      <td>28,000,000</td>\n",
       "      <td>273</td>\n",
       "      <td>3</td>\n",
       "      <td>3</td>\n",
       "      <td>Condo</td>\n",
       "      <td>2023-03-28</td>\n",
       "    </tr>\n",
       "    <tr>\n",
       "      <th>...</th>\n",
       "      <td>...</td>\n",
       "      <td>...</td>\n",
       "      <td>...</td>\n",
       "      <td>...</td>\n",
       "      <td>...</td>\n",
       "      <td>...</td>\n",
       "      <td>...</td>\n",
       "      <td>...</td>\n",
       "    </tr>\n",
       "    <tr>\n",
       "      <th>115</th>\n",
       "      <td>Thonglor Tower</td>\n",
       "      <td>Khlong Tan Nuea, Watthana, Bangkok</td>\n",
       "      <td>6,800,000</td>\n",
       "      <td>99</td>\n",
       "      <td>2</td>\n",
       "      <td>2</td>\n",
       "      <td>Condo</td>\n",
       "      <td>2023-03-28</td>\n",
       "    </tr>\n",
       "    <tr>\n",
       "      <th>116</th>\n",
       "      <td>Lumpini Ville Cultural Center</td>\n",
       "      <td>Sam Sen Nok, Huai Khwang, Bangkok</td>\n",
       "      <td>1,854,000</td>\n",
       "      <td>35</td>\n",
       "      <td>1</td>\n",
       "      <td>1</td>\n",
       "      <td>Condo</td>\n",
       "      <td>2023-03-28</td>\n",
       "    </tr>\n",
       "    <tr>\n",
       "      <th>117</th>\n",
       "      <td>Hive Taksin</td>\n",
       "      <td>Khlong Ton Sai, Khlong San, Bangkok</td>\n",
       "      <td>9,000,000</td>\n",
       "      <td>73</td>\n",
       "      <td>2</td>\n",
       "      <td>2</td>\n",
       "      <td>Condo</td>\n",
       "      <td>2023-03-28</td>\n",
       "    </tr>\n",
       "    <tr>\n",
       "      <th>118</th>\n",
       "      <td>Rhythm Ekkamai</td>\n",
       "      <td>Khlong Tan Nuea, Watthana, Bangkok</td>\n",
       "      <td>8,000,000</td>\n",
       "      <td>35</td>\n",
       "      <td>1</td>\n",
       "      <td>1</td>\n",
       "      <td>Condo</td>\n",
       "      <td>2023-03-28</td>\n",
       "    </tr>\n",
       "    <tr>\n",
       "      <th>119</th>\n",
       "      <td>Click Condo Sukhumvit 65</td>\n",
       "      <td>Phra Khanong Nuea, Watthana, Bangkok</td>\n",
       "      <td>5,200,000</td>\n",
       "      <td>54</td>\n",
       "      <td>1</td>\n",
       "      <td>1.5</td>\n",
       "      <td>Condo</td>\n",
       "      <td>2023-03-28</td>\n",
       "    </tr>\n",
       "  </tbody>\n",
       "</table>\n",
       "<p>120 rows × 8 columns</p>\n",
       "</div>"
      ],
      "text/plain": [
       "                             title                              location  \\\n",
       "0                      First Tower   Khlong Toei Nuea, Watthana, Bangkok   \n",
       "1                  Varathorn Ville       Suan Luang, Suan Luang, Bangkok   \n",
       "2                  Sukhumvit Suite   Khlong Toei Nuea, Watthana, Bangkok   \n",
       "3            The Room Sukhumvit 21   Khlong Toei Nuea, Watthana, Bangkok   \n",
       "4             Supakarn Condominium   Khlong Ton Sai, Khlong San, Bangkok   \n",
       "..                             ...                                   ...   \n",
       "115                 Thonglor Tower    Khlong Tan Nuea, Watthana, Bangkok   \n",
       "116  Lumpini Ville Cultural Center     Sam Sen Nok, Huai Khwang, Bangkok   \n",
       "117                    Hive Taksin   Khlong Ton Sai, Khlong San, Bangkok   \n",
       "118                 Rhythm Ekkamai    Khlong Tan Nuea, Watthana, Bangkok   \n",
       "119       Click Condo Sukhumvit 65  Phra Khanong Nuea, Watthana, Bangkok   \n",
       "\n",
       "    price (baht) area (SqM) bedroom bathroom       type        date  \n",
       "0      3,780,000         70  Studio        1      Condo  2023-03-28  \n",
       "1      4,900,000        300       5        5  Townhouse  2023-03-28  \n",
       "2      3,550,000         53       1        1      Condo  2023-03-28  \n",
       "3      8,500,000         52       1        1      Condo  2023-03-28  \n",
       "4     28,000,000        273       3        3      Condo  2023-03-28  \n",
       "..           ...        ...     ...      ...        ...         ...  \n",
       "115    6,800,000         99       2        2      Condo  2023-03-28  \n",
       "116    1,854,000         35       1        1      Condo  2023-03-28  \n",
       "117    9,000,000         73       2        2      Condo  2023-03-28  \n",
       "118    8,000,000         35       1        1      Condo  2023-03-28  \n",
       "119    5,200,000         54       1      1.5      Condo  2023-03-28  \n",
       "\n",
       "[120 rows x 8 columns]"
      ]
     },
     "execution_count": 128,
     "metadata": {},
     "output_type": "execute_result"
    }
   ],
   "source": [
    "df"
   ]
  },
  {
   "cell_type": "code",
   "execution_count": null,
   "id": "c80c3a42",
   "metadata": {},
   "outputs": [],
   "source": []
  },
  {
   "cell_type": "code",
   "execution_count": null,
   "id": "63e7f661",
   "metadata": {},
   "outputs": [],
   "source": []
  },
  {
   "cell_type": "code",
   "execution_count": null,
   "id": "f90c56bc",
   "metadata": {},
   "outputs": [],
   "source": []
  },
  {
   "cell_type": "code",
   "execution_count": null,
   "id": "7ab0954f",
   "metadata": {},
   "outputs": [],
   "source": []
  },
  {
   "cell_type": "code",
   "execution_count": null,
   "id": "35ee287c",
   "metadata": {},
   "outputs": [],
   "source": []
  }
 ],
 "metadata": {
  "kernelspec": {
   "display_name": "Python 3 (ipykernel)",
   "language": "python",
   "name": "python3"
  },
  "language_info": {
   "codemirror_mode": {
    "name": "ipython",
    "version": 3
   },
   "file_extension": ".py",
   "mimetype": "text/x-python",
   "name": "python",
   "nbconvert_exporter": "python",
   "pygments_lexer": "ipython3",
   "version": "3.9.13"
  }
 },
 "nbformat": 4,
 "nbformat_minor": 5
}
